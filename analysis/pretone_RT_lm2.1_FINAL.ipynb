{
 "cells": [
  {
   "cell_type": "markdown",
   "metadata": {},
   "source": [
    "This script is used for RT analysis for the stimulus-based condition in section:\n",
    "\"Rule- and stimulus-based biases had different effects on choices and RTs\""
   ]
  },
  {
   "cell_type": "code",
   "execution_count": 1,
   "metadata": {},
   "outputs": [
    {
     "name": "stderr",
     "output_type": "stream",
     "text": [
      "Loading required package: Matrix\n",
      "\n",
      "Registered S3 methods overwritten by 'tibble':\n",
      "  method     from  \n",
      "  format.tbl pillar\n",
      "  print.tbl  pillar\n",
      "\n",
      "\n",
      "Attaching package: 'dplyr'\n",
      "\n",
      "\n",
      "The following objects are masked from 'package:stats':\n",
      "\n",
      "    filter, lag\n",
      "\n",
      "\n",
      "The following objects are masked from 'package:base':\n",
      "\n",
      "    intersect, setdiff, setequal, union\n",
      "\n",
      "\n",
      "Warning message:\n",
      "\"package 'car' was built under R version 4.0.4\"\n",
      "Loading required package: carData\n",
      "\n",
      "Registered S3 methods overwritten by 'car':\n",
      "  method                          from\n",
      "  influence.merMod                lme4\n",
      "  cooks.distance.influence.merMod lme4\n",
      "  dfbeta.influence.merMod         lme4\n",
      "  dfbetas.influence.merMod        lme4\n",
      "\n",
      "\n",
      "Attaching package: 'car'\n",
      "\n",
      "\n",
      "The following object is masked from 'package:dplyr':\n",
      "\n",
      "    recode\n",
      "\n",
      "\n",
      "Warning message:\n",
      "\"package 'lmerTest' was built under R version 4.0.4\"\n",
      "\n",
      "Attaching package: 'lmerTest'\n",
      "\n",
      "\n",
      "The following object is masked from 'package:lme4':\n",
      "\n",
      "    lmer\n",
      "\n",
      "\n",
      "The following object is masked from 'package:stats':\n",
      "\n",
      "    step\n",
      "\n",
      "\n",
      "Warning message:\n",
      "\"package 'emmeans' was built under R version 4.0.4\"\n",
      "Warning message:\n",
      "\"package 'ggplot2' was built under R version 4.0.4\"\n"
     ]
    }
   ],
   "source": [
    "#clear memory\n",
    "rm(list=ls())\n",
    "\n",
    "#This implements simple RT analyses of pretone data\n",
    "#choice analyses are now handled by fits of psychometric function in Matlab\n",
    "\n",
    "\n",
    "## loading data/libraries ##\n",
    "\n",
    "#load libraries\n",
    "library(lme4)\n",
    "#library(plyr)\n",
    "library(dplyr)\n",
    "#library(tidyr)\n",
    "library(car)\n",
    "library(lmerTest)\n",
    "library(emmeans)\n",
    "#library(afex)\n",
    "emm_options(lmerTest.limit = 22676)\n",
    "library(lattice)\n",
    "library(ggplot2)\n",
    "\n",
    "se <- function(x) sqrt(var(x) / length(x))\n",
    "\n",
    "switch(Sys.info()[['sysname']],\n",
    "       Windows = PROJECT_DIR <- paste0('C:/Users/',Sys.getenv('USERNAME'),\n",
    "                                       '/Dropbox/Goldlab/AuditoryPriors/'),\n",
    "       Darwin = PROJECT_DIR <- '~/Dropbox/Goldlab/AuditoryPriors/'\n",
    ")\n",
    "\n",
    "setwd(paste0(PROJECT_DIR,'data processing'))\n",
    "\n",
    "\n",
    "DATA_DIR = './data/'\n",
    "DATA_FILE ='pretoneOnly_for_R_29-May-2020.csv'\n",
    "\n",
    "pt_df <- read.table(paste0(DATA_DIR,DATA_FILE),sep=',', header=TRUE, \n",
    "                    stringsAsFactors=FALSE,na.strings = 'NaN')\n",
    "\n",
    "#get rid of 0 pretones trials and missing trials in case this wasn't already done\n",
    "pt_df <- arrange(subset(pt_df,pretoneLength > 0),subject,trialID)\n",
    "\n",
    "#remove missing data\n",
    "pt_df <- subset(pt_df,!is.na(choice01) & !is.na(RT))"
   ]
  },
  {
   "cell_type": "code",
   "execution_count": 2,
   "metadata": {},
   "outputs": [
    {
     "data": {
      "text/html": [
       "<table class=\"dataframe\">\n",
       "<caption>A data.frame: 8 × 4</caption>\n",
       "<thead>\n",
       "\t<tr><th scope=col>congruent</th><th scope=col>isH</th><th scope=col>pretoneSeqisH_1</th><th scope=col>pretoneSeqisH_2</th></tr>\n",
       "\t<tr><th scope=col>&lt;dbl&gt;</th><th scope=col>&lt;int&gt;</th><th scope=col>&lt;int&gt;</th><th scope=col>&lt;int&gt;</th></tr>\n",
       "</thead>\n",
       "<tbody>\n",
       "\t<tr><td>0</td><td>0</td><td>1</td><td>1</td></tr>\n",
       "\t<tr><td>0</td><td>1</td><td>0</td><td>0</td></tr>\n",
       "\t<tr><td>1</td><td>0</td><td>1</td><td>0</td></tr>\n",
       "\t<tr><td>1</td><td>1</td><td>0</td><td>1</td></tr>\n",
       "\t<tr><td>2</td><td>0</td><td>0</td><td>1</td></tr>\n",
       "\t<tr><td>2</td><td>1</td><td>1</td><td>0</td></tr>\n",
       "\t<tr><td>3</td><td>0</td><td>0</td><td>0</td></tr>\n",
       "\t<tr><td>3</td><td>1</td><td>1</td><td>1</td></tr>\n",
       "</tbody>\n",
       "</table>\n"
      ],
      "text/latex": [
       "A data.frame: 8 × 4\n",
       "\\begin{tabular}{llll}\n",
       " congruent & isH & pretoneSeqisH\\_1 & pretoneSeqisH\\_2\\\\\n",
       " <dbl> & <int> & <int> & <int>\\\\\n",
       "\\hline\n",
       "\t 0 & 0 & 1 & 1\\\\\n",
       "\t 0 & 1 & 0 & 0\\\\\n",
       "\t 1 & 0 & 1 & 0\\\\\n",
       "\t 1 & 1 & 0 & 1\\\\\n",
       "\t 2 & 0 & 0 & 1\\\\\n",
       "\t 2 & 1 & 1 & 0\\\\\n",
       "\t 3 & 0 & 0 & 0\\\\\n",
       "\t 3 & 1 & 1 & 1\\\\\n",
       "\\end{tabular}\n"
      ],
      "text/markdown": [
       "\n",
       "A data.frame: 8 × 4\n",
       "\n",
       "| congruent &lt;dbl&gt; | isH &lt;int&gt; | pretoneSeqisH_1 &lt;int&gt; | pretoneSeqisH_2 &lt;int&gt; |\n",
       "|---|---|---|---|\n",
       "| 0 | 0 | 1 | 1 |\n",
       "| 0 | 1 | 0 | 0 |\n",
       "| 1 | 0 | 1 | 0 |\n",
       "| 1 | 1 | 0 | 1 |\n",
       "| 2 | 0 | 0 | 1 |\n",
       "| 2 | 1 | 1 | 0 |\n",
       "| 3 | 0 | 0 | 0 |\n",
       "| 3 | 1 | 1 | 1 |\n",
       "\n"
      ],
      "text/plain": [
       "  congruent isH pretoneSeqisH_1 pretoneSeqisH_2\n",
       "1 0         0   1               1              \n",
       "2 0         1   0               0              \n",
       "3 1         0   1               0              \n",
       "4 1         1   0               1              \n",
       "5 2         0   0               1              \n",
       "6 2         1   1               0              \n",
       "7 3         0   0               0              \n",
       "8 3         1   1               1              "
      ]
     },
     "metadata": {},
     "output_type": "display_data"
    },
    {
     "name": "stderr",
     "output_type": "stream",
     "text": [
      "`summarise()` regrouping output by 'subject', 'aSNR', 'congruent', 'isH', 'pretoneSeqisH_1' (override with `.groups` argument)\n",
      "\n"
     ]
    },
    {
     "data": {
      "text/html": [
       "<table class=\"dataframe\">\n",
       "<caption>A matrix: 4 × 3 of type dbl</caption>\n",
       "<tbody>\n",
       "\t<tr><th scope=row>CC</th><td> 1</td><td> 0</td><td> 0</td></tr>\n",
       "\t<tr><th scope=row>CI</th><td> 0</td><td> 1</td><td> 0</td></tr>\n",
       "\t<tr><th scope=row>IC</th><td> 0</td><td> 0</td><td> 1</td></tr>\n",
       "\t<tr><th scope=row>II</th><td>-1</td><td>-1</td><td>-1</td></tr>\n",
       "</tbody>\n",
       "</table>\n"
      ],
      "text/latex": [
       "A matrix: 4 × 3 of type dbl\n",
       "\\begin{tabular}{r|lll}\n",
       "\tCC &  1 &  0 &  0\\\\\n",
       "\tCI &  0 &  1 &  0\\\\\n",
       "\tIC &  0 &  0 &  1\\\\\n",
       "\tII & -1 & -1 & -1\\\\\n",
       "\\end{tabular}\n"
      ],
      "text/markdown": [
       "\n",
       "A matrix: 4 × 3 of type dbl\n",
       "\n",
       "| CC |  1 |  0 |  0 |\n",
       "| CI |  0 |  1 |  0 |\n",
       "| IC |  0 |  0 |  1 |\n",
       "| II | -1 | -1 | -1 |\n",
       "\n"
      ],
      "text/plain": [
       "   [,1] [,2] [,3]\n",
       "CC  1    0    0  \n",
       "CI  0    1    0  \n",
       "IC  0    0    1  \n",
       "II -1   -1   -1  "
      ]
     },
     "metadata": {},
     "output_type": "display_data"
    }
   ],
   "source": [
    "#set up variables\n",
    "pt_df$aSNR <- abs(pt_df$SNR)\n",
    "\n",
    "#set up congruent proxy variable\n",
    "# WARNING: THIS IS CONGRUENT WITH STIM! Doesn't matter if only analyzing correct RT but beware!!!\n",
    "pt_df$congruent <- NA\n",
    "attach(pt_df)  \n",
    "pt_df$congruent[(isH==1 & pretoneSeqisH_1==1 & pretoneSeqisH_2==1) | \n",
    "           (isH==0 & pretoneSeqisH_1==0 & pretoneSeqisH_2==0)] <- 3\n",
    "pt_df$congruent[(isH==1 & pretoneSeqisH_1==1 & pretoneSeqisH_2==0) | \n",
    "        (isH==0 & pretoneSeqisH_1==0 & pretoneSeqisH_2==1)] <-  2\n",
    "pt_df$congruent[(isH==1 & pretoneSeqisH_1==0 & pretoneSeqisH_2==1) | \n",
    "        (isH==0 & pretoneSeqisH_1==1 & pretoneSeqisH_2==0)] <- 1\n",
    "pt_df$congruent[(isH==0 & pretoneSeqisH_1==1 & pretoneSeqisH_2==1) | \n",
    "                  (isH==1 & pretoneSeqisH_1==0 & pretoneSeqisH_2==0)] <- 0\n",
    "detach(pt_df)\n",
    "#very minor gut check\n",
    "if (any(is.na(pt_df$congruent))) {\n",
    "  warning('Congruent conditions improperly assigned!')\n",
    "}\n",
    "con_check <- arrange(unique(pt_df[,c('congruent','isH','pretoneSeqisH_1','pretoneSeqisH_2')]),\n",
    "                     congruent,isH)\n",
    "con_check\n",
    "\n",
    "## Correct RT only\n",
    "pt_dfc <- subset(pt_df,success==1)\n",
    "\n",
    "\n",
    "## now compute medians for analysis\n",
    "pt_dfc.med <- summarise(group_by(pt_dfc,subject,aSNR,congruent,isH,pretoneSeqisH_1,pretoneSeqisH_2),\n",
    "                        RT=median(RT))\n",
    "\n",
    "#set up variables\n",
    "pt_dfc.med$zaSNR <- scale(pt_dfc.med$aSNR)\n",
    "\n",
    "pt_dfc.med$congruent.fs <- factor(pt_dfc.med$congruent,levels=c(3,2,1,0),\n",
    "                                  labels=c(\"CC\",\"CI\",\"IC\",\"II\"))\n",
    "contrasts(pt_dfc.med$congruent.fs) <- contr.sum(4)\n",
    "contrasts(pt_dfc.med$congruent.fs)"
   ]
  },
  {
   "cell_type": "markdown",
   "metadata": {},
   "source": [
    "## Congruency model"
   ]
  },
  {
   "cell_type": "code",
   "execution_count": 3,
   "metadata": {},
   "outputs": [],
   "source": [
    "pt_dfc.med[,c('congruent.fs1','congruent.fs2','congruent.fs3')] <- \n",
    "  model.matrix(~1+pt_dfc.med$congruent.fs,pt_dfc.med)[,2:4]\n",
    "pt_dfc.med[,c('zaSNR_congruent.fs1','zaSNR_congruent.fs2','zaSNR_congruent.fs3')] <- \n",
    "  pt_dfc.med[,c('congruent.fs1','congruent.fs2','congruent.fs3')] * pt_dfc.med$zaSNR"
   ]
  },
  {
   "cell_type": "code",
   "execution_count": 4,
   "metadata": {},
   "outputs": [
    {
     "name": "stderr",
     "output_type": "stream",
     "text": [
      "boundary (singular) fit: see ?isSingular\n",
      "\n"
     ]
    }
   ],
   "source": [
    "#first lets do RT model and see where we get\n",
    "rtccon.lm.0 <- lmer(RT~zaSNR*congruent.fs + (1+zaSNR*congruent.fs|subject), \n",
    "                 data=pt_dfc.med, \n",
    "                 control=lmerControl(optimizer=\"bobyqa\",optCtrl=list(maxfun=2e5)))"
   ]
  },
  {
   "cell_type": "code",
   "execution_count": 5,
   "metadata": {},
   "outputs": [
    {
     "name": "stderr",
     "output_type": "stream",
     "text": [
      "boundary (singular) fit: see ?isSingular\n",
      "\n"
     ]
    },
    {
     "data": {
      "text/plain": [
       " Groups    Name                Std.Dev.\n",
       " subject   (Intercept)         137.412 \n",
       " subject.1 zaSNR                44.077 \n",
       " subject.2 congruent.fs1        27.992 \n",
       " subject.3 congruent.fs2        34.246 \n",
       " subject.4 congruent.fs3        26.549 \n",
       " subject.5 zaSNR_congruent.fs1   0.000 \n",
       " subject.6 zaSNR_congruent.fs2  10.864 \n",
       " subject.7 zaSNR_congruent.fs3   0.000 \n",
       " Residual                      112.720 "
      ]
     },
     "metadata": {},
     "output_type": "display_data"
    }
   ],
   "source": [
    "#now iteratively reduce model until convergence\n",
    "rtccon.lm.0nc <- lmer(RT~zaSNR*congruent.fs + \n",
    "                     (1+zaSNR + congruent.fs1 + congruent.fs2 + congruent.fs3 + \n",
    "                        zaSNR_congruent.fs1 + zaSNR_congruent.fs2 + zaSNR_congruent.fs3||subject), \n",
    "                   data=pt_dfc.med, \n",
    "                   control=lmerControl(optimizer=\"bobyqa\",optCtrl=list(maxfun=2e5)))\n",
    "\n",
    "#check for which rfx have zero variance\n",
    "summary(rtccon.lm.0nc)$varcor"
   ]
  },
  {
   "cell_type": "code",
   "execution_count": 6,
   "metadata": {},
   "outputs": [
    {
     "name": "stderr",
     "output_type": "stream",
     "text": [
      "boundary (singular) fit: see ?isSingular\n",
      "\n"
     ]
    }
   ],
   "source": [
    "rtccon.lm.1nc <- lmer(RT~zaSNR*congruent.fs + \n",
    "                        (1+zaSNR + congruent.fs1 + congruent.fs2 + congruent.fs3 + \n",
    "                           zaSNR_congruent.fs2 + zaSNR_congruent.fs3||subject), \n",
    "                      data=pt_dfc.med, \n",
    "                      control=lmerControl(optimizer=\"bobyqa\",optCtrl=list(maxfun=2e5)))"
   ]
  },
  {
   "cell_type": "code",
   "execution_count": 7,
   "metadata": {},
   "outputs": [],
   "source": [
    "#FINAL\n",
    "\n",
    "#FINAL MODEL\n",
    "rtccon.lm.2nc <- lmer(RT~zaSNR*congruent.fs + \n",
    "                        (1+zaSNR + congruent.fs1 + congruent.fs2 + congruent.fs3 + \n",
    "                           zaSNR_congruent.fs2||subject), \n",
    "                      data=pt_dfc.med, \n",
    "                      control=lmerControl(optimizer=\"bobyqa\",optCtrl=list(maxfun=2e5)))\n",
    "\n",
    "#fyi: reintro corr doesn't converge...makes sense not enough data"
   ]
  },
  {
   "cell_type": "code",
   "execution_count": 8,
   "metadata": {},
   "outputs": [
    {
     "data": {
      "text/html": [
       "<table class=\"dataframe\">\n",
       "<caption>A anova: 4 × 4</caption>\n",
       "<thead>\n",
       "\t<tr><th></th><th scope=col>F</th><th scope=col>Df</th><th scope=col>Df.res</th><th scope=col>Pr(&gt;F)</th></tr>\n",
       "\t<tr><th></th><th scope=col>&lt;dbl&gt;</th><th scope=col>&lt;dbl&gt;</th><th scope=col>&lt;dbl&gt;</th><th scope=col>&lt;dbl&gt;</th></tr>\n",
       "</thead>\n",
       "<tbody>\n",
       "\t<tr><th scope=row>(Intercept)</th><td>1634.20140</td><td>1</td><td> 44.00235</td><td>1.955601e-36</td></tr>\n",
       "\t<tr><th scope=row>zaSNR</th><td>  56.66475</td><td>1</td><td> 44.00679</td><td>1.939626e-09</td></tr>\n",
       "\t<tr><th scope=row>congruent.fs</th><td>  27.75822</td><td>3</td><td> 74.01951</td><td>3.909450e-12</td></tr>\n",
       "\t<tr><th scope=row>zaSNR:congruent.fs</th><td>  11.58447</td><td>3</td><td>197.17386</td><td>5.012965e-07</td></tr>\n",
       "</tbody>\n",
       "</table>\n"
      ],
      "text/latex": [
       "A anova: 4 × 4\n",
       "\\begin{tabular}{r|llll}\n",
       "  & F & Df & Df.res & Pr(>F)\\\\\n",
       "  & <dbl> & <dbl> & <dbl> & <dbl>\\\\\n",
       "\\hline\n",
       "\t(Intercept) & 1634.20140 & 1 &  44.00235 & 1.955601e-36\\\\\n",
       "\tzaSNR &   56.66475 & 1 &  44.00679 & 1.939626e-09\\\\\n",
       "\tcongruent.fs &   27.75822 & 3 &  74.01951 & 3.909450e-12\\\\\n",
       "\tzaSNR:congruent.fs &   11.58447 & 3 & 197.17386 & 5.012965e-07\\\\\n",
       "\\end{tabular}\n"
      ],
      "text/markdown": [
       "\n",
       "A anova: 4 × 4\n",
       "\n",
       "| <!--/--> | F &lt;dbl&gt; | Df &lt;dbl&gt; | Df.res &lt;dbl&gt; | Pr(&gt;F) &lt;dbl&gt; |\n",
       "|---|---|---|---|---|\n",
       "| (Intercept) | 1634.20140 | 1 |  44.00235 | 1.955601e-36 |\n",
       "| zaSNR |   56.66475 | 1 |  44.00679 | 1.939626e-09 |\n",
       "| congruent.fs |   27.75822 | 3 |  74.01951 | 3.909450e-12 |\n",
       "| zaSNR:congruent.fs |   11.58447 | 3 | 197.17386 | 5.012965e-07 |\n",
       "\n"
      ],
      "text/plain": [
       "                   F          Df Df.res    Pr(>F)      \n",
       "(Intercept)        1634.20140 1   44.00235 1.955601e-36\n",
       "zaSNR                56.66475 1   44.00679 1.939626e-09\n",
       "congruent.fs         27.75822 3   74.01951 3.909450e-12\n",
       "zaSNR:congruent.fs   11.58447 3  197.17386 5.012965e-07"
      ]
     },
     "metadata": {},
     "output_type": "display_data"
    }
   ],
   "source": [
    "#FINAL\n",
    "\n",
    "Anova(rtccon.lm.2nc,test.statistic = \"F\",type=\"III\")"
   ]
  },
  {
   "cell_type": "code",
   "execution_count": 9,
   "metadata": {},
   "outputs": [
    {
     "name": "stderr",
     "output_type": "stream",
     "text": [
      "NOTE: Results may be misleading due to involvement in interactions\n",
      "\n"
     ]
    },
    {
     "data": {
      "text/plain": [
       " contrast             estimate   SE   df t.ratio p.value\n",
       " consistent vs. mixed     68.8 8.87 72.1 7.755   <.0001 \n",
       "\n",
       "Degrees-of-freedom method: kenward-roger "
      ]
     },
     "metadata": {},
     "output_type": "display_data"
    },
    {
     "data": {
      "text/html": [
       "<table class=\"dataframe\">\n",
       "<caption>A summary_emm: 1 × 6</caption>\n",
       "<thead>\n",
       "\t<tr><th></th><th scope=col>contrast</th><th scope=col>estimate</th><th scope=col>SE</th><th scope=col>df</th><th scope=col>t.ratio</th><th scope=col>p.value</th></tr>\n",
       "\t<tr><th></th><th scope=col>&lt;chr&gt;</th><th scope=col>&lt;dbl&gt;</th><th scope=col>&lt;dbl&gt;</th><th scope=col>&lt;dbl&gt;</th><th scope=col>&lt;dbl&gt;</th><th scope=col>&lt;dbl&gt;</th></tr>\n",
       "</thead>\n",
       "<tbody>\n",
       "\t<tr><th scope=row>1</th><td>consistent vs. mixed</td><td>68.8255</td><td>8.874911</td><td>72.06883</td><td>7.755064</td><td>4.366957e-11</td></tr>\n",
       "</tbody>\n",
       "</table>\n"
      ],
      "text/latex": [
       "A summary\\_emm: 1 × 6\n",
       "\\begin{tabular}{r|llllll}\n",
       "  & contrast & estimate & SE & df & t.ratio & p.value\\\\\n",
       "  & <chr> & <dbl> & <dbl> & <dbl> & <dbl> & <dbl>\\\\\n",
       "\\hline\n",
       "\t1 & consistent vs. mixed & 68.8255 & 8.874911 & 72.06883 & 7.755064 & 4.366957e-11\\\\\n",
       "\\end{tabular}\n"
      ],
      "text/markdown": [
       "\n",
       "A summary_emm: 1 × 6\n",
       "\n",
       "| <!--/--> | contrast &lt;chr&gt; | estimate &lt;dbl&gt; | SE &lt;dbl&gt; | df &lt;dbl&gt; | t.ratio &lt;dbl&gt; | p.value &lt;dbl&gt; |\n",
       "|---|---|---|---|---|---|---|\n",
       "| 1 | consistent vs. mixed | 68.8255 | 8.874911 | 72.06883 | 7.755064 | 4.366957e-11 |\n",
       "\n"
      ],
      "text/plain": [
       "  contrast             estimate SE       df       t.ratio  p.value     \n",
       "1 consistent vs. mixed 68.8255  8.874911 72.06883 7.755064 4.366957e-11"
      ]
     },
     "metadata": {},
     "output_type": "display_data"
    }
   ],
   "source": [
    "#FINAL\n",
    "\n",
    "#consistent pretones speed RT compared to inconsistent\n",
    "rtccon.lm.2nc.emm.con <-  emmeans(rtccon.lm.2nc,specs = ~congruent.fs)\n",
    "contrast(rtccon.lm.2nc.emm.con,list(\"consistent vs. mixed\"=c(-1/2,1/2,1/2,-1/2)))\n",
    "summary(contrast(rtccon.lm.2nc.emm.con,list(\"consistent vs. mixed\"=c(-1/2,1/2,1/2,-1/2))))"
   ]
  },
  {
   "cell_type": "code",
   "execution_count": 10,
   "metadata": {},
   "outputs": [
    {
     "data": {
      "text/plain": [
       " contrast       estimate   SE    df t.ratio p.value\n",
       " low SNR CC-II    -45.53 15.8  96.3 -2.883  0.0049 \n",
       " high SNR CC-II    66.72 19.5 202.5  3.421  0.0008 \n",
       " low SNR CI-IC    -57.89 13.8 343.5 -4.209  <.0001 \n",
       " high SNR CI-IC     7.67 17.8 537.8  0.431  0.6670 \n",
       "\n",
       "Degrees-of-freedom method: kenward-roger "
      ]
     },
     "metadata": {},
     "output_type": "display_data"
    },
    {
     "data": {
      "text/plain": [
       " contrast                           estimate   SE  df t.ratio p.value\n",
       " (low SNR CC-II) - (high SNR CC-II)   -112.3 22.2 442 -5.061  <.0001 \n",
       " (low SNR CI-IC) - (high SNR CI-IC)    -65.6 22.5 459 -2.908  0.0038 \n",
       "\n",
       "Degrees-of-freedom method: kenward-roger "
      ]
     },
     "metadata": {},
     "output_type": "display_data"
    },
    {
     "data": {
      "text/plain": [
       " contrast                           estimate   SE  df t.ratio p.value\n",
       " (low SNR CC-II) - (high SNR CC-II)   -112.3 22.2 442 -5.061  <.0001 \n",
       " (low SNR CI-IC) - (high SNR CI-IC)    -65.6 22.5 459 -2.908  0.0038 \n",
       "\n",
       "Degrees-of-freedom method: kenward-roger \n",
       "P value adjustment: holm method for 2 tests "
      ]
     },
     "metadata": {},
     "output_type": "display_data"
    },
    {
     "data": {
      "text/html": [
       "<table class=\"dataframe\">\n",
       "<caption>A summary_emm: 2 × 6</caption>\n",
       "<thead>\n",
       "\t<tr><th></th><th scope=col>contrast</th><th scope=col>estimate</th><th scope=col>SE</th><th scope=col>df</th><th scope=col>t.ratio</th><th scope=col>p.value</th></tr>\n",
       "\t<tr><th></th><th scope=col>&lt;chr&gt;</th><th scope=col>&lt;dbl&gt;</th><th scope=col>&lt;dbl&gt;</th><th scope=col>&lt;dbl&gt;</th><th scope=col>&lt;dbl&gt;</th><th scope=col>&lt;dbl&gt;</th></tr>\n",
       "</thead>\n",
       "<tbody>\n",
       "\t<tr><th scope=row>1</th><td>(low SNR CC-II) - (high SNR CC-II)</td><td>-112.25923</td><td>22.18114</td><td>442.1637</td><td>-5.061022</td><td>1.225629e-06</td></tr>\n",
       "\t<tr><th scope=row>6</th><td>(low SNR CI-IC) - (high SNR CI-IC)</td><td> -65.55356</td><td>22.54319</td><td>458.6292</td><td>-2.907910</td><td>3.815036e-03</td></tr>\n",
       "</tbody>\n",
       "</table>\n"
      ],
      "text/latex": [
       "A summary\\_emm: 2 × 6\n",
       "\\begin{tabular}{r|llllll}\n",
       "  & contrast & estimate & SE & df & t.ratio & p.value\\\\\n",
       "  & <chr> & <dbl> & <dbl> & <dbl> & <dbl> & <dbl>\\\\\n",
       "\\hline\n",
       "\t1 & (low SNR CC-II) - (high SNR CC-II) & -112.25923 & 22.18114 & 442.1637 & -5.061022 & 1.225629e-06\\\\\n",
       "\t6 & (low SNR CI-IC) - (high SNR CI-IC) &  -65.55356 & 22.54319 & 458.6292 & -2.907910 & 3.815036e-03\\\\\n",
       "\\end{tabular}\n"
      ],
      "text/markdown": [
       "\n",
       "A summary_emm: 2 × 6\n",
       "\n",
       "| <!--/--> | contrast &lt;chr&gt; | estimate &lt;dbl&gt; | SE &lt;dbl&gt; | df &lt;dbl&gt; | t.ratio &lt;dbl&gt; | p.value &lt;dbl&gt; |\n",
       "|---|---|---|---|---|---|---|\n",
       "| 1 | (low SNR CC-II) - (high SNR CC-II) | -112.25923 | 22.18114 | 442.1637 | -5.061022 | 1.225629e-06 |\n",
       "| 6 | (low SNR CI-IC) - (high SNR CI-IC) |  -65.55356 | 22.54319 | 458.6292 | -2.907910 | 3.815036e-03 |\n",
       "\n"
      ],
      "text/plain": [
       "  contrast                           estimate   SE       df       t.ratio  \n",
       "1 (low SNR CC-II) - (high SNR CC-II) -112.25923 22.18114 442.1637 -5.061022\n",
       "6 (low SNR CI-IC) - (high SNR CI-IC)  -65.55356 22.54319 458.6292 -2.907910\n",
       "  p.value     \n",
       "1 1.225629e-06\n",
       "6 3.815036e-03"
      ]
     },
     "metadata": {},
     "output_type": "display_data"
    }
   ],
   "source": [
    "#FINAL\n",
    "\n",
    "#now we can ask about the end points \n",
    "rtccon.lm.2nc.emm <- emmeans(rtccon.lm.2nc,specs = ~zaSNR*congruent.fs,cov.reduce=range)#,at=list(zaSNR=zaSNR[c(1,4)]))\n",
    "#pairs(rtccon.lm.2nc.emm,adjust=\"none\")\n",
    "rtccon.lm.2nc.emm.pairs <- contrast(rtccon.lm.2nc.emm,list(\"low SNR CC-II\"=c(1,0,0,0,0,0,-1,0),\n",
    "                                \"high SNR CC-II\"=c(0,1,0,0,0,0,0,-1),\n",
    "                                \"low SNR CI-IC\"=c(0,0,1,0,-1,0,0,0),\n",
    "                                \"high SNR CI-IC\"=c(0,0,0,1,0,-1,0,0)))\n",
    "rtccon.lm.2nc.emm.pairs\n",
    "pairs(rtccon.lm.2nc.emm.pairs,adjust=\"none\")[c(1,6)]\n",
    "pairs(rtccon.lm.2nc.emm.pairs,adjust=\"holm\")[c(1,6)]\n",
    "summary(pairs(rtccon.lm.2nc.emm.pairs,adjust=\"holm\")[c(1,6)])"
   ]
  },
  {
   "cell_type": "markdown",
   "metadata": {},
   "source": [
    "### generate predictions for plotting"
   ]
  },
  {
   "cell_type": "code",
   "execution_count": 12,
   "metadata": {},
   "outputs": [
    {
     "data": {
      "text/html": [
       "<table class=\"dataframe\">\n",
       "<caption>A data.frame: 6 × 4</caption>\n",
       "<thead>\n",
       "\t<tr><th></th><th scope=col>ptC1</th><th scope=col>ptC2</th><th scope=col>pretoneSeq</th><th scope=col>ptC</th></tr>\n",
       "\t<tr><th></th><th scope=col>&lt;chr&gt;</th><th scope=col>&lt;chr&gt;</th><th scope=col>&lt;chr&gt;</th><th scope=col>&lt;chr&gt;</th></tr>\n",
       "</thead>\n",
       "<tbody>\n",
       "\t<tr><th scope=row>1</th><td>L</td><td>L</td><td>LLLLLLLLLX</td><td>LL</td></tr>\n",
       "\t<tr><th scope=row>3</th><td>L</td><td>L</td><td>LLHLLLX   </td><td>LL</td></tr>\n",
       "\t<tr><th scope=row>4</th><td>H</td><td>L</td><td>LHX       </td><td>HL</td></tr>\n",
       "\t<tr><th scope=row>5</th><td>L</td><td>L</td><td>LLX       </td><td>LL</td></tr>\n",
       "\t<tr><th scope=row>6</th><td>H</td><td>H</td><td>HHX       </td><td>HH</td></tr>\n",
       "\t<tr><th scope=row>8</th><td>L</td><td>H</td><td>LHHHHLX   </td><td>LH</td></tr>\n",
       "</tbody>\n",
       "</table>\n"
      ],
      "text/latex": [
       "A data.frame: 6 × 4\n",
       "\\begin{tabular}{r|llll}\n",
       "  & ptC1 & ptC2 & pretoneSeq & ptC\\\\\n",
       "  & <chr> & <chr> & <chr> & <chr>\\\\\n",
       "\\hline\n",
       "\t1 & L & L & LLLLLLLLLX & LL\\\\\n",
       "\t3 & L & L & LLHLLLX    & LL\\\\\n",
       "\t4 & H & L & LHX        & HL\\\\\n",
       "\t5 & L & L & LLX        & LL\\\\\n",
       "\t6 & H & H & HHX        & HH\\\\\n",
       "\t8 & L & H & LHHHHLX    & LH\\\\\n",
       "\\end{tabular}\n"
      ],
      "text/markdown": [
       "\n",
       "A data.frame: 6 × 4\n",
       "\n",
       "| <!--/--> | ptC1 &lt;chr&gt; | ptC2 &lt;chr&gt; | pretoneSeq &lt;chr&gt; | ptC &lt;chr&gt; |\n",
       "|---|---|---|---|---|\n",
       "| 1 | L | L | LLLLLLLLLX | LL |\n",
       "| 3 | L | L | LLHLLLX    | LL |\n",
       "| 4 | H | L | LHX        | HL |\n",
       "| 5 | L | L | LLX        | LL |\n",
       "| 6 | H | H | HHX        | HH |\n",
       "| 8 | L | H | LHHHHLX    | LH |\n",
       "\n"
      ],
      "text/plain": [
       "  ptC1 ptC2 pretoneSeq ptC\n",
       "1 L    L    LLLLLLLLLX LL \n",
       "3 L    L    LLHLLLX    LL \n",
       "4 H    L    LHX        HL \n",
       "5 L    L    LLX        LL \n",
       "6 H    H    HHX        HH \n",
       "8 L    H    LHHHHLX    LH "
      ]
     },
     "metadata": {},
     "output_type": "display_data"
    }
   ],
   "source": [
    "#FINAL\n",
    "\n",
    "pt_dfc.med$RT_pred <- predict(rtccon.lm.2nc)\n",
    "\n",
    "#create ptC var for plotting\n",
    "pt_dfc$ptC1 <- ifelse(pt_dfc$pretoneSeqisH_1==1,'H','L')\n",
    "pt_dfc$ptC2 <- ifelse(pt_dfc$pretoneSeqisH_2==1,'H','L')\n",
    "pt_dfc$ptC <- paste0(pt_dfc$ptC1,pt_dfc$ptC2)\n",
    "\n",
    "head(pt_dfc[,c('ptC1','ptC2','pretoneSeq','ptC')])"
   ]
  },
  {
   "cell_type": "code",
   "execution_count": 13,
   "metadata": {
    "scrolled": true
   },
   "outputs": [
    {
     "name": "stderr",
     "output_type": "stream",
     "text": [
      "`summarise()` regrouping output by 'aSNR', 'isH' (override with `.groups` argument)\n",
      "\n"
     ]
    }
   ],
   "source": [
    "#FINAL\n",
    "\n",
    "#plot against medians\n",
    "pt_dfc.med$ptC1 <- ifelse(pt_dfc.med$pretoneSeqisH_1==1,'H','L')\n",
    "pt_dfc.med$ptC2 <- ifelse(pt_dfc.med$pretoneSeqisH_2==1,'H','L')\n",
    "pt_dfc.med$ptC <- paste0(pt_dfc.med$ptC1,pt_dfc.med$ptC2)\n",
    "\n",
    "pred_ave.med_all <- summarise(group_by(pt_dfc.med,aSNR,isH,ptC),RT_sem=se(RT),RT=mean(RT),RT_pred=mean(RT_pred))\n",
    "pred_ave.med_all$SNR <- pred_ave.med_all$aSNR *(pred_ave.med_all$isH*2-1)"
   ]
  },
  {
   "cell_type": "code",
   "execution_count": 14,
   "metadata": {},
   "outputs": [],
   "source": [
    "#output for matlab plotting\n",
    "if (F) {\n",
    "    write.csv(pred_ave.med_all,paste0('./pretone_RT_pred_',Sys.Date(),'.csv'),row.names=F)\n",
    "}"
   ]
  },
  {
   "cell_type": "code",
   "execution_count": 15,
   "metadata": {},
   "outputs": [
    {
     "data": {
      "image/png": "[encoded data removed]",
      "text/plain": [
       "plot without title"
      ]
     },
     "metadata": {
      "image/png": {
       "height": 420,
       "width": 420
      }
     },
     "output_type": "display_data"
    }
   ],
   "source": [
    "ggplot(pred_ave.med_all, aes(x=SNR, y=RT, colour=ptC)) + \n",
    "    geom_errorbar(aes(ymin=RT-RT_sem, ymax=RT+RT_sem), width=0) +\n",
    "    geom_point() +\n",
    "    geom_line(aes(x=SNR, y=RT_pred, colour=ptC)) +\n",
    "    scale_color_manual(values=c(\"red\", \"brown\", \"purple\", \"blue\")) +\n",
    "    theme_classic()"
   ]
  },
  {
   "cell_type": "code",
   "execution_count": null,
   "metadata": {},
   "outputs": [],
   "source": []
  }
 ],
 "metadata": {
  "kernelspec": {
   "display_name": "R",
   "language": "R",
   "name": "ir"
  },
  "language_info": {
   "codemirror_mode": "r",
   "file_extension": ".r",
   "mimetype": "text/x-r-source",
   "name": "R",
   "pygments_lexer": "r",
   "version": "4.0.2"
  }
 },
 "nbformat": 4,
 "nbformat_minor": 4
}
