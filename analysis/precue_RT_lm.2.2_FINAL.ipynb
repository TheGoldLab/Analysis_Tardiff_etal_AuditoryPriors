{
 "cells": [
  {
   "cell_type": "markdown",
   "metadata": {},
   "source": [
    "This script is used for RT analysis for the rule-based condition in section:\n",
    "\"Rule- and stimulus-based biases had different effects on choices and RTs\""
   ]
  },
  {
   "cell_type": "code",
   "execution_count": 1,
   "metadata": {},
   "outputs": [
    {
     "name": "stderr",
     "output_type": "stream",
     "text": [
      "Loading required package: Matrix\n",
      "\n",
      "Registered S3 methods overwritten by 'tibble':\n",
      "  method     from  \n",
      "  format.tbl pillar\n",
      "  print.tbl  pillar\n",
      "\n",
      "\n",
      "Attaching package: 'dplyr'\n",
      "\n",
      "\n",
      "The following objects are masked from 'package:stats':\n",
      "\n",
      "    filter, lag\n",
      "\n",
      "\n",
      "The following objects are masked from 'package:base':\n",
      "\n",
      "    intersect, setdiff, setequal, union\n",
      "\n",
      "\n",
      "Warning message:\n",
      "\"package 'car' was built under R version 4.0.4\"\n",
      "Loading required package: carData\n",
      "\n",
      "Registered S3 methods overwritten by 'car':\n",
      "  method                          from\n",
      "  influence.merMod                lme4\n",
      "  cooks.distance.influence.merMod lme4\n",
      "  dfbeta.influence.merMod         lme4\n",
      "  dfbetas.influence.merMod        lme4\n",
      "\n",
      "\n",
      "Attaching package: 'car'\n",
      "\n",
      "\n",
      "The following object is masked from 'package:dplyr':\n",
      "\n",
      "    recode\n",
      "\n",
      "\n",
      "Warning message:\n",
      "\"package 'lmerTest' was built under R version 4.0.4\"\n",
      "\n",
      "Attaching package: 'lmerTest'\n",
      "\n",
      "\n",
      "The following object is masked from 'package:lme4':\n",
      "\n",
      "    lmer\n",
      "\n",
      "\n",
      "The following object is masked from 'package:stats':\n",
      "\n",
      "    step\n",
      "\n",
      "\n",
      "Warning message:\n",
      "\"package 'emmeans' was built under R version 4.0.4\"\n",
      "Warning message:\n",
      "\"package 'ggplot2' was built under R version 4.0.4\"\n"
     ]
    }
   ],
   "source": [
    "#clear memory\n",
    "rm(list=ls())\n",
    "\n",
    "## loading data/libraries ##\n",
    "\n",
    "#load libraries\n",
    "library(lme4)\n",
    "#library(plyr)\n",
    "library(dplyr)\n",
    "#library(tidyr)\n",
    "library(car)\n",
    "library(lmerTest)\n",
    "library(emmeans)\n",
    "#library(afex)\n",
    "emm_options(lmerTest.limit = 22676)\n",
    "library(lattice)\n",
    "library(ggplot2)\n",
    "\n",
    "se <- function(x) sqrt(var(x) / length(x))\n",
    "\n",
    "switch(Sys.info()[['sysname']],\n",
    "       Windows = PROJECT_DIR <- paste0('C:/Users/',Sys.getenv('USERNAME'),\n",
    "                              '/Dropbox/Goldlab/AuditoryPriors/'),\n",
    "       Darwin = PROJECT_DIR <- '~/Dropbox/Goldlab/AuditoryPriors/'\n",
    ")\n",
    "\n",
    "DATA_DIR = paste0(PROJECT_DIR,'FitGDDM/data/')\n",
    "setwd(paste0(PROJECT_DIR,'data processing'))\n",
    "\n",
    "\n",
    "DATA_FILE = 'priorOnly_28-Jan-2020.csv'\n",
    "\n",
    "pt_df <- read.table(paste0(DATA_DIR,DATA_FILE),sep=',', header=TRUE, \n",
    "                    stringsAsFactors=FALSE,na.strings = 'NaN')\n",
    "\n",
    "#remove missing trials\n",
    "pt_df <- subset(pt_df,!is.na(choice01) & !is.na(RT))"
   ]
  },
  {
   "cell_type": "code",
   "execution_count": 2,
   "metadata": {},
   "outputs": [
    {
     "data": {
      "text/html": [
       "<table class=\"dataframe\">\n",
       "<caption>A matrix: 3 × 2 of type dbl</caption>\n",
       "<thead>\n",
       "\t<tr><th></th><th scope=col>1</th><th scope=col>2</th></tr>\n",
       "</thead>\n",
       "<tbody>\n",
       "\t<tr><th scope=row>low</th><td> 0.6666667</td><td>-0.3333333</td></tr>\n",
       "\t<tr><th scope=row>high</th><td>-0.3333333</td><td> 0.6666667</td></tr>\n",
       "\t<tr><th scope=row>no</th><td>-0.3333333</td><td>-0.3333333</td></tr>\n",
       "</tbody>\n",
       "</table>\n"
      ],
      "text/latex": [
       "A matrix: 3 × 2 of type dbl\n",
       "\\begin{tabular}{r|ll}\n",
       "  & 1 & 2\\\\\n",
       "\\hline\n",
       "\tlow &  0.6666667 & -0.3333333\\\\\n",
       "\thigh & -0.3333333 &  0.6666667\\\\\n",
       "\tno & -0.3333333 & -0.3333333\\\\\n",
       "\\end{tabular}\n"
      ],
      "text/markdown": [
       "\n",
       "A matrix: 3 × 2 of type dbl\n",
       "\n",
       "| <!--/--> | 1 | 2 |\n",
       "|---|---|---|\n",
       "| low |  0.6666667 | -0.3333333 |\n",
       "| high | -0.3333333 |  0.6666667 |\n",
       "| no | -0.3333333 | -0.3333333 |\n",
       "\n"
      ],
      "text/plain": [
       "     1          2         \n",
       "low   0.6666667 -0.3333333\n",
       "high -0.3333333  0.6666667\n",
       "no   -0.3333333 -0.3333333"
      ]
     },
     "metadata": {},
     "output_type": "display_data"
    },
    {
     "data": {
      "text/html": [
       "<table class=\"dataframe\">\n",
       "<caption>A matrix: 3 × 2 of type dbl</caption>\n",
       "<tbody>\n",
       "\t<tr><th scope=row>low</th><td> 1</td><td> 0</td></tr>\n",
       "\t<tr><th scope=row>high</th><td> 0</td><td> 1</td></tr>\n",
       "\t<tr><th scope=row>no</th><td>-1</td><td>-1</td></tr>\n",
       "</tbody>\n",
       "</table>\n"
      ],
      "text/latex": [
       "A matrix: 3 × 2 of type dbl\n",
       "\\begin{tabular}{r|ll}\n",
       "\tlow &  1 &  0\\\\\n",
       "\thigh &  0 &  1\\\\\n",
       "\tno & -1 & -1\\\\\n",
       "\\end{tabular}\n"
      ],
      "text/markdown": [
       "\n",
       "A matrix: 3 × 2 of type dbl\n",
       "\n",
       "| low |  1 |  0 |\n",
       "| high |  0 |  1 |\n",
       "| no | -1 | -1 |\n",
       "\n"
      ],
      "text/plain": [
       "     [,1] [,2]\n",
       "low   1    0  \n",
       "high  0    1  \n",
       "no   -1   -1  "
      ]
     },
     "metadata": {},
     "output_type": "display_data"
    },
    {
     "data": {
      "text/html": [
       "<table class=\"dataframe\">\n",
       "<caption>A matrix: 3 × 2 of type dbl</caption>\n",
       "<tbody>\n",
       "\t<tr><th scope=row>no</th><td> 1</td><td> 0</td></tr>\n",
       "\t<tr><th scope=row>low</th><td> 0</td><td> 1</td></tr>\n",
       "\t<tr><th scope=row>high</th><td>-1</td><td>-1</td></tr>\n",
       "</tbody>\n",
       "</table>\n"
      ],
      "text/latex": [
       "A matrix: 3 × 2 of type dbl\n",
       "\\begin{tabular}{r|ll}\n",
       "\tno &  1 &  0\\\\\n",
       "\tlow &  0 &  1\\\\\n",
       "\thigh & -1 & -1\\\\\n",
       "\\end{tabular}\n"
      ],
      "text/markdown": [
       "\n",
       "A matrix: 3 × 2 of type dbl\n",
       "\n",
       "| no |  1 |  0 |\n",
       "| low |  0 |  1 |\n",
       "| high | -1 | -1 |\n",
       "\n"
      ],
      "text/plain": [
       "     [,1] [,2]\n",
       "no    1    0  \n",
       "low   0    1  \n",
       "high -1   -1  "
      ]
     },
     "metadata": {},
     "output_type": "display_data"
    },
    {
     "data": {
      "text/html": [
       "<table class=\"dataframe\">\n",
       "<caption>A matrix: 2 × 1 of type dbl</caption>\n",
       "<thead>\n",
       "\t<tr><th></th><th scope=col>1</th></tr>\n",
       "</thead>\n",
       "<tbody>\n",
       "\t<tr><th scope=row>H</th><td> 0.5</td></tr>\n",
       "\t<tr><th scope=row>L</th><td>-0.5</td></tr>\n",
       "</tbody>\n",
       "</table>\n"
      ],
      "text/latex": [
       "A matrix: 2 × 1 of type dbl\n",
       "\\begin{tabular}{r|l}\n",
       "  & 1\\\\\n",
       "\\hline\n",
       "\tH &  0.5\\\\\n",
       "\tL & -0.5\\\\\n",
       "\\end{tabular}\n"
      ],
      "text/markdown": [
       "\n",
       "A matrix: 2 × 1 of type dbl\n",
       "\n",
       "| <!--/--> | 1 |\n",
       "|---|---|\n",
       "| H |  0.5 |\n",
       "| L | -0.5 |\n",
       "\n"
      ],
      "text/plain": [
       "  1   \n",
       "H  0.5\n",
       "L -0.5"
      ]
     },
     "metadata": {},
     "output_type": "display_data"
    },
    {
     "data": {
      "text/html": [
       "<table class=\"dataframe\">\n",
       "<caption>A matrix: 2 × 1 of type dbl</caption>\n",
       "<tbody>\n",
       "\t<tr><th scope=row>H</th><td> 1</td></tr>\n",
       "\t<tr><th scope=row>L</th><td>-1</td></tr>\n",
       "</tbody>\n",
       "</table>\n"
      ],
      "text/latex": [
       "A matrix: 2 × 1 of type dbl\n",
       "\\begin{tabular}{r|l}\n",
       "\tH &  1\\\\\n",
       "\tL & -1\\\\\n",
       "\\end{tabular}\n"
      ],
      "text/markdown": [
       "\n",
       "A matrix: 2 × 1 of type dbl\n",
       "\n",
       "| H |  1 |\n",
       "| L | -1 |\n",
       "\n"
      ],
      "text/plain": [
       "  [,1]\n",
       "H  1  \n",
       "L -1  "
      ]
     },
     "metadata": {},
     "output_type": "display_data"
    },
    {
     "name": "stderr",
     "output_type": "stream",
     "text": [
      "`summarise()` regrouping output by 'subject', 'aSNR', 'isH' (override with `.groups` argument)\n",
      "\n"
     ]
    }
   ],
   "source": [
    "#set up factors\n",
    "my_simple3<-contr.treatment(3,base=3) - matrix(rep(1/3,6),ncol=2)\n",
    "pt_df$prior.f <- factor(pt_df$prior,levels=c(-2,2,0),labels=c('low','high','no'))\n",
    "pt_df$prior.fs <- pt_df$prior.f\n",
    "pt_df$prior.fs2 <- factor(pt_df$prior.fs,levels=c('no','low','high'))\n",
    "contrasts(pt_df$prior.f) <- my_simple3\n",
    "contrasts(pt_df$prior.fs) <- contr.sum(3)\n",
    "contrasts(pt_df$prior.fs2) <- contr.sum(3)\n",
    "contrasts(pt_df$prior.f) \n",
    "contrasts(pt_df$prior.fs) \n",
    "contrasts(pt_df$prior.fs2) \n",
    "\n",
    "my_simple2<-contr.treatment(2,base=2) - matrix(rep(1/2,2))\n",
    "pt_df$isH.f <- factor(pt_df$isH,levels=c(1,0),labels=c(\"H\",\"L\"))\n",
    "pt_df$isH.fs <- pt_df$isH.f\n",
    "contrasts(pt_df$isH.f) <- my_simple2\n",
    "contrasts(pt_df$isH.fs) <- contr.sum(2)\n",
    "contrasts(pt_df$isH.f)\n",
    "contrasts(pt_df$isH.fs)\n",
    "\n",
    "\n",
    "#set up variables\n",
    "pt_df$aSNR <- abs(pt_df$SNR)\n",
    "\n",
    "## Correct RT only\n",
    "pt_dfc <- subset(pt_df,success==1)\n",
    "\n",
    "\n",
    "## now compute medians for analysis\n",
    "pt_dfc.med <- summarise(group_by(pt_dfc,subject,aSNR,isH,prior),RT=median(RT))\n"
   ]
  },
  {
   "cell_type": "code",
   "execution_count": 3,
   "metadata": {},
   "outputs": [
    {
     "data": {
      "text/html": [
       "<table class=\"dataframe\">\n",
       "<caption>A matrix: 2 × 1 of type dbl</caption>\n",
       "<thead>\n",
       "\t<tr><th></th><th scope=col>1</th></tr>\n",
       "</thead>\n",
       "<tbody>\n",
       "\t<tr><th scope=row>H</th><td> 0.5</td></tr>\n",
       "\t<tr><th scope=row>L</th><td>-0.5</td></tr>\n",
       "</tbody>\n",
       "</table>\n"
      ],
      "text/latex": [
       "A matrix: 2 × 1 of type dbl\n",
       "\\begin{tabular}{r|l}\n",
       "  & 1\\\\\n",
       "\\hline\n",
       "\tH &  0.5\\\\\n",
       "\tL & -0.5\\\\\n",
       "\\end{tabular}\n"
      ],
      "text/markdown": [
       "\n",
       "A matrix: 2 × 1 of type dbl\n",
       "\n",
       "| <!--/--> | 1 |\n",
       "|---|---|\n",
       "| H |  0.5 |\n",
       "| L | -0.5 |\n",
       "\n"
      ],
      "text/plain": [
       "  1   \n",
       "H  0.5\n",
       "L -0.5"
      ]
     },
     "metadata": {},
     "output_type": "display_data"
    },
    {
     "data": {
      "text/html": [
       "<table class=\"dataframe\">\n",
       "<caption>A matrix: 2 × 1 of type dbl</caption>\n",
       "<tbody>\n",
       "\t<tr><th scope=row>H</th><td> 1</td></tr>\n",
       "\t<tr><th scope=row>L</th><td>-1</td></tr>\n",
       "</tbody>\n",
       "</table>\n"
      ],
      "text/latex": [
       "A matrix: 2 × 1 of type dbl\n",
       "\\begin{tabular}{r|l}\n",
       "\tH &  1\\\\\n",
       "\tL & -1\\\\\n",
       "\\end{tabular}\n"
      ],
      "text/markdown": [
       "\n",
       "A matrix: 2 × 1 of type dbl\n",
       "\n",
       "| H |  1 |\n",
       "| L | -1 |\n",
       "\n"
      ],
      "text/plain": [
       "  [,1]\n",
       "H  1  \n",
       "L -1  "
      ]
     },
     "metadata": {},
     "output_type": "display_data"
    },
    {
     "data": {
      "text/html": [
       "<table class=\"dataframe\">\n",
       "<caption>A matrix: 3 × 2 of type dbl</caption>\n",
       "<tbody>\n",
       "\t<tr><th scope=row>congruent</th><td> 1</td><td> 0</td></tr>\n",
       "\t<tr><th scope=row>incongruent</th><td> 0</td><td> 1</td></tr>\n",
       "\t<tr><th scope=row>no prior</th><td>-1</td><td>-1</td></tr>\n",
       "</tbody>\n",
       "</table>\n"
      ],
      "text/latex": [
       "A matrix: 3 × 2 of type dbl\n",
       "\\begin{tabular}{r|ll}\n",
       "\tcongruent &  1 &  0\\\\\n",
       "\tincongruent &  0 &  1\\\\\n",
       "\tno prior & -1 & -1\\\\\n",
       "\\end{tabular}\n"
      ],
      "text/markdown": [
       "\n",
       "A matrix: 3 × 2 of type dbl\n",
       "\n",
       "| congruent |  1 |  0 |\n",
       "| incongruent |  0 |  1 |\n",
       "| no prior | -1 | -1 |\n",
       "\n"
      ],
      "text/plain": [
       "            [,1] [,2]\n",
       "congruent    1    0  \n",
       "incongruent  0    1  \n",
       "no prior    -1   -1  "
      ]
     },
     "metadata": {},
     "output_type": "display_data"
    }
   ],
   "source": [
    "#set up factors\n",
    "my_simple2<-contr.treatment(2,base=2) - matrix(rep(1/2,2))\n",
    "pt_dfc.med$isH.f <- factor(pt_dfc.med$isH,levels=c(1,0),labels=c(\"H\",\"L\"))\n",
    "pt_dfc.med$isH.fs <- pt_dfc.med$isH.f\n",
    "contrasts(pt_dfc.med$isH.f) <- my_simple2\n",
    "contrasts(pt_dfc.med$isH.fs) <- contr.sum(2)\n",
    "contrasts(pt_dfc.med$isH.f)\n",
    "contrasts(pt_dfc.med$isH.fs)\n",
    "\n",
    "# WARNING: THIS IS CONGRUENT WITH STIM! Doesn't matter if only analyzing correct RT but beware!!!\n",
    "pt_dfc.med$congruent <- \n",
    "  (pt_dfc.med$prior==2 & pt_dfc.med$isH==1) | (pt_dfc.med$prior==-2 & pt_dfc.med$isH==0)\n",
    "pt_dfc.med$congruent[pt_dfc.med$prior==0] = -1\n",
    "\n",
    "pt_dfc.med$congruent.fs <- factor(pt_dfc.med$congruent,levels=c(1,0,-1),\n",
    "                            labels=c(\"congruent\",\"incongruent\",\"no prior\"))\n",
    "contrasts(pt_dfc.med$congruent.fs) <- contr.sum(3)\n",
    "contrasts(pt_dfc.med$congruent.fs)\n",
    "\n",
    "#set up variables\n",
    "pt_dfc.med$RTms <- pt_dfc.med$RT/1000\n",
    "pt_dfc.med$zaSNR <- scale(pt_dfc.med$aSNR)\n"
   ]
  },
  {
   "cell_type": "markdown",
   "metadata": {},
   "source": [
    "## congruency model"
   ]
  },
  {
   "cell_type": "code",
   "execution_count": 4,
   "metadata": {},
   "outputs": [],
   "source": [
    "pt_dfc.med[,c('congruent.fs1','congruent.fs2')] <- \n",
    "  model.matrix(~1+pt_dfc.med$congruent.fs,pt_dfc.med)[,2:3]\n",
    "#let's simplify and just ask about congruency effects"
   ]
  },
  {
   "cell_type": "code",
   "execution_count": 5,
   "metadata": {},
   "outputs": [
    {
     "name": "stderr",
     "output_type": "stream",
     "text": [
      "boundary (singular) fit: see ?isSingular\n",
      "\n",
      "Warning message:\n",
      "\"Model failed to converge with 1 negative eigenvalue: -1.7e+01\"\n"
     ]
    }
   ],
   "source": [
    "#full model\n",
    "rtccon.lm.0 <- lmer(RT~zaSNR + congruent.fs + (1+zaSNR + congruent.fs|subject), \n",
    "                 data=pt_dfc.med, \n",
    "                 control=lmerControl(optimizer=\"bobyqa\",optCtrl=list(maxfun=2e5)))"
   ]
  },
  {
   "cell_type": "code",
   "execution_count": 6,
   "metadata": {},
   "outputs": [],
   "source": [
    "#FINAL\n",
    "#zero corr model converges\n",
    "rtccon.lm.0nc <- lmer(RT~zaSNR + congruent.fs + (1+zaSNR + congruent.fs1 + congruent.fs2||subject), \n",
    "                    data=pt_dfc.med, \n",
    "                    control=lmerControl(optimizer=\"bobyqa\",optCtrl=list(maxfun=2e5)))"
   ]
  },
  {
   "cell_type": "code",
   "execution_count": 7,
   "metadata": {},
   "outputs": [
    {
     "data": {
      "text/html": [
       "<table class=\"dataframe\">\n",
       "<caption>A anova: 2 × 4</caption>\n",
       "<thead>\n",
       "\t<tr><th></th><th scope=col>F</th><th scope=col>Df</th><th scope=col>Df.res</th><th scope=col>Pr(&gt;F)</th></tr>\n",
       "\t<tr><th></th><th scope=col>&lt;dbl&gt;</th><th scope=col>&lt;dbl&gt;</th><th scope=col>&lt;dbl&gt;</th><th scope=col>&lt;dbl&gt;</th></tr>\n",
       "</thead>\n",
       "<tbody>\n",
       "\t<tr><th scope=row>zaSNR</th><td> 75.56664</td><td>1</td><td>48.01616</td><td>2.011075e-11</td></tr>\n",
       "\t<tr><th scope=row>congruent.fs</th><td>160.43164</td><td>2</td><td>65.08311</td><td>6.973780e-26</td></tr>\n",
       "</tbody>\n",
       "</table>\n"
      ],
      "text/latex": [
       "A anova: 2 × 4\n",
       "\\begin{tabular}{r|llll}\n",
       "  & F & Df & Df.res & Pr(>F)\\\\\n",
       "  & <dbl> & <dbl> & <dbl> & <dbl>\\\\\n",
       "\\hline\n",
       "\tzaSNR &  75.56664 & 1 & 48.01616 & 2.011075e-11\\\\\n",
       "\tcongruent.fs & 160.43164 & 2 & 65.08311 & 6.973780e-26\\\\\n",
       "\\end{tabular}\n"
      ],
      "text/markdown": [
       "\n",
       "A anova: 2 × 4\n",
       "\n",
       "| <!--/--> | F &lt;dbl&gt; | Df &lt;dbl&gt; | Df.res &lt;dbl&gt; | Pr(&gt;F) &lt;dbl&gt; |\n",
       "|---|---|---|---|---|\n",
       "| zaSNR |  75.56664 | 1 | 48.01616 | 2.011075e-11 |\n",
       "| congruent.fs | 160.43164 | 2 | 65.08311 | 6.973780e-26 |\n",
       "\n"
      ],
      "text/plain": [
       "             F         Df Df.res   Pr(>F)      \n",
       "zaSNR         75.56664 1  48.01616 2.011075e-11\n",
       "congruent.fs 160.43164 2  65.08311 6.973780e-26"
      ]
     },
     "metadata": {},
     "output_type": "display_data"
    },
    {
     "data": {
      "text/plain": [
       " contrast                estimate   SE    df t.ratio p.value\n",
       " congruent - incongruent   -128.2 7.21 226.3 -17.783 <.0001 \n",
       " congruent - no prior       -75.5 8.21  51.0  -9.191 <.0001 \n",
       " incongruent - no prior      52.7 8.73  49.3   6.038 <.0001 \n",
       "\n",
       "Degrees-of-freedom method: kenward-roger \n",
       "P value adjustment: holm method for 3 tests "
      ]
     },
     "metadata": {},
     "output_type": "display_data"
    }
   ],
   "source": [
    "#FINAL\n",
    "\n",
    "Anova(rtccon.lm.0nc,test.statistic = \"F\")\n",
    "\n",
    "rtccon.lm.0nc.emm <- emmeans(rtccon.lm.0nc,specs = ~congruent.fs)\n",
    "rtccon.lm.0nc.pairs <- pairs(rtccon.lm.0nc.emm,adjust=\"holm\")\n",
    "rtccon.lm.0nc.pairs"
   ]
  },
  {
   "cell_type": "code",
   "execution_count": 8,
   "metadata": {},
   "outputs": [
    {
     "data": {
      "text/html": [
       "<table class=\"dataframe\">\n",
       "<caption>A summary_emm: 3 × 6</caption>\n",
       "<thead>\n",
       "\t<tr><th></th><th scope=col>contrast</th><th scope=col>estimate</th><th scope=col>SE</th><th scope=col>df</th><th scope=col>t.ratio</th><th scope=col>p.value</th></tr>\n",
       "\t<tr><th></th><th scope=col>&lt;chr&gt;</th><th scope=col>&lt;dbl&gt;</th><th scope=col>&lt;dbl&gt;</th><th scope=col>&lt;dbl&gt;</th><th scope=col>&lt;dbl&gt;</th><th scope=col>&lt;dbl&gt;</th></tr>\n",
       "</thead>\n",
       "<tbody>\n",
       "\t<tr><th scope=row>1</th><td>congruent - incongruent</td><td>-128.16665</td><td>7.207237</td><td>226.27306</td><td>-17.783051</td><td>2.242342e-44</td></tr>\n",
       "\t<tr><th scope=row>2</th><td>congruent - no prior   </td><td> -75.47899</td><td>8.212368</td><td> 51.03370</td><td> -9.190892</td><td>4.197273e-12</td></tr>\n",
       "\t<tr><th scope=row>3</th><td>incongruent - no prior </td><td>  52.68767</td><td>8.725318</td><td> 49.30212</td><td>  6.038481</td><td>1.999749e-07</td></tr>\n",
       "</tbody>\n",
       "</table>\n"
      ],
      "text/latex": [
       "A summary\\_emm: 3 × 6\n",
       "\\begin{tabular}{r|llllll}\n",
       "  & contrast & estimate & SE & df & t.ratio & p.value\\\\\n",
       "  & <chr> & <dbl> & <dbl> & <dbl> & <dbl> & <dbl>\\\\\n",
       "\\hline\n",
       "\t1 & congruent - incongruent & -128.16665 & 7.207237 & 226.27306 & -17.783051 & 2.242342e-44\\\\\n",
       "\t2 & congruent - no prior    &  -75.47899 & 8.212368 &  51.03370 &  -9.190892 & 4.197273e-12\\\\\n",
       "\t3 & incongruent - no prior  &   52.68767 & 8.725318 &  49.30212 &   6.038481 & 1.999749e-07\\\\\n",
       "\\end{tabular}\n"
      ],
      "text/markdown": [
       "\n",
       "A summary_emm: 3 × 6\n",
       "\n",
       "| <!--/--> | contrast &lt;chr&gt; | estimate &lt;dbl&gt; | SE &lt;dbl&gt; | df &lt;dbl&gt; | t.ratio &lt;dbl&gt; | p.value &lt;dbl&gt; |\n",
       "|---|---|---|---|---|---|---|\n",
       "| 1 | congruent - incongruent | -128.16665 | 7.207237 | 226.27306 | -17.783051 | 2.242342e-44 |\n",
       "| 2 | congruent - no prior    |  -75.47899 | 8.212368 |  51.03370 |  -9.190892 | 4.197273e-12 |\n",
       "| 3 | incongruent - no prior  |   52.68767 | 8.725318 |  49.30212 |   6.038481 | 1.999749e-07 |\n",
       "\n"
      ],
      "text/plain": [
       "  contrast                estimate   SE       df        t.ratio    p.value     \n",
       "1 congruent - incongruent -128.16665 7.207237 226.27306 -17.783051 2.242342e-44\n",
       "2 congruent - no prior     -75.47899 8.212368  51.03370  -9.190892 4.197273e-12\n",
       "3 incongruent - no prior    52.68767 8.725318  49.30212   6.038481 1.999749e-07"
      ]
     },
     "metadata": {},
     "output_type": "display_data"
    }
   ],
   "source": [
    "#FINAL\n",
    "summary(rtccon.lm.0nc.pairs,adjust=\"holm\")"
   ]
  },
  {
   "cell_type": "markdown",
   "metadata": {},
   "source": [
    "### generate predictions for plotting"
   ]
  },
  {
   "cell_type": "code",
   "execution_count": 9,
   "metadata": {
    "scrolled": true
   },
   "outputs": [],
   "source": [
    "#FINAL\n",
    "\n",
    "pt_dfc.med$RT_pred <- predict(rtccon.lm.0nc) #with rfx"
   ]
  },
  {
   "cell_type": "code",
   "execution_count": 10,
   "metadata": {
    "scrolled": true
   },
   "outputs": [
    {
     "name": "stderr",
     "output_type": "stream",
     "text": [
      "`summarise()` regrouping output by 'aSNR', 'isH', 'prior.f' (override with `.groups` argument)\n",
      "\n"
     ]
    }
   ],
   "source": [
    "#FINAL\n",
    "\n",
    "#plot against medians\n",
    "pt_dfc.med$prior.f <- factor(pt_dfc.med$prior,levels=c(-2,2,0),labels=c('low','high','no'))\n",
    "pred_ave.med_all <- summarise(group_by(pt_dfc.med,aSNR,isH,prior.f,prior),RT_sem=se(RT),RT=mean(RT),\n",
    "                              RT_pred=mean(RT_pred))#,RT_pred_rfx=mean(RT_pred_rfx))\n",
    "pred_ave.med_all$SNR <- pred_ave.med_all$aSNR *(pred_ave.med_all$isH*2-1)"
   ]
  },
  {
   "cell_type": "code",
   "execution_count": 12,
   "metadata": {},
   "outputs": [],
   "source": [
    "#output for matlab plotting\n",
    "if (F) {\n",
    "    write.csv(pred_ave.med_all,paste0('./precue_RT_pred_',Sys.Date(),'.csv'),row.names=F)\n",
    "}"
   ]
  },
  {
   "cell_type": "code",
   "execution_count": 13,
   "metadata": {},
   "outputs": [
    {
     "data": {
      "image/png": "[encoded data removed]",
      "text/plain": [
       "plot without title"
      ]
     },
     "metadata": {
      "image/png": {
       "height": 420,
       "width": 420
      }
     },
     "output_type": "display_data"
    }
   ],
   "source": [
    "ggplot(pred_ave.med_all, aes(x=SNR, y=RT, colour=prior.f)) + \n",
    "    geom_errorbar(aes(ymin=RT-RT_sem, ymax=RT+RT_sem), width=0) +\n",
    "    geom_point() +\n",
    "    geom_line(aes(x=SNR, y=RT_pred, colour=prior.f)) +\n",
    "    ylim(c(400,800)) + \n",
    "    scale_color_manual(values=c(\"blue\", \"red\", \"black\")) +\n",
    "    theme_classic()"
   ]
  }
 ],
 "metadata": {
  "kernelspec": {
   "display_name": "R",
   "language": "R",
   "name": "ir"
  },
  "language_info": {
   "codemirror_mode": "r",
   "file_extension": ".r",
   "mimetype": "text/x-r-source",
   "name": "R",
   "pygments_lexer": "r",
   "version": "4.0.2"
  }
 },
 "nbformat": 4,
 "nbformat_minor": 4
}
