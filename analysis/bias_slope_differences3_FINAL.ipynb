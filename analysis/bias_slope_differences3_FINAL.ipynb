{
 "cells": [
  {
   "cell_type": "markdown",
   "id": "c8a35dca",
   "metadata": {},
   "source": [
    "This script asks whether there is a significant difference in the slope of the relationship between evidence accumulation and starting point bias between the rule-driven and stimulus-driven conditions, for the section \"Rule- and stimulus-based biases exhibited distinct computational signatures.\""
   ]
  },
  {
   "cell_type": "code",
   "execution_count": 1,
   "id": "450aa953",
   "metadata": {},
   "outputs": [
    {
     "name": "stderr",
     "output_type": "stream",
     "text": [
      "Registered S3 methods overwritten by 'tibble':\n",
      "  method     from  \n",
      "  format.tbl pillar\n",
      "  print.tbl  pillar\n",
      "\n",
      "\n",
      "Attaching package: 'dplyr'\n",
      "\n",
      "\n",
      "The following objects are masked from 'package:stats':\n",
      "\n",
      "    filter, lag\n",
      "\n",
      "\n",
      "The following objects are masked from 'package:base':\n",
      "\n",
      "    intersect, setdiff, setequal, union\n",
      "\n",
      "\n",
      "Loading required package: Matrix\n",
      "\n",
      "\n",
      "Attaching package: 'Matrix'\n",
      "\n",
      "\n",
      "The following objects are masked from 'package:tidyr':\n",
      "\n",
      "    expand, pack, unpack\n",
      "\n",
      "\n",
      "Warning message:\n",
      "\"package 'lmerTest' was built under R version 4.0.4\"\n",
      "\n",
      "Attaching package: 'lmerTest'\n",
      "\n",
      "\n",
      "The following object is masked from 'package:lme4':\n",
      "\n",
      "    lmer\n",
      "\n",
      "\n",
      "The following object is masked from 'package:stats':\n",
      "\n",
      "    step\n",
      "\n",
      "\n",
      "Warning message:\n",
      "\"package 'ggplot2' was built under R version 4.0.4\"\n",
      "Warning message:\n",
      "\"package 'blme' was built under R version 4.0.5\"\n",
      "Warning message:\n",
      "\"package 'emmeans' was built under R version 4.0.4\"\n"
     ]
    },
    {
     "data": {
      "text/html": [
       "<table class=\"dataframe\">\n",
       "<caption>A data.frame: 6 × 33</caption>\n",
       "<thead>\n",
       "\t<tr><th></th><th scope=col>subject</th><th scope=col>block</th><th scope=col>blocknum</th><th scope=col>B</th><th scope=col>nondectime_Bias</th><th scope=col>nondectime_No</th><th scope=col>t</th><th scope=col>tau_Adapt</th><th scope=col>tau_Bias</th><th scope=col>umixturecoef</th><th scope=col>...</th><th scope=col>z_No</th><th scope=col>z_Nonolog</th><th scope=col>v_diff</th><th scope=col>z_diff</th><th scope=col>v_BiasHH</th><th scope=col>v_BiasLL</th><th scope=col>v_Biasdiff</th><th scope=col>z_BiasHH</th><th scope=col>z_BiasLL</th><th scope=col>z_Biasdiff</th></tr>\n",
       "\t<tr><th></th><th scope=col>&lt;chr&gt;</th><th scope=col>&lt;chr&gt;</th><th scope=col>&lt;int&gt;</th><th scope=col>&lt;dbl&gt;</th><th scope=col>&lt;dbl&gt;</th><th scope=col>&lt;dbl&gt;</th><th scope=col>&lt;dbl&gt;</th><th scope=col>&lt;dbl&gt;</th><th scope=col>&lt;dbl&gt;</th><th scope=col>&lt;dbl&gt;</th><th scope=col>...</th><th scope=col>&lt;dbl&gt;</th><th scope=col>&lt;dbl&gt;</th><th scope=col>&lt;dbl&gt;</th><th scope=col>&lt;dbl&gt;</th><th scope=col>&lt;dbl&gt;</th><th scope=col>&lt;dbl&gt;</th><th scope=col>&lt;dbl&gt;</th><th scope=col>&lt;dbl&gt;</th><th scope=col>&lt;dbl&gt;</th><th scope=col>&lt;dbl&gt;</th></tr>\n",
       "</thead>\n",
       "<tbody>\n",
       "\t<tr><th scope=row>1</th><td>AdL</td><td>priorOnly  </td><td>1</td><td>0.9715937</td><td>        NA</td><td>0.1583011</td><td>0.6647727</td><td>       NA</td><td>       NA</td><td>0.04370345</td><td>...</td><td> 0.399670563</td><td>0.5986085</td><td>1.631192</td><td>0.3153712</td><td>        NA</td><td>         NA</td><td>        NA</td><td>         NA</td><td>         NA</td><td>         NA</td></tr>\n",
       "\t<tr><th scope=row>2</th><td>AdR</td><td>priorOnly  </td><td>1</td><td>0.7712041</td><td>        NA</td><td>0.2983822</td><td>0.1864977</td><td>       NA</td><td>       NA</td><td>0.02101964</td><td>...</td><td>-0.064369745</td><td>0.4839131</td><td>1.160783</td><td>0.4789212</td><td>        NA</td><td>         NA</td><td>        NA</td><td>         NA</td><td>         NA</td><td>         NA</td></tr>\n",
       "\t<tr><th scope=row>3</th><td>AdR</td><td>pretoneOnly</td><td>2</td><td>1.0193112</td><td>-0.1304806</td><td>0.4533451</td><td>0.6519824</td><td>13.929159</td><td> 1.901462</td><td>0.01700377</td><td>...</td><td> 0.403590069</td><td>0.5995499</td><td>      NA</td><td>       NA</td><td>1.15637468</td><td>-1.15637468</td><td>2.31274936</td><td>-0.08608592</td><td> 0.08608592</td><td>-0.17217184</td></tr>\n",
       "\t<tr><th scope=row>4</th><td>AkB</td><td>priorOnly  </td><td>1</td><td>0.9572631</td><td>        NA</td><td>0.2545406</td><td>1.8498360</td><td>       NA</td><td>       NA</td><td>0.01793561</td><td>...</td><td>-0.006835659</td><td>0.4982911</td><td>2.935278</td><td>0.2326740</td><td>        NA</td><td>         NA</td><td>        NA</td><td>         NA</td><td>         NA</td><td>         NA</td></tr>\n",
       "\t<tr><th scope=row>5</th><td>AkB</td><td>pretoneOnly</td><td>2</td><td>0.9201162</td><td>-0.5882514</td><td>0.4012478</td><td>1.0136500</td><td>13.811944</td><td> 3.203655</td><td>0.01489148</td><td>...</td><td> 0.009610032</td><td>0.5024025</td><td>      NA</td><td>       NA</td><td>0.67488633</td><td>-0.67488633</td><td>1.34977265</td><td>-0.07271502</td><td> 0.07271502</td><td>-0.14543004</td></tr>\n",
       "\t<tr><th scope=row>6</th><td>AkB</td><td>pretone_pLH</td><td>3</td><td>0.8076607</td><td> 0.3508757</td><td>0.3561030</td><td>1.5740680</td><td> 8.631048</td><td>12.984282</td><td>0.02030518</td><td>...</td><td>          NA</td><td>0.5000000</td><td>5.253422</td><td>0.0857925</td><td>0.02452666</td><td>-0.02452666</td><td>0.04905332</td><td> 0.01785198</td><td>-0.01785198</td><td> 0.03570397</td></tr>\n",
       "</tbody>\n",
       "</table>\n"
      ],
      "text/latex": [
       "A data.frame: 6 × 33\n",
       "\\begin{tabular}{r|lllllllllllllllllllll}\n",
       "  & subject & block & blocknum & B & nondectime\\_Bias & nondectime\\_No & t & tau\\_Adapt & tau\\_Bias & umixturecoef & ... & z\\_No & z\\_Nonolog & v\\_diff & z\\_diff & v\\_BiasHH & v\\_BiasLL & v\\_Biasdiff & z\\_BiasHH & z\\_BiasLL & z\\_Biasdiff\\\\\n",
       "  & <chr> & <chr> & <int> & <dbl> & <dbl> & <dbl> & <dbl> & <dbl> & <dbl> & <dbl> & ... & <dbl> & <dbl> & <dbl> & <dbl> & <dbl> & <dbl> & <dbl> & <dbl> & <dbl> & <dbl>\\\\\n",
       "\\hline\n",
       "\t1 & AdL & priorOnly   & 1 & 0.9715937 &         NA & 0.1583011 & 0.6647727 &        NA &        NA & 0.04370345 & ... &  0.399670563 & 0.5986085 & 1.631192 & 0.3153712 &         NA &          NA &         NA &          NA &          NA &          NA\\\\\n",
       "\t2 & AdR & priorOnly   & 1 & 0.7712041 &         NA & 0.2983822 & 0.1864977 &        NA &        NA & 0.02101964 & ... & -0.064369745 & 0.4839131 & 1.160783 & 0.4789212 &         NA &          NA &         NA &          NA &          NA &          NA\\\\\n",
       "\t3 & AdR & pretoneOnly & 2 & 1.0193112 & -0.1304806 & 0.4533451 & 0.6519824 & 13.929159 &  1.901462 & 0.01700377 & ... &  0.403590069 & 0.5995499 &       NA &        NA & 1.15637468 & -1.15637468 & 2.31274936 & -0.08608592 &  0.08608592 & -0.17217184\\\\\n",
       "\t4 & AkB & priorOnly   & 1 & 0.9572631 &         NA & 0.2545406 & 1.8498360 &        NA &        NA & 0.01793561 & ... & -0.006835659 & 0.4982911 & 2.935278 & 0.2326740 &         NA &          NA &         NA &          NA &          NA &          NA\\\\\n",
       "\t5 & AkB & pretoneOnly & 2 & 0.9201162 & -0.5882514 & 0.4012478 & 1.0136500 & 13.811944 &  3.203655 & 0.01489148 & ... &  0.009610032 & 0.5024025 &       NA &        NA & 0.67488633 & -0.67488633 & 1.34977265 & -0.07271502 &  0.07271502 & -0.14543004\\\\\n",
       "\t6 & AkB & pretone\\_pLH & 3 & 0.8076607 &  0.3508757 & 0.3561030 & 1.5740680 &  8.631048 & 12.984282 & 0.02030518 & ... &           NA & 0.5000000 & 5.253422 & 0.0857925 & 0.02452666 & -0.02452666 & 0.04905332 &  0.01785198 & -0.01785198 &  0.03570397\\\\\n",
       "\\end{tabular}\n"
      ],
      "text/markdown": [
       "\n",
       "A data.frame: 6 × 33\n",
       "\n",
       "| <!--/--> | subject &lt;chr&gt; | block &lt;chr&gt; | blocknum &lt;int&gt; | B &lt;dbl&gt; | nondectime_Bias &lt;dbl&gt; | nondectime_No &lt;dbl&gt; | t &lt;dbl&gt; | tau_Adapt &lt;dbl&gt; | tau_Bias &lt;dbl&gt; | umixturecoef &lt;dbl&gt; | ... ... | z_No &lt;dbl&gt; | z_Nonolog &lt;dbl&gt; | v_diff &lt;dbl&gt; | z_diff &lt;dbl&gt; | v_BiasHH &lt;dbl&gt; | v_BiasLL &lt;dbl&gt; | v_Biasdiff &lt;dbl&gt; | z_BiasHH &lt;dbl&gt; | z_BiasLL &lt;dbl&gt; | z_Biasdiff &lt;dbl&gt; |\n",
       "|---|---|---|---|---|---|---|---|---|---|---|---|---|---|---|---|---|---|---|---|---|---|\n",
       "| 1 | AdL | priorOnly   | 1 | 0.9715937 |         NA | 0.1583011 | 0.6647727 |        NA |        NA | 0.04370345 | ... |  0.399670563 | 0.5986085 | 1.631192 | 0.3153712 |         NA |          NA |         NA |          NA |          NA |          NA |\n",
       "| 2 | AdR | priorOnly   | 1 | 0.7712041 |         NA | 0.2983822 | 0.1864977 |        NA |        NA | 0.02101964 | ... | -0.064369745 | 0.4839131 | 1.160783 | 0.4789212 |         NA |          NA |         NA |          NA |          NA |          NA |\n",
       "| 3 | AdR | pretoneOnly | 2 | 1.0193112 | -0.1304806 | 0.4533451 | 0.6519824 | 13.929159 |  1.901462 | 0.01700377 | ... |  0.403590069 | 0.5995499 |       NA |        NA | 1.15637468 | -1.15637468 | 2.31274936 | -0.08608592 |  0.08608592 | -0.17217184 |\n",
       "| 4 | AkB | priorOnly   | 1 | 0.9572631 |         NA | 0.2545406 | 1.8498360 |        NA |        NA | 0.01793561 | ... | -0.006835659 | 0.4982911 | 2.935278 | 0.2326740 |         NA |          NA |         NA |          NA |          NA |          NA |\n",
       "| 5 | AkB | pretoneOnly | 2 | 0.9201162 | -0.5882514 | 0.4012478 | 1.0136500 | 13.811944 |  3.203655 | 0.01489148 | ... |  0.009610032 | 0.5024025 |       NA |        NA | 0.67488633 | -0.67488633 | 1.34977265 | -0.07271502 |  0.07271502 | -0.14543004 |\n",
       "| 6 | AkB | pretone_pLH | 3 | 0.8076607 |  0.3508757 | 0.3561030 | 1.5740680 |  8.631048 | 12.984282 | 0.02030518 | ... |           NA | 0.5000000 | 5.253422 | 0.0857925 | 0.02452666 | -0.02452666 | 0.04905332 |  0.01785198 | -0.01785198 |  0.03570397 |\n",
       "\n"
      ],
      "text/plain": [
       "  subject block       blocknum B         nondectime_Bias nondectime_No\n",
       "1 AdL     priorOnly   1        0.9715937         NA      0.1583011    \n",
       "2 AdR     priorOnly   1        0.7712041         NA      0.2983822    \n",
       "3 AdR     pretoneOnly 2        1.0193112 -0.1304806      0.4533451    \n",
       "4 AkB     priorOnly   1        0.9572631         NA      0.2545406    \n",
       "5 AkB     pretoneOnly 2        0.9201162 -0.5882514      0.4012478    \n",
       "6 AkB     pretone_pLH 3        0.8076607  0.3508757      0.3561030    \n",
       "  t         tau_Adapt tau_Bias  umixturecoef ... z_No         z_Nonolog\n",
       "1 0.6647727        NA        NA 0.04370345   ...  0.399670563 0.5986085\n",
       "2 0.1864977        NA        NA 0.02101964   ... -0.064369745 0.4839131\n",
       "3 0.6519824 13.929159  1.901462 0.01700377   ...  0.403590069 0.5995499\n",
       "4 1.8498360        NA        NA 0.01793561   ... -0.006835659 0.4982911\n",
       "5 1.0136500 13.811944  3.203655 0.01489148   ...  0.009610032 0.5024025\n",
       "6 1.5740680  8.631048 12.984282 0.02030518   ...           NA 0.5000000\n",
       "  v_diff   z_diff    v_BiasHH   v_BiasLL    v_Biasdiff z_BiasHH    z_BiasLL   \n",
       "1 1.631192 0.3153712         NA          NA         NA          NA          NA\n",
       "2 1.160783 0.4789212         NA          NA         NA          NA          NA\n",
       "3       NA        NA 1.15637468 -1.15637468 2.31274936 -0.08608592  0.08608592\n",
       "4 2.935278 0.2326740         NA          NA         NA          NA          NA\n",
       "5       NA        NA 0.67488633 -0.67488633 1.34977265 -0.07271502  0.07271502\n",
       "6 5.253422 0.0857925 0.02452666 -0.02452666 0.04905332  0.01785198 -0.01785198\n",
       "  z_Biasdiff \n",
       "1          NA\n",
       "2          NA\n",
       "3 -0.17217184\n",
       "4          NA\n",
       "5 -0.14543004\n",
       "6  0.03570397"
      ]
     },
     "metadata": {},
     "output_type": "display_data"
    }
   ],
   "source": [
    "#clear memory\n",
    "rm(list=ls())\n",
    "\n",
    "library(dplyr)\n",
    "library(tidyr)\n",
    "library(lme4)\n",
    "library(lmerTest)\n",
    "library(ggplot2)\n",
    "library(blme)\n",
    "library(emmeans)\n",
    "\n",
    "switch(Sys.info()[['sysname']],\n",
    "       Windows = PROJECT_DIR <- paste0('C:/Users/',Sys.getenv('USERNAME'),\n",
    "                              '/Dropbox/Goldlab/AuditoryPriors/'),\n",
    "       Darwin = PROJECT_DIR <- '~/Dropbox/Goldlab/AuditoryPriors/'\n",
    ")\n",
    "\n",
    "setwd(paste0(PROJECT_DIR,'data processing'))\n",
    "\n",
    "DATA_FILE = 'params_blockW_forR_01-Nov-2021.csv'\n",
    "\n",
    "param_df <- read.table(DATA_FILE,sep=',', header=TRUE, \n",
    "                    stringsAsFactors=FALSE,na.strings = 'NaN')\n",
    "head(param_df)"
   ]
  },
  {
   "cell_type": "code",
   "execution_count": 2,
   "id": "735c5219",
   "metadata": {},
   "outputs": [
    {
     "data": {
      "text/html": [
       "<table class=\"dataframe\">\n",
       "<caption>A data.frame: 6 × 7</caption>\n",
       "<thead>\n",
       "\t<tr><th></th><th scope=col>subject</th><th scope=col>v_High</th><th scope=col>v_Low</th><th scope=col>z_High</th><th scope=col>z_Low</th><th scope=col>v_Bias</th><th scope=col>z_Bias</th></tr>\n",
       "\t<tr><th></th><th scope=col>&lt;chr&gt;</th><th scope=col>&lt;dbl&gt;</th><th scope=col>&lt;dbl&gt;</th><th scope=col>&lt;dbl&gt;</th><th scope=col>&lt;dbl&gt;</th><th scope=col>&lt;dbl&gt;</th><th scope=col>&lt;dbl&gt;</th></tr>\n",
       "</thead>\n",
       "<tbody>\n",
       "\t<tr><th scope=row>1</th><td>AdR </td><td>0.8028281</td><td>-0.3579545</td><td>0.2343687</td><td>-0.24455250</td><td>1.0061118</td><td>-0.07489965</td></tr>\n",
       "\t<tr><th scope=row>2</th><td>AkB </td><td>1.7071202</td><td>-1.2281576</td><td>0.1728627</td><td>-0.05981132</td><td>0.6485466</td><td>-0.06987707</td></tr>\n",
       "\t<tr><th scope=row>3</th><td>AnK </td><td>0.8267580</td><td>-0.8510863</td><td>0.4797247</td><td>-0.20624947</td><td>0.6560456</td><td>-0.15612509</td></tr>\n",
       "\t<tr><th scope=row>4</th><td>AvL </td><td>0.6363923</td><td>-0.3609405</td><td>0.8173684</td><td>-0.18133508</td><td>0.5159801</td><td> 0.07173942</td></tr>\n",
       "\t<tr><th scope=row>5</th><td>BrB </td><td>0.7947665</td><td>-1.3402627</td><td>0.5827298</td><td>-0.39395130</td><td>1.1082967</td><td>-0.32969388</td></tr>\n",
       "\t<tr><th scope=row>6</th><td>BrB2</td><td>0.2174539</td><td>-0.4655040</td><td>0.5137024</td><td> 0.01818900</td><td>1.0659781</td><td>-0.08180039</td></tr>\n",
       "</tbody>\n",
       "</table>\n"
      ],
      "text/latex": [
       "A data.frame: 6 × 7\n",
       "\\begin{tabular}{r|lllllll}\n",
       "  & subject & v\\_High & v\\_Low & z\\_High & z\\_Low & v\\_Bias & z\\_Bias\\\\\n",
       "  & <chr> & <dbl> & <dbl> & <dbl> & <dbl> & <dbl> & <dbl>\\\\\n",
       "\\hline\n",
       "\t1 & AdR  & 0.8028281 & -0.3579545 & 0.2343687 & -0.24455250 & 1.0061118 & -0.07489965\\\\\n",
       "\t2 & AkB  & 1.7071202 & -1.2281576 & 0.1728627 & -0.05981132 & 0.6485466 & -0.06987707\\\\\n",
       "\t3 & AnK  & 0.8267580 & -0.8510863 & 0.4797247 & -0.20624947 & 0.6560456 & -0.15612509\\\\\n",
       "\t4 & AvL  & 0.6363923 & -0.3609405 & 0.8173684 & -0.18133508 & 0.5159801 &  0.07173942\\\\\n",
       "\t5 & BrB  & 0.7947665 & -1.3402627 & 0.5827298 & -0.39395130 & 1.1082967 & -0.32969388\\\\\n",
       "\t6 & BrB2 & 0.2174539 & -0.4655040 & 0.5137024 &  0.01818900 & 1.0659781 & -0.08180039\\\\\n",
       "\\end{tabular}\n"
      ],
      "text/markdown": [
       "\n",
       "A data.frame: 6 × 7\n",
       "\n",
       "| <!--/--> | subject &lt;chr&gt; | v_High &lt;dbl&gt; | v_Low &lt;dbl&gt; | z_High &lt;dbl&gt; | z_Low &lt;dbl&gt; | v_Bias &lt;dbl&gt; | z_Bias &lt;dbl&gt; |\n",
       "|---|---|---|---|---|---|---|---|\n",
       "| 1 | AdR  | 0.8028281 | -0.3579545 | 0.2343687 | -0.24455250 | 1.0061118 | -0.07489965 |\n",
       "| 2 | AkB  | 1.7071202 | -1.2281576 | 0.1728627 | -0.05981132 | 0.6485466 | -0.06987707 |\n",
       "| 3 | AnK  | 0.8267580 | -0.8510863 | 0.4797247 | -0.20624947 | 0.6560456 | -0.15612509 |\n",
       "| 4 | AvL  | 0.6363923 | -0.3609405 | 0.8173684 | -0.18133508 | 0.5159801 |  0.07173942 |\n",
       "| 5 | BrB  | 0.7947665 | -1.3402627 | 0.5827298 | -0.39395130 | 1.1082967 | -0.32969388 |\n",
       "| 6 | BrB2 | 0.2174539 | -0.4655040 | 0.5137024 |  0.01818900 | 1.0659781 | -0.08180039 |\n",
       "\n"
      ],
      "text/plain": [
       "  subject v_High    v_Low      z_High    z_Low       v_Bias    z_Bias     \n",
       "1 AdR     0.8028281 -0.3579545 0.2343687 -0.24455250 1.0061118 -0.07489965\n",
       "2 AkB     1.7071202 -1.2281576 0.1728627 -0.05981132 0.6485466 -0.06987707\n",
       "3 AnK     0.8267580 -0.8510863 0.4797247 -0.20624947 0.6560456 -0.15612509\n",
       "4 AvL     0.6363923 -0.3609405 0.8173684 -0.18133508 0.5159801  0.07173942\n",
       "5 BrB     0.7947665 -1.3402627 0.5827298 -0.39395130 1.1082967 -0.32969388\n",
       "6 BrB2    0.2174539 -0.4655040 0.5137024  0.01818900 1.0659781 -0.08180039"
      ]
     },
     "metadata": {},
     "output_type": "display_data"
    }
   ],
   "source": [
    "prior_pt <- inner_join(param_df[param_df$block=='priorOnly',\n",
    "                                c('subject','v_High','v_Low','z_High','z_Low')], #'v_diff','z_diff')],\n",
    "      param_df[param_df$block=='pretoneOnly',c('subject','v_Bias','z_Bias')],by='subject')           \n",
    "head(prior_pt)\n",
    "\n"
   ]
  },
  {
   "cell_type": "code",
   "execution_count": 3,
   "id": "6dd21e06",
   "metadata": {
    "scrolled": true
   },
   "outputs": [],
   "source": [
    "#massage into format we need\n",
    "prior_ptL <- pivot_longer(prior_pt,v_High:z_Bias,names_to='param',values_to='value')\n",
    "\n",
    "#add flag for whether z or v, which will become variable names in final table\n",
    "prior_ptL$vz <- sapply(prior_ptL$param,function(x) substr(x,1,1)) \n",
    "\n",
    "#get bias type from param variable\n",
    "prior_ptL$bias_type <- sapply(prior_ptL$param,function(x) strsplit(x,'_')[[1]][2])\n",
    "prior_ptL <- pivot_wider(select(prior_ptL,!param),names_from=vz,values_from=value)"
   ]
  },
  {
   "cell_type": "code",
   "execution_count": 4,
   "id": "03e54221",
   "metadata": {},
   "outputs": [
    {
     "data": {
      "text/html": [
       "<table class=\"dataframe\">\n",
       "<caption>A matrix: 3 × 2 of type dbl</caption>\n",
       "<tbody>\n",
       "\t<tr><th scope=row>Low</th><td> 1</td><td> 0</td></tr>\n",
       "\t<tr><th scope=row>High</th><td> 0</td><td> 1</td></tr>\n",
       "\t<tr><th scope=row>Bias</th><td>-1</td><td>-1</td></tr>\n",
       "</tbody>\n",
       "</table>\n"
      ],
      "text/latex": [
       "A matrix: 3 × 2 of type dbl\n",
       "\\begin{tabular}{r|ll}\n",
       "\tLow &  1 &  0\\\\\n",
       "\tHigh &  0 &  1\\\\\n",
       "\tBias & -1 & -1\\\\\n",
       "\\end{tabular}\n"
      ],
      "text/markdown": [
       "\n",
       "A matrix: 3 × 2 of type dbl\n",
       "\n",
       "| Low |  1 |  0 |\n",
       "| High |  0 |  1 |\n",
       "| Bias | -1 | -1 |\n",
       "\n"
      ],
      "text/plain": [
       "     [,1] [,2]\n",
       "Low   1    0  \n",
       "High  0    1  \n",
       "Bias -1   -1  "
      ]
     },
     "metadata": {},
     "output_type": "display_data"
    },
    {
     "data": {
      "text/html": [
       "<table class=\"dataframe\">\n",
       "<caption>A matrix: 3 × 2 of type dbl</caption>\n",
       "<tbody>\n",
       "\t<tr><th scope=row>Low</th><td>-0.5</td><td>-0.3333333</td></tr>\n",
       "\t<tr><th scope=row>High</th><td> 0.5</td><td>-0.3333333</td></tr>\n",
       "\t<tr><th scope=row>Bias</th><td> 0.0</td><td> 0.6666667</td></tr>\n",
       "</tbody>\n",
       "</table>\n"
      ],
      "text/latex": [
       "A matrix: 3 × 2 of type dbl\n",
       "\\begin{tabular}{r|ll}\n",
       "\tLow & -0.5 & -0.3333333\\\\\n",
       "\tHigh &  0.5 & -0.3333333\\\\\n",
       "\tBias &  0.0 &  0.6666667\\\\\n",
       "\\end{tabular}\n"
      ],
      "text/markdown": [
       "\n",
       "A matrix: 3 × 2 of type dbl\n",
       "\n",
       "| Low | -0.5 | -0.3333333 |\n",
       "| High |  0.5 | -0.3333333 |\n",
       "| Bias |  0.0 |  0.6666667 |\n",
       "\n"
      ],
      "text/plain": [
       "     [,1] [,2]      \n",
       "Low  -0.5 -0.3333333\n",
       "High  0.5 -0.3333333\n",
       "Bias  0.0  0.6666667"
      ]
     },
     "metadata": {},
     "output_type": "display_data"
    },
    {
     "data": {
      "text/html": [
       "<table class=\"dataframe\">\n",
       "<caption>A grouped_df: 6 × 9</caption>\n",
       "<thead>\n",
       "\t<tr><th scope=col>subject</th><th scope=col>bias_type</th><th scope=col>v</th><th scope=col>z</th><th scope=col>bias_type2</th><th scope=col>z_v</th><th scope=col>z_z</th><th scope=col>bias_type.f</th><th scope=col>bias_type.fh</th></tr>\n",
       "\t<tr><th scope=col>&lt;chr&gt;</th><th scope=col>&lt;chr&gt;</th><th scope=col>&lt;dbl&gt;</th><th scope=col>&lt;dbl&gt;</th><th scope=col>&lt;chr&gt;</th><th scope=col>&lt;dbl[,1]&gt;</th><th scope=col>&lt;dbl[,1]&gt;</th><th scope=col>&lt;fct&gt;</th><th scope=col>&lt;fct&gt;</th></tr>\n",
       "</thead>\n",
       "<tbody>\n",
       "\t<tr><td>AdR</td><td>High</td><td> 0.8028281</td><td> 0.23436869</td><td>prior</td><td> 0.8922784</td><td> 0.33670984</td><td>High</td><td>High</td></tr>\n",
       "\t<tr><td>AdR</td><td>Low </td><td>-0.3579545</td><td>-0.24455250</td><td>prior</td><td>-0.2533128</td><td>-0.78415349</td><td>Low </td><td>Low </td></tr>\n",
       "\t<tr><td>AdR</td><td>Bias</td><td> 1.0061118</td><td>-0.07489965</td><td>pt   </td><td> 0.2517041</td><td> 0.05600936</td><td>Bias</td><td>Bias</td></tr>\n",
       "\t<tr><td>AkB</td><td>High</td><td> 1.7071202</td><td> 0.17286268</td><td>prior</td><td> 1.7847357</td><td> 0.19276165</td><td>High</td><td>High</td></tr>\n",
       "\t<tr><td>AkB</td><td>Low </td><td>-1.2281576</td><td>-0.05981132</td><td>prior</td><td>-1.1121274</td><td>-0.35178671</td><td>Low </td><td>Low </td></tr>\n",
       "\t<tr><td>AkB</td><td>Bias</td><td> 0.6485466</td><td>-0.06987707</td><td>pt   </td><td>-0.2391649</td><td> 0.08706978</td><td>Bias</td><td>Bias</td></tr>\n",
       "</tbody>\n",
       "</table>\n"
      ],
      "text/latex": [
       "A grouped\\_df: 6 × 9\n",
       "\\begin{tabular}{lllllllll}\n",
       " subject & bias\\_type & v & z & bias\\_type2 & z\\_v & z\\_z & bias\\_type.f & bias\\_type.fh\\\\\n",
       " <chr> & <chr> & <dbl> & <dbl> & <chr> & <dbl{[},1{]}> & <dbl{[},1{]}> & <fct> & <fct>\\\\\n",
       "\\hline\n",
       "\t AdR & High &  0.8028281 &  0.23436869 & prior &  0.8922784 &  0.33670984 & High & High\\\\\n",
       "\t AdR & Low  & -0.3579545 & -0.24455250 & prior & -0.2533128 & -0.78415349 & Low  & Low \\\\\n",
       "\t AdR & Bias &  1.0061118 & -0.07489965 & pt    &  0.2517041 &  0.05600936 & Bias & Bias\\\\\n",
       "\t AkB & High &  1.7071202 &  0.17286268 & prior &  1.7847357 &  0.19276165 & High & High\\\\\n",
       "\t AkB & Low  & -1.2281576 & -0.05981132 & prior & -1.1121274 & -0.35178671 & Low  & Low \\\\\n",
       "\t AkB & Bias &  0.6485466 & -0.06987707 & pt    & -0.2391649 &  0.08706978 & Bias & Bias\\\\\n",
       "\\end{tabular}\n"
      ],
      "text/markdown": [
       "\n",
       "A grouped_df: 6 × 9\n",
       "\n",
       "| subject &lt;chr&gt; | bias_type &lt;chr&gt; | v &lt;dbl&gt; | z &lt;dbl&gt; | bias_type2 &lt;chr&gt; | z_v &lt;dbl[,1]&gt; | z_z &lt;dbl[,1]&gt; | bias_type.f &lt;fct&gt; | bias_type.fh &lt;fct&gt; |\n",
       "|---|---|---|---|---|---|---|---|---|\n",
       "| AdR | High |  0.8028281 |  0.23436869 | prior |  0.8922784 |  0.33670984 | High | High |\n",
       "| AdR | Low  | -0.3579545 | -0.24455250 | prior | -0.2533128 | -0.78415349 | Low  | Low  |\n",
       "| AdR | Bias |  1.0061118 | -0.07489965 | pt    |  0.2517041 |  0.05600936 | Bias | Bias |\n",
       "| AkB | High |  1.7071202 |  0.17286268 | prior |  1.7847357 |  0.19276165 | High | High |\n",
       "| AkB | Low  | -1.2281576 | -0.05981132 | prior | -1.1121274 | -0.35178671 | Low  | Low  |\n",
       "| AkB | Bias |  0.6485466 | -0.06987707 | pt    | -0.2391649 |  0.08706978 | Bias | Bias |\n",
       "\n"
      ],
      "text/plain": [
       "  subject bias_type v          z           bias_type2 z_v        z_z        \n",
       "1 AdR     High       0.8028281  0.23436869 prior       0.8922784  0.33670984\n",
       "2 AdR     Low       -0.3579545 -0.24455250 prior      -0.2533128 -0.78415349\n",
       "3 AdR     Bias       1.0061118 -0.07489965 pt          0.2517041  0.05600936\n",
       "4 AkB     High       1.7071202  0.17286268 prior       1.7847357  0.19276165\n",
       "5 AkB     Low       -1.2281576 -0.05981132 prior      -1.1121274 -0.35178671\n",
       "6 AkB     Bias       0.6485466 -0.06987707 pt         -0.2391649  0.08706978\n",
       "  bias_type.f bias_type.fh\n",
       "1 High        High        \n",
       "2 Low         Low         \n",
       "3 Bias        Bias        \n",
       "4 High        High        \n",
       "5 Low         Low         \n",
       "6 Bias        Bias        "
      ]
     },
     "metadata": {},
     "output_type": "display_data"
    }
   ],
   "source": [
    "#set up variables/factors\n",
    "prior_ptL$bias_type2 <- ifelse(prior_ptL$bias_type=='Bias','pt','prior') #condition variable\n",
    "\n",
    "#prior_ptL <- mutate(prior_ptL,z_v=scale(v),z_z=scale(z))\n",
    "prior_ptL <- mutate(group_by(prior_ptL,bias_type2),z_v=scale(v),z_z=scale(z)) #zscore w/in cond\n",
    "\n",
    "prior_ptL$bias_type.f <- factor(prior_ptL$bias_type,levels=c('Low','High','Bias'))\n",
    "contrasts(prior_ptL$bias_type.f) <- contr.sum(3)\n",
    "contrasts(prior_ptL$bias_type.f)\n",
    "\n",
    "#reverse helmert will give contrast of high/low, and then rule-driven to stimulus-driven\n",
    "my_rev_helmert <- contr.helmert(3)/cbind(c(2,2,2),c(3,3,3))\n",
    "prior_ptL$bias_type.fh <- prior_ptL$bias_type.f\n",
    "contrasts(prior_ptL$bias_type.fh) <- my_rev_helmert\n",
    "contrasts(prior_ptL$bias_type.fh)\n",
    "\n",
    "head(prior_ptL)"
   ]
  },
  {
   "cell_type": "markdown",
   "id": "0d7c90c3",
   "metadata": {},
   "source": [
    "## starting point bias as predictor, evidence accumulation bias as outcome\n",
    "\n",
    "Note that the biases are z-scored w/in condition (i.e. rule-based, stimulus-based)."
   ]
  },
  {
   "cell_type": "code",
   "execution_count": 5,
   "id": "0307e8a7",
   "metadata": {},
   "outputs": [
    {
     "name": "stderr",
     "output_type": "stream",
     "text": [
      "boundary (singular) fit: see ?isSingular\n",
      "\n"
     ]
    },
    {
     "data": {
      "text/plain": [
       " Groups   Name        Std.Dev.   Corr \n",
       " subject  (Intercept) 0.0000e+00      \n",
       "          z_z         9.5199e-12   NaN\n",
       " Residual             7.4071e-01      "
      ]
     },
     "metadata": {},
     "output_type": "display_data"
    }
   ],
   "source": [
    "#boundary issues so iteratively reduce\n",
    "bias_lm <- lmer(z_v~z_z*bias_type.fh + (1+z_z|subject),prior_ptL,\n",
    "                  control=lmerControl(optimizer=\"bobyqa\",\n",
    "                                      optCtrl=list(maxfun=2e5)))\n",
    "VarCorr(bias_lm)"
   ]
  },
  {
   "cell_type": "code",
   "execution_count": 6,
   "id": "6ab3992d",
   "metadata": {},
   "outputs": [
    {
     "name": "stderr",
     "output_type": "stream",
     "text": [
      "boundary (singular) fit: see ?isSingular\n",
      "\n"
     ]
    },
    {
     "data": {
      "text/plain": [
       " Groups    Name        Std.Dev.\n",
       " subject   (Intercept) 0.00000 \n",
       " subject.1 z_z         0.00000 \n",
       " Residual              0.74071 "
      ]
     },
     "metadata": {},
     "output_type": "display_data"
    }
   ],
   "source": [
    "bias_lm.zc <- lmer(z_v~z_z*bias_type.fh + (1+z_z||subject),prior_ptL,\n",
    "                  control=lmerControl(optimizer=\"bobyqa\",\n",
    "                                      optCtrl=list(maxfun=2e5)))\n",
    "VarCorr(bias_lm.zc)"
   ]
  },
  {
   "cell_type": "code",
   "execution_count": 7,
   "id": "2890f9a7",
   "metadata": {},
   "outputs": [
    {
     "name": "stderr",
     "output_type": "stream",
     "text": [
      "boundary (singular) fit: see ?isSingular\n",
      "\n"
     ]
    },
    {
     "data": {
      "text/plain": [
       " Groups   Name        Std.Dev.\n",
       " subject  (Intercept) 0.00000 \n",
       " Residual             0.74071 "
      ]
     },
     "metadata": {},
     "output_type": "display_data"
    }
   ],
   "source": [
    "bias_lm.2 <- lmer(z_v~z_z*bias_type.fh + (1|subject),prior_ptL,\n",
    "                  control=lmerControl(optimizer=\"bobyqa\",\n",
    "                                      optCtrl=list(maxfun=2e5)))\n",
    "VarCorr(bias_lm.2)"
   ]
  },
  {
   "cell_type": "code",
   "execution_count": 8,
   "id": "6e441af4",
   "metadata": {},
   "outputs": [
    {
     "name": "stderr",
     "output_type": "stream",
     "text": [
      "Warning message in checkConv(attr(opt, \"derivs\"), opt$par, ctrl = control$checkConv, :\n",
      "\"Model failed to converge with max|grad| = 4.4051 (tol = 0.002, component 1)\"\n"
     ]
    },
    {
     "data": {
      "text/plain": [
       "Cov prior  : subject ~ wishart(df = 4.5, scale = Inf, posterior.scale = cov, common.scale = TRUE)\n",
       "Prior dev  : 4.8676\n",
       "\n",
       "Linear mixed model fit by REML ['blmerMod']\n",
       "Formula: z_v ~ z_z * bias_type.fh + (1 + z_z | subject)\n",
       "   Data: prior_ptL\n",
       "Control: lmerControl(optimizer = \"bobyqa\", optCtrl = list(maxfun = 2e+05))\n",
       "\n",
       "REML criterion at convergence: 318.3\n",
       "\n",
       "Scaled residuals: \n",
       "    Min      1Q  Median      3Q     Max \n",
       "-2.1430 -0.5953 -0.1164  0.4420  4.2356 \n",
       "\n",
       "Random effects:\n",
       " Groups   Name        Variance Std.Dev. Corr\n",
       " subject  (Intercept) 0.0337   0.1836       \n",
       "          z_z         0.2268   0.4763   0.01\n",
       " Residual             0.4429   0.6655       \n",
       "Number of obs: 132, groups:  subject, 44\n",
       "\n",
       "Fixed effects:\n",
       "                  Estimate Std. Error t value\n",
       "(Intercept)        0.02782    0.08517   0.327\n",
       "z_z               -0.45049    0.11552  -3.900\n",
       "bias_type.fh1      2.19333    0.21353  10.272\n",
       "bias_type.fh2     -0.01733    0.15252  -0.114\n",
       "z_z:bias_type.fh1  0.03083    0.23067   0.134\n",
       "z_z:bias_type.fh2  0.37593    0.16364   2.297\n",
       "\n",
       "Correlation of Fixed Effects:\n",
       "            (Intr) z_z    bs_t.1 bs_t.2 z_:_.1\n",
       "z_z         -0.019                            \n",
       "bis_typ.fh1 -0.013 -0.501                     \n",
       "bis_typ.fh2 -0.270 -0.009  0.011              \n",
       "z_z:bs_ty.1 -0.590  0.036  0.003  0.498       \n",
       "z_z:bs_ty.2 -0.010 -0.224  0.498 -0.005  0.012\n",
       "convergence code: 0\n",
       "Model failed to converge with max|grad| = 4.4051 (tol = 0.002, component 1)\n"
      ]
     },
     "metadata": {},
     "output_type": "display_data"
    },
    {
     "data": {
      "text/plain": [
       "Cov prior  : subject ~ wishart(df = 3.5, scale = Inf, posterior.scale = cov, common.scale = TRUE)\n",
       "Prior dev  : 5.4318\n",
       "\n",
       "Linear mixed model fit by REML ['blmerMod']\n",
       "Formula: z_v ~ z_z * bias_type.fh + (1 | subject)\n",
       "   Data: prior_ptL\n",
       "Control: lmerControl(optimizer = \"bobyqa\", optCtrl = list(maxfun = 2e+05))\n",
       "\n",
       "REML criterion at convergence: 304.7\n",
       "\n",
       "Scaled residuals: \n",
       "    Min      1Q  Median      3Q     Max \n",
       "-2.6782 -0.5429 -0.0811  0.4940  4.5330 \n",
       "\n",
       "Random effects:\n",
       " Groups   Name        Variance Std.Dev.\n",
       " subject  (Intercept) 0.01448  0.1203  \n",
       " Residual             0.54113  0.7356  \n",
       "Number of obs: 132, groups:  subject, 44\n",
       "\n",
       "Fixed effects:\n",
       "                   Estimate Std. Error t value\n",
       "(Intercept)        0.007471   0.084926   0.088\n",
       "z_z               -0.459165   0.084338  -5.444\n",
       "bias_type.fh1      2.254913   0.222913  10.116\n",
       "bias_type.fh2     -0.011207   0.157198  -0.071\n",
       "z_z:bias_type.fh1 -0.031929   0.225488  -0.142\n",
       "z_z:bias_type.fh2  0.437027   0.159815   2.735\n",
       "\n",
       "Correlation of Fixed Effects:\n",
       "            (Intr) z_z    bs_t.1 bs_t.2 z_:_.1\n",
       "z_z         -0.010                            \n",
       "bis_typ.fh1  0.009 -0.635                     \n",
       "bis_typ.fh2 -0.313  0.008 -0.007              \n",
       "z_z:bs_ty.1 -0.621  0.015 -0.014  0.503       \n",
       "z_z:bs_ty.2  0.010 -0.309  0.500 -0.008 -0.017"
      ]
     },
     "metadata": {},
     "output_type": "display_data"
    }
   ],
   "source": [
    "#blme fit seems to confirm that intercept variance is near 0, \n",
    "#but this is unlikely to impact significance of result\n",
    "summary(blmer(z_v~z_z*bias_type.fh + (1+z_z|subject),prior_ptL,\n",
    "              control=lmerControl(optimizer=\"bobyqa\",\n",
    "                                      optCtrl=list(maxfun=2e5))))\n",
    "summary(blmer(z_v~z_z*bias_type.fh + (1|subject),prior_ptL,\n",
    "              control=lmerControl(optimizer=\"bobyqa\",\n",
    "                                      optCtrl=list(maxfun=2e5))))"
   ]
  },
  {
   "cell_type": "code",
   "execution_count": 9,
   "id": "d3a00784",
   "metadata": {},
   "outputs": [
    {
     "data": {
      "text/plain": [
       "Linear mixed model fit by REML. t-tests use Satterthwaite's method [\n",
       "lmerModLmerTest]\n",
       "Formula: z_v ~ z_z * bias_type.fh + (1 + z_z || subject)\n",
       "   Data: prior_ptL\n",
       "Control: lmerControl(optimizer = \"bobyqa\", optCtrl = list(maxfun = 2e+05))\n",
       "\n",
       "REML criterion at convergence: 303.2\n",
       "\n",
       "Scaled residuals: \n",
       "    Min      1Q  Median      3Q     Max \n",
       "-2.6982 -0.5356 -0.0572  0.4987  4.6107 \n",
       "\n",
       "Random effects:\n",
       " Groups    Name        Variance Std.Dev.\n",
       " subject   (Intercept) 0.0000   0.0000  \n",
       " subject.1 z_z         0.0000   0.0000  \n",
       " Residual              0.5487   0.7407  \n",
       "Number of obs: 132, groups:  subject, 44\n",
       "\n",
       "Fixed effects:\n",
       "                    Estimate Std. Error         df t value Pr(>|t|)    \n",
       "(Intercept)         0.007421   0.083134 126.000000   0.089  0.92901    \n",
       "z_z                -0.461559   0.083714 126.000000  -5.514 1.91e-07 ***\n",
       "bias_type.fh1       2.262027   0.223006 126.000000  10.143  < 2e-16 ***\n",
       "bias_type.fh2      -0.011132   0.157804 126.000000  -0.071  0.94387    \n",
       "z_z:bias_type.fh1  -0.031716   0.224305 126.000000  -0.141  0.88778    \n",
       "z_z:bias_type.fh2   0.445043   0.159178 126.000000   2.796  0.00599 ** \n",
       "---\n",
       "Signif. codes:  0 '***' 0.001 '**' 0.01 '*' 0.05 '.' 0.1 ' ' 1\n",
       "\n",
       "Correlation of Fixed Effects:\n",
       "            (Intr) z_z    bs_t.1 bs_t.2 z_:_.1\n",
       "z_z         -0.011                            \n",
       "bis_typ.fh1  0.009 -0.631                     \n",
       "bis_typ.fh2 -0.315  0.009 -0.007              \n",
       "z_z:bs_ty.1 -0.631  0.017 -0.014  0.499       \n",
       "z_z:bs_ty.2  0.009 -0.310  0.497 -0.007 -0.014\n",
       "convergence code: 0\n",
       "boundary (singular) fit: see ?isSingular\n"
      ]
     },
     "metadata": {},
     "output_type": "display_data"
    }
   ],
   "source": [
    "#Since we can't fix convergence, we'll just have to make do. Going to report zero corr model.\n",
    "summary(bias_lm.zc)"
   ]
  },
  {
   "cell_type": "code",
   "execution_count": 10,
   "id": "0815b939",
   "metadata": {
    "scrolled": false
   },
   "outputs": [
    {
     "data": {
      "image/png": "[encoded data removed]",
      "text/plain": [
       "plot without title"
      ]
     },
     "metadata": {
      "image/png": {
       "height": 420,
       "width": 420
      }
     },
     "output_type": "display_data"
    }
   ],
   "source": [
    "#plot fit\n",
    "mip_lm.zc <- emmip(bias_lm.zc, bias_type.fh~z_z,cov.reduce=range)\n",
    "mip_lm.zc  <- mip_lm.zc + geom_point(aes(z_z,z_v,colour=bias_type.fh),data=prior_ptL)\n",
    "mip_lm.zc"
   ]
  },
  {
   "cell_type": "markdown",
   "id": "f6036f9d",
   "metadata": {},
   "source": [
    "## evidence accumulation bias as predictor, starting point bias as outcome\n",
    "Doing reverse to demonstrate that choice of predictor/outcome doesn't matter to the result, and to hopefully get a better model fit for confirmation of primary result."
   ]
  },
  {
   "cell_type": "code",
   "execution_count": 11,
   "id": "d12e60f8",
   "metadata": {},
   "outputs": [
    {
     "name": "stderr",
     "output_type": "stream",
     "text": [
      "boundary (singular) fit: see ?isSingular\n",
      "\n"
     ]
    },
    {
     "data": {
      "text/plain": [
       " Groups   Name        Std.Dev. Corr  \n",
       " subject  (Intercept) 0.22666        \n",
       "          z_v         0.14256  -1.000\n",
       " Residual             0.69063        "
      ]
     },
     "metadata": {},
     "output_type": "display_data"
    }
   ],
   "source": [
    "#boundary issues so iteratively reduce\n",
    "\n",
    "bias_lmr <- lmer(z_z~z_v*bias_type.fh + (1+z_v|subject),prior_ptL,\n",
    "                  control=lmerControl(optimizer=\"bobyqa\",\n",
    "                                      optCtrl=list(maxfun=2e5)))\n",
    "VarCorr(bias_lmr)"
   ]
  },
  {
   "cell_type": "code",
   "execution_count": 12,
   "id": "6e38fafe",
   "metadata": {},
   "outputs": [
    {
     "data": {
      "text/plain": [
       " Groups    Name        Std.Dev.\n",
       " subject   (Intercept) 0.193248\n",
       " subject.1 z_v         0.081051\n",
       " Residual              0.709788"
      ]
     },
     "metadata": {},
     "output_type": "display_data"
    }
   ],
   "source": [
    "bias_lmr.zc <- lmer(z_z~z_v*bias_type.fh + (1+z_v||subject),prior_ptL,\n",
    "                  control=lmerControl(optimizer=\"bobyqa\",\n",
    "                                      optCtrl=list(maxfun=2e5)))\n",
    "VarCorr(bias_lmr.zc)"
   ]
  },
  {
   "cell_type": "code",
   "execution_count": 13,
   "id": "62f8cd3a",
   "metadata": {},
   "outputs": [
    {
     "data": {
      "text/plain": [
       "Linear mixed model fit by REML. t-tests use Satterthwaite's method [\n",
       "lmerModLmerTest]\n",
       "Formula: z_z ~ z_v * bias_type.fh + (1 + z_v || subject)\n",
       "   Data: prior_ptL\n",
       "Control: lmerControl(optimizer = \"bobyqa\", optCtrl = list(maxfun = 2e+05))\n",
       "\n",
       "REML criterion at convergence: 302.3\n",
       "\n",
       "Scaled residuals: \n",
       "     Min       1Q   Median       3Q      Max \n",
       "-2.97178 -0.52525  0.05435  0.51983  2.64454 \n",
       "\n",
       "Random effects:\n",
       " Groups    Name        Variance Std.Dev.\n",
       " subject   (Intercept) 0.037345 0.19325 \n",
       " subject.1 z_v         0.006569 0.08105 \n",
       " Residual              0.503799 0.70979 \n",
       "Number of obs: 132, groups:  subject, 44\n",
       "\n",
       "Fixed effects:\n",
       "                   Estimate Std. Error        df t value Pr(>|t|)    \n",
       "(Intercept)         0.04726    0.08669  64.74036   0.545  0.58749    \n",
       "z_v                -0.46322    0.08551  22.73545  -5.417 1.73e-05 ***\n",
       "bias_type.fh1       2.27070    0.21839  99.32471  10.397  < 2e-16 ***\n",
       "bias_type.fh2      -0.07810    0.15399  98.27135  -0.507  0.61318    \n",
       "z_v:bias_type.fh1  -0.21263    0.22801 118.92914  -0.933  0.35296    \n",
       "z_v:bias_type.fh2   0.47178    0.16094  53.64997   2.931  0.00495 ** \n",
       "---\n",
       "Signif. codes:  0 '***' 0.001 '**' 0.01 '*' 0.05 '.' 0.1 ' ' 1\n",
       "\n",
       "Correlation of Fixed Effects:\n",
       "            (Intr) z_v    bs_t.1 bs_t.2 z_:_.1\n",
       "z_v         -0.064                            \n",
       "bis_typ.fh1  0.050 -0.634                     \n",
       "bis_typ.fh2 -0.316  0.066 -0.046              \n",
       "z_v:bs_ty.1 -0.613  0.111 -0.083  0.518       \n",
       "z_v:bs_ty.2  0.040 -0.305  0.507 -0.031 -0.062"
      ]
     },
     "metadata": {},
     "output_type": "display_data"
    }
   ],
   "source": [
    "#result confirmed in a better-behaved model\n",
    "summary(bias_lmr.zc)"
   ]
  },
  {
   "cell_type": "code",
   "execution_count": 14,
   "id": "a9a64316",
   "metadata": {
    "scrolled": false
   },
   "outputs": [
    {
     "data": {
      "image/png": "[encoded data removed]",
      "text/plain": [
       "plot without title"
      ]
     },
     "metadata": {
      "image/png": {
       "height": 420,
       "width": 420
      }
     },
     "output_type": "display_data"
    }
   ],
   "source": [
    "#plot fit\n",
    "mip_lmr.zc <- emmip(bias_lmr.zc, bias_type.fh~z_v,cov.reduce=range)\n",
    "mip_lmr.zc <- mip_lmr.zc + geom_point(aes(z_v,z_z,colour=bias_type.fh),data=prior_ptL)\n",
    "mip_lmr.zc"
   ]
  }
 ],
 "metadata": {
  "kernelspec": {
   "display_name": "R",
   "language": "R",
   "name": "ir"
  },
  "language_info": {
   "codemirror_mode": "r",
   "file_extension": ".r",
   "mimetype": "text/x-r-source",
   "name": "R",
   "pygments_lexer": "r",
   "version": "4.1.0"
  }
 },
 "nbformat": 4,
 "nbformat_minor": 5
}
