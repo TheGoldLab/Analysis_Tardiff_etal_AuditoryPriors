{
 "cells": [
  {
   "cell_type": "markdown",
   "id": "17ee4a8f",
   "metadata": {},
   "source": [
    "This script checks whether there is a difference in the post-choice pupil timecourse congruency effect as a function of condition (priorOnly vs. pretoneOnly) for the section \"Rule- and stimulus-based biases exhibited distinct physiological signatures\""
   ]
  },
  {
   "cell_type": "code",
   "execution_count": 1,
   "id": "19a03117",
   "metadata": {},
   "outputs": [
    {
     "name": "stderr",
     "output_type": "stream",
     "text": [
      "Loading required package: Matrix\n",
      "\n",
      "Warning message:\n",
      "\"package 'lmerTest' was built under R version 4.0.4\"\n",
      "Registered S3 methods overwritten by 'tibble':\n",
      "  method     from  \n",
      "  format.tbl pillar\n",
      "  print.tbl  pillar\n",
      "\n",
      "\n",
      "Attaching package: 'lmerTest'\n",
      "\n",
      "\n",
      "The following object is masked from 'package:lme4':\n",
      "\n",
      "    lmer\n",
      "\n",
      "\n",
      "The following object is masked from 'package:stats':\n",
      "\n",
      "    step\n",
      "\n",
      "\n",
      "Warning message:\n",
      "\"package 'car' was built under R version 4.0.4\"\n",
      "Loading required package: carData\n",
      "\n",
      "Registered S3 methods overwritten by 'car':\n",
      "  method                          from\n",
      "  influence.merMod                lme4\n",
      "  cooks.distance.influence.merMod lme4\n",
      "  dfbeta.influence.merMod         lme4\n",
      "  dfbetas.influence.merMod        lme4\n",
      "\n",
      "\n",
      "Attaching package: 'dplyr'\n",
      "\n",
      "\n",
      "The following objects are masked from 'package:plyr':\n",
      "\n",
      "    arrange, count, desc, failwith, id, mutate, rename, summarise,\n",
      "    summarize\n",
      "\n",
      "\n",
      "The following object is masked from 'package:car':\n",
      "\n",
      "    recode\n",
      "\n",
      "\n",
      "The following objects are masked from 'package:stats':\n",
      "\n",
      "    filter, lag\n",
      "\n",
      "\n",
      "The following objects are masked from 'package:base':\n",
      "\n",
      "    intersect, setdiff, setequal, union\n",
      "\n",
      "\n",
      "Warning message:\n",
      "\"package 'ggplot2' was built under R version 4.0.4\"\n",
      "Warning message:\n",
      "\"package 'emmeans' was built under R version 4.0.4\"\n"
     ]
    }
   ],
   "source": [
    "#clear memory\n",
    "rm(list=ls())\n",
    "\n",
    "### this runs regressions for pretone_pLH choice-aligned pupil data\n",
    "\n",
    "## LOADING data/libraries ##\n",
    "\n",
    "#load libraries\n",
    "library(lme4)\n",
    "library(lmerTest)\n",
    "library(car)\n",
    "library(plyr)\n",
    "library(dplyr)\n",
    "library(ggplot2)\n",
    "#library(afex)\n",
    "library(emmeans)\n",
    "emm_options(lmerTest.limit = Inf, lmer.df = \"satterthwaite\")\n",
    "\n",
    "\n",
    "switch(Sys.info()[['sysname']],\n",
    "       Windows = setwd(file.path(\n",
    "         Sys.getenv('USERPROFILE'),'Dropbox/Goldlab/AuditoryPriors/data processing/pupil')),\n",
    "       Darwin = setwd('~/Dropbox/Goldlab/AuditoryPriors/data processing/pupil')\n",
    ")\n",
    "\n",
    "#path to data files\n",
    "switch(Sys.info()[['sysname']],\n",
    "       Windows = DATA_OUT_PATH <- (paste0(\n",
    "         Sys.getenv('USERPROFILE'),'/OneDrive/Goldlab/AuditoryPriors/cached data/')),\n",
    "       Darwin = DATA_OUT_PATH <- '~/OneDrive/Goldlab/AuditoryPriors/cached data/'\n",
    ")\n",
    "pd_files= paste0(DATA_OUT_PATH,\n",
    "                 c('pupil_data_ds50_forR_09-Feb-2021.csv',\n",
    "                   'pupil_data_pretoneOnly_ds50_forR_05-May-2021.csv'))\n",
    "baseline_files = paste0(DATA_OUT_PATH,\n",
    "                        c('pupil_data_bl_forR_09-Feb-2021.csv',\n",
    "                          'pupil_data_pretoneOnly_bl_forR_05-May-2021.csv'))\n",
    "ID_files <- paste0(DATA_OUT_PATH,\n",
    "                   c('pupil_data_ds50_id2subj_forR_09-Feb-2021.csv',\n",
    "                    'pupil_data_pretoneOnly_ds50_id2subj_forR_05-May-2021.csv'))\n",
    "\n",
    "#our ROI for looking at interaction\n",
    "choice_period_ms.c <- c(0,1000) "
   ]
  },
  {
   "cell_type": "code",
   "execution_count": 2,
   "id": "517238b6",
   "metadata": {},
   "outputs": [],
   "source": [
    "#load data\n",
    "\n",
    "ID_df <- lapply(ID_files,\n",
    "                function(x) read.table(x,sep=',', header=TRUE, \n",
    "                                       stringsAsFactors=FALSE,na.strings = c('NaN')))\n",
    "ID_df <- inner_join(ID_df[[1]],ID_df[[2]],by='subject')\n",
    "ID_df$dataIDall <- 1:nrow(ID_df) #add global ID for both blocks\n",
    "\n",
    "bl_df <- lapply(baseline_files,\n",
    "                function(x) read.table(x,sep=',', header=TRUE, \n",
    "                                       stringsAsFactors=FALSE,na.strings = c('NaN')))\n",
    "#2nd baseline was taken wrt already baselined data, so this will put it on same scale as original baseline\n",
    "bl_df[[2]]$pupilBL2 <- bl_df[[2]]$pupilBL2 + bl_df[[2]]$pupilBL \n",
    "\n",
    "pd_df <- lapply(pd_files,\n",
    "                function(x) read.table(x,sep=',', header=TRUE, \n",
    "                                       stringsAsFactors=FALSE,na.strings = c('NaN')))"
   ]
  },
  {
   "cell_type": "code",
   "execution_count": 3,
   "id": "65aaa3dc",
   "metadata": {},
   "outputs": [],
   "source": [
    "#join new IDs\n",
    "pd_df[[1]] <- inner_join(pd_df[[1]],select(ID_df,c(\"dataID.x\",\"dataIDall\")),\n",
    "                        by=c(\"dataID\"=\"dataID.x\"))\n",
    "pd_df[[2]] <- inner_join(pd_df[[2]],select(ID_df,c(\"dataID.y\",\"dataIDall\")),\n",
    "                        by=c(\"dataID\"=\"dataID.y\"))\n",
    "\n",
    "#add in baseline data\n",
    "pd_df[[1]] <- left_join(pd_df[[1]],bl_df[[1]][,c('dataID','trialN','pupilBL')],\n",
    "                        by=c('dataID','trialN'))\n",
    "pd_df[[2]] <- left_join(pd_df[[2]],bl_df[[2]][,c('dataID','trialN','pupilBL2')],\n",
    "                        by=c('dataID','trialN'))"
   ]
  },
  {
   "cell_type": "code",
   "execution_count": 4,
   "id": "85f0c6d2",
   "metadata": {},
   "outputs": [
    {
     "data": {
      "text/html": [
       "<table class=\"dataframe\">\n",
       "<caption>A data.frame: 6 × 14</caption>\n",
       "<thead>\n",
       "\t<tr><th></th><th scope=col>trialN</th><th scope=col>trial_time_choice</th><th scope=col>pupilCblz</th><th scope=col>posXCbl</th><th scope=col>posYCbl</th><th scope=col>pupilBL</th><th scope=col>aSNR</th><th scope=col>isH</th><th scope=col>success</th><th scope=col>choice01</th><th scope=col>pretoneLength</th><th scope=col>congruent</th><th scope=col>dataIDall</th><th scope=col>block</th></tr>\n",
       "\t<tr><th></th><th scope=col>&lt;int&gt;</th><th scope=col>&lt;int&gt;</th><th scope=col>&lt;dbl&gt;</th><th scope=col>&lt;dbl&gt;</th><th scope=col>&lt;dbl&gt;</th><th scope=col>&lt;dbl&gt;</th><th scope=col>&lt;dbl&gt;</th><th scope=col>&lt;int&gt;</th><th scope=col>&lt;int&gt;</th><th scope=col>&lt;int&gt;</th><th scope=col>&lt;dbl&gt;</th><th scope=col>&lt;dbl&gt;</th><th scope=col>&lt;int&gt;</th><th scope=col>&lt;chr&gt;</th></tr>\n",
       "</thead>\n",
       "<tbody>\n",
       "\t<tr><th scope=row>2228</th><td>49</td><td>-780</td><td>-0.2874598</td><td>10.095451</td><td>21.15839</td><td>0.441735</td><td>0.5</td><td>1</td><td>1</td><td>1</td><td>0</td><td>1</td><td>1</td><td>priorOnly</td></tr>\n",
       "\t<tr><th scope=row>2229</th><td>49</td><td>-760</td><td>-0.2677306</td><td> 9.145169</td><td>20.85463</td><td>0.441735</td><td>0.5</td><td>1</td><td>1</td><td>1</td><td>0</td><td>1</td><td>1</td><td>priorOnly</td></tr>\n",
       "\t<tr><th scope=row>2230</th><td>49</td><td>-740</td><td>-0.2476534</td><td> 9.711329</td><td>20.60854</td><td>0.441735</td><td>0.5</td><td>1</td><td>1</td><td>1</td><td>0</td><td>1</td><td>1</td><td>priorOnly</td></tr>\n",
       "\t<tr><th scope=row>2231</th><td>49</td><td>-720</td><td>-0.2272123</td><td> 9.787316</td><td>19.31012</td><td>0.441735</td><td>0.5</td><td>1</td><td>1</td><td>1</td><td>0</td><td>1</td><td>1</td><td>priorOnly</td></tr>\n",
       "\t<tr><th scope=row>2232</th><td>49</td><td>-700</td><td>-0.2066975</td><td> 9.344649</td><td>16.53824</td><td>0.441735</td><td>0.5</td><td>1</td><td>1</td><td>1</td><td>0</td><td>1</td><td>1</td><td>priorOnly</td></tr>\n",
       "\t<tr><th scope=row>2233</th><td>49</td><td>-680</td><td>-0.1864250</td><td> 7.554520</td><td>13.03064</td><td>0.441735</td><td>0.5</td><td>1</td><td>1</td><td>1</td><td>0</td><td>1</td><td>1</td><td>priorOnly</td></tr>\n",
       "</tbody>\n",
       "</table>\n"
      ],
      "text/latex": [
       "A data.frame: 6 × 14\n",
       "\\begin{tabular}{r|llllllllllllll}\n",
       "  & trialN & trial\\_time\\_choice & pupilCblz & posXCbl & posYCbl & pupilBL & aSNR & isH & success & choice01 & pretoneLength & congruent & dataIDall & block\\\\\n",
       "  & <int> & <int> & <dbl> & <dbl> & <dbl> & <dbl> & <dbl> & <int> & <int> & <int> & <dbl> & <dbl> & <int> & <chr>\\\\\n",
       "\\hline\n",
       "\t2228 & 49 & -780 & -0.2874598 & 10.095451 & 21.15839 & 0.441735 & 0.5 & 1 & 1 & 1 & 0 & 1 & 1 & priorOnly\\\\\n",
       "\t2229 & 49 & -760 & -0.2677306 &  9.145169 & 20.85463 & 0.441735 & 0.5 & 1 & 1 & 1 & 0 & 1 & 1 & priorOnly\\\\\n",
       "\t2230 & 49 & -740 & -0.2476534 &  9.711329 & 20.60854 & 0.441735 & 0.5 & 1 & 1 & 1 & 0 & 1 & 1 & priorOnly\\\\\n",
       "\t2231 & 49 & -720 & -0.2272123 &  9.787316 & 19.31012 & 0.441735 & 0.5 & 1 & 1 & 1 & 0 & 1 & 1 & priorOnly\\\\\n",
       "\t2232 & 49 & -700 & -0.2066975 &  9.344649 & 16.53824 & 0.441735 & 0.5 & 1 & 1 & 1 & 0 & 1 & 1 & priorOnly\\\\\n",
       "\t2233 & 49 & -680 & -0.1864250 &  7.554520 & 13.03064 & 0.441735 & 0.5 & 1 & 1 & 1 & 0 & 1 & 1 & priorOnly\\\\\n",
       "\\end{tabular}\n"
      ],
      "text/markdown": [
       "\n",
       "A data.frame: 6 × 14\n",
       "\n",
       "| <!--/--> | trialN &lt;int&gt; | trial_time_choice &lt;int&gt; | pupilCblz &lt;dbl&gt; | posXCbl &lt;dbl&gt; | posYCbl &lt;dbl&gt; | pupilBL &lt;dbl&gt; | aSNR &lt;dbl&gt; | isH &lt;int&gt; | success &lt;int&gt; | choice01 &lt;int&gt; | pretoneLength &lt;dbl&gt; | congruent &lt;dbl&gt; | dataIDall &lt;int&gt; | block &lt;chr&gt; |\n",
       "|---|---|---|---|---|---|---|---|---|---|---|---|---|---|---|\n",
       "| 2228 | 49 | -780 | -0.2874598 | 10.095451 | 21.15839 | 0.441735 | 0.5 | 1 | 1 | 1 | 0 | 1 | 1 | priorOnly |\n",
       "| 2229 | 49 | -760 | -0.2677306 |  9.145169 | 20.85463 | 0.441735 | 0.5 | 1 | 1 | 1 | 0 | 1 | 1 | priorOnly |\n",
       "| 2230 | 49 | -740 | -0.2476534 |  9.711329 | 20.60854 | 0.441735 | 0.5 | 1 | 1 | 1 | 0 | 1 | 1 | priorOnly |\n",
       "| 2231 | 49 | -720 | -0.2272123 |  9.787316 | 19.31012 | 0.441735 | 0.5 | 1 | 1 | 1 | 0 | 1 | 1 | priorOnly |\n",
       "| 2232 | 49 | -700 | -0.2066975 |  9.344649 | 16.53824 | 0.441735 | 0.5 | 1 | 1 | 1 | 0 | 1 | 1 | priorOnly |\n",
       "| 2233 | 49 | -680 | -0.1864250 |  7.554520 | 13.03064 | 0.441735 | 0.5 | 1 | 1 | 1 | 0 | 1 | 1 | priorOnly |\n",
       "\n"
      ],
      "text/plain": [
       "     trialN trial_time_choice pupilCblz  posXCbl   posYCbl  pupilBL  aSNR isH\n",
       "2228 49     -780              -0.2874598 10.095451 21.15839 0.441735 0.5  1  \n",
       "2229 49     -760              -0.2677306  9.145169 20.85463 0.441735 0.5  1  \n",
       "2230 49     -740              -0.2476534  9.711329 20.60854 0.441735 0.5  1  \n",
       "2231 49     -720              -0.2272123  9.787316 19.31012 0.441735 0.5  1  \n",
       "2232 49     -700              -0.2066975  9.344649 16.53824 0.441735 0.5  1  \n",
       "2233 49     -680              -0.1864250  7.554520 13.03064 0.441735 0.5  1  \n",
       "     success choice01 pretoneLength congruent dataIDall block    \n",
       "2228 1       1        0             1         1         priorOnly\n",
       "2229 1       1        0             1         1         priorOnly\n",
       "2230 1       1        0             1         1         priorOnly\n",
       "2231 1       1        0             1         1         priorOnly\n",
       "2232 1       1        0             1         1         priorOnly\n",
       "2233 1       1        0             1         1         priorOnly"
      ]
     },
     "metadata": {},
     "output_type": "display_data"
    }
   ],
   "source": [
    "#join pupil data\n",
    "\n",
    "#first clean up so we have matching columns in both datasets\n",
    "pd_df[[1]]$aSNR <- abs(pd_df[[1]]$SNR) #aSNR not in this file\n",
    "pd_df[[1]] <- subset(pd_df[[1]],congruent!=-1) #remove no prior trials\n",
    "pd_df[[1]]$pretoneLength <- 0\n",
    "\n",
    "pd_df[[2]] <- subset(pd_df[[2]],congruent %in% c(0,3)) #only incon-incon and con-con trials\n",
    "pd_df[[2]]$congruent[pd_df[[2]]$congruent==3] <- 1 #recode to match priorOnly\n",
    "#used different name for the 2nd baseline cols so need to rename\n",
    "pd_df[[2]]$pupilCblz <- NULL\n",
    "pd_df[[2]] <- rename(pd_df[[2]],pupilBL=pupilBL2,pupilCblz=pupilCblz2) \n",
    "\n",
    "#add block info\n",
    "pd_df[[1]]$block <- 'priorOnly'\n",
    "pd_df[[2]]$block <- 'pretoneOnly'\n",
    "\n",
    "#now join\n",
    "joincols <- c('trialN','trial_time_choice','pupilCblz','posXCbl','posYCbl','pupilBL','aSNR',\n",
    "    'isH','success','choice01','pretoneLength','congruent','dataIDall','block')\n",
    "\n",
    "pd_df <- rbind(pd_df[[1]][,joincols],pd_df[[2]][,joincols])\n",
    "head(pd_df)"
   ]
  },
  {
   "cell_type": "code",
   "execution_count": 5,
   "id": "8da7c176",
   "metadata": {},
   "outputs": [
    {
     "data": {
      "text/html": [
       "<table class=\"dataframe\">\n",
       "<caption>A matrix: 2 × 1 of type dbl</caption>\n",
       "<tbody>\n",
       "\t<tr><th scope=row>incongruent</th><td> 1</td></tr>\n",
       "\t<tr><th scope=row>congruent</th><td>-1</td></tr>\n",
       "</tbody>\n",
       "</table>\n"
      ],
      "text/latex": [
       "A matrix: 2 × 1 of type dbl\n",
       "\\begin{tabular}{r|l}\n",
       "\tincongruent &  1\\\\\n",
       "\tcongruent & -1\\\\\n",
       "\\end{tabular}\n"
      ],
      "text/markdown": [
       "\n",
       "A matrix: 2 × 1 of type dbl\n",
       "\n",
       "| incongruent |  1 |\n",
       "| congruent | -1 |\n",
       "\n"
      ],
      "text/plain": [
       "            [,1]\n",
       "incongruent  1  \n",
       "congruent   -1  "
      ]
     },
     "metadata": {},
     "output_type": "display_data"
    },
    {
     "data": {
      "text/html": [
       "<table class=\"dataframe\">\n",
       "<caption>A matrix: 2 × 1 of type dbl</caption>\n",
       "<thead>\n",
       "\t<tr><th></th><th scope=col>1</th></tr>\n",
       "</thead>\n",
       "<tbody>\n",
       "\t<tr><th scope=row>incongruent</th><td> 0.5</td></tr>\n",
       "\t<tr><th scope=row>congruent</th><td>-0.5</td></tr>\n",
       "</tbody>\n",
       "</table>\n"
      ],
      "text/latex": [
       "A matrix: 2 × 1 of type dbl\n",
       "\\begin{tabular}{r|l}\n",
       "  & 1\\\\\n",
       "\\hline\n",
       "\tincongruent &  0.5\\\\\n",
       "\tcongruent & -0.5\\\\\n",
       "\\end{tabular}\n"
      ],
      "text/markdown": [
       "\n",
       "A matrix: 2 × 1 of type dbl\n",
       "\n",
       "| <!--/--> | 1 |\n",
       "|---|---|\n",
       "| incongruent |  0.5 |\n",
       "| congruent | -0.5 |\n",
       "\n"
      ],
      "text/plain": [
       "            1   \n",
       "incongruent  0.5\n",
       "congruent   -0.5"
      ]
     },
     "metadata": {},
     "output_type": "display_data"
    },
    {
     "data": {
      "text/html": [
       "<table class=\"dataframe\">\n",
       "<caption>A data.frame: 2 × 3</caption>\n",
       "<thead>\n",
       "\t<tr><th></th><th scope=col>congruent</th><th scope=col>congruent.f</th><th scope=col>congruent.fs</th></tr>\n",
       "\t<tr><th></th><th scope=col>&lt;dbl&gt;</th><th scope=col>&lt;fct&gt;</th><th scope=col>&lt;fct&gt;</th></tr>\n",
       "</thead>\n",
       "<tbody>\n",
       "\t<tr><th scope=row>2228</th><td>1</td><td>congruent  </td><td>congruent  </td></tr>\n",
       "\t<tr><th scope=row>2327</th><td>0</td><td>incongruent</td><td>incongruent</td></tr>\n",
       "</tbody>\n",
       "</table>\n"
      ],
      "text/latex": [
       "A data.frame: 2 × 3\n",
       "\\begin{tabular}{r|lll}\n",
       "  & congruent & congruent.f & congruent.fs\\\\\n",
       "  & <dbl> & <fct> & <fct>\\\\\n",
       "\\hline\n",
       "\t2228 & 1 & congruent   & congruent  \\\\\n",
       "\t2327 & 0 & incongruent & incongruent\\\\\n",
       "\\end{tabular}\n"
      ],
      "text/markdown": [
       "\n",
       "A data.frame: 2 × 3\n",
       "\n",
       "| <!--/--> | congruent &lt;dbl&gt; | congruent.f &lt;fct&gt; | congruent.fs &lt;fct&gt; |\n",
       "|---|---|---|---|\n",
       "| 2228 | 1 | congruent   | congruent   |\n",
       "| 2327 | 0 | incongruent | incongruent |\n",
       "\n"
      ],
      "text/plain": [
       "     congruent congruent.f congruent.fs\n",
       "2228 1         congruent   congruent   \n",
       "2327 0         incongruent incongruent "
      ]
     },
     "metadata": {},
     "output_type": "display_data"
    },
    {
     "data": {
      "text/html": [
       "<table class=\"dataframe\">\n",
       "<caption>A matrix: 2 × 1 of type dbl</caption>\n",
       "<tbody>\n",
       "\t<tr><th scope=row>high</th><td> 1</td></tr>\n",
       "\t<tr><th scope=row>low</th><td>-1</td></tr>\n",
       "</tbody>\n",
       "</table>\n"
      ],
      "text/latex": [
       "A matrix: 2 × 1 of type dbl\n",
       "\\begin{tabular}{r|l}\n",
       "\thigh &  1\\\\\n",
       "\tlow & -1\\\\\n",
       "\\end{tabular}\n"
      ],
      "text/markdown": [
       "\n",
       "A matrix: 2 × 1 of type dbl\n",
       "\n",
       "| high |  1 |\n",
       "| low | -1 |\n",
       "\n"
      ],
      "text/plain": [
       "     [,1]\n",
       "high  1  \n",
       "low  -1  "
      ]
     },
     "metadata": {},
     "output_type": "display_data"
    },
    {
     "data": {
      "text/html": [
       "<table class=\"dataframe\">\n",
       "<caption>A matrix: 2 × 1 of type dbl</caption>\n",
       "<tbody>\n",
       "\t<tr><th scope=row>priorOnly</th><td> 1</td></tr>\n",
       "\t<tr><th scope=row>pretoneOnly</th><td>-1</td></tr>\n",
       "</tbody>\n",
       "</table>\n"
      ],
      "text/latex": [
       "A matrix: 2 × 1 of type dbl\n",
       "\\begin{tabular}{r|l}\n",
       "\tpriorOnly &  1\\\\\n",
       "\tpretoneOnly & -1\\\\\n",
       "\\end{tabular}\n"
      ],
      "text/markdown": [
       "\n",
       "A matrix: 2 × 1 of type dbl\n",
       "\n",
       "| priorOnly |  1 |\n",
       "| pretoneOnly | -1 |\n",
       "\n"
      ],
      "text/plain": [
       "            [,1]\n",
       "priorOnly    1  \n",
       "pretoneOnly -1  "
      ]
     },
     "metadata": {},
     "output_type": "display_data"
    },
    {
     "data": {
      "text/html": [
       "<table class=\"dataframe\">\n",
       "<caption>A matrix: 2 × 1 of type dbl</caption>\n",
       "<thead>\n",
       "\t<tr><th></th><th scope=col>1</th></tr>\n",
       "</thead>\n",
       "<tbody>\n",
       "\t<tr><th scope=row>priorOnly</th><td> 0.5</td></tr>\n",
       "\t<tr><th scope=row>pretoneOnly</th><td>-0.5</td></tr>\n",
       "</tbody>\n",
       "</table>\n"
      ],
      "text/latex": [
       "A matrix: 2 × 1 of type dbl\n",
       "\\begin{tabular}{r|l}\n",
       "  & 1\\\\\n",
       "\\hline\n",
       "\tpriorOnly &  0.5\\\\\n",
       "\tpretoneOnly & -0.5\\\\\n",
       "\\end{tabular}\n"
      ],
      "text/markdown": [
       "\n",
       "A matrix: 2 × 1 of type dbl\n",
       "\n",
       "| <!--/--> | 1 |\n",
       "|---|---|\n",
       "| priorOnly |  0.5 |\n",
       "| pretoneOnly | -0.5 |\n",
       "\n"
      ],
      "text/plain": [
       "            1   \n",
       "priorOnly    0.5\n",
       "pretoneOnly -0.5"
      ]
     },
     "metadata": {},
     "output_type": "display_data"
    },
    {
     "data": {
      "text/html": [
       "<table class=\"dataframe\">\n",
       "<caption>A data.frame: 2 × 3</caption>\n",
       "<thead>\n",
       "\t<tr><th></th><th scope=col>block</th><th scope=col>block.f</th><th scope=col>block.fs</th></tr>\n",
       "\t<tr><th></th><th scope=col>&lt;chr&gt;</th><th scope=col>&lt;fct&gt;</th><th scope=col>&lt;fct&gt;</th></tr>\n",
       "</thead>\n",
       "<tbody>\n",
       "\t<tr><th scope=row>2228</th><td>priorOnly  </td><td>priorOnly  </td><td>priorOnly  </td></tr>\n",
       "\t<tr><th scope=row>1</th><td>pretoneOnly</td><td>pretoneOnly</td><td>pretoneOnly</td></tr>\n",
       "</tbody>\n",
       "</table>\n"
      ],
      "text/latex": [
       "A data.frame: 2 × 3\n",
       "\\begin{tabular}{r|lll}\n",
       "  & block & block.f & block.fs\\\\\n",
       "  & <chr> & <fct> & <fct>\\\\\n",
       "\\hline\n",
       "\t2228 & priorOnly   & priorOnly   & priorOnly  \\\\\n",
       "\t1 & pretoneOnly & pretoneOnly & pretoneOnly\\\\\n",
       "\\end{tabular}\n"
      ],
      "text/markdown": [
       "\n",
       "A data.frame: 2 × 3\n",
       "\n",
       "| <!--/--> | block &lt;chr&gt; | block.f &lt;fct&gt; | block.fs &lt;fct&gt; |\n",
       "|---|---|---|---|\n",
       "| 2228 | priorOnly   | priorOnly   | priorOnly   |\n",
       "| 1 | pretoneOnly | pretoneOnly | pretoneOnly |\n",
       "\n"
      ],
      "text/plain": [
       "     block       block.f     block.fs   \n",
       "2228 priorOnly   priorOnly   priorOnly  \n",
       "1    pretoneOnly pretoneOnly pretoneOnly"
      ]
     },
     "metadata": {},
     "output_type": "display_data"
    }
   ],
   "source": [
    "#set up factors\n",
    "pd_df$congruent.f <- factor(pd_df$congruent,levels=c(0,1),\n",
    "                            labels=c(\"incongruent\",\"congruent\"))\n",
    "contrasts(pd_df$congruent.f) <- contr.sum(2)\n",
    "contrasts(pd_df$congruent.f)\n",
    "\n",
    "my_simple2<-contr.treatment(2,base=2) - matrix(rep(1/2,2))\n",
    "pd_df$congruent.fs <- pd_df$congruent.f\n",
    "contrasts(pd_df$congruent.fs) <- my_simple2\n",
    "contrasts(pd_df$congruent.fs)\n",
    "\n",
    "unique(pd_df[,c('congruent','congruent.f','congruent.fs')])\n",
    "\n",
    "pd_df$isH.f <- factor(pd_df$isH,levels=c(1,0),\n",
    "                      labels=c(\"high\",\"low\"))\n",
    "contrasts(pd_df$isH.f) <- contr.sum(2)\n",
    "contrasts(pd_df$isH.f)\n",
    "\n",
    "pd_df$block.f <- factor(pd_df$block,levels=c('priorOnly','pretoneOnly'))\n",
    "contrasts(pd_df$block.f) <- contr.sum(2)\n",
    "contrasts(pd_df$block.f)\n",
    "\n",
    "pd_df$block.fs <- pd_df$block.f\n",
    "contrasts(pd_df$block.fs) <- my_simple2\n",
    "contrasts(pd_df$block.fs)\n",
    "\n",
    "unique(pd_df[,c('block','block.f','block.fs')])\n",
    "\n",
    "\n",
    "\n",
    "#get rid of missing before scaling vars (probably already done w/ new preproc)\n",
    "pd_df <- pd_df[complete.cases(pd_df),]"
   ]
  },
  {
   "cell_type": "code",
   "execution_count": 6,
   "id": "f64cdae8",
   "metadata": {},
   "outputs": [
    {
     "name": "stderr",
     "output_type": "stream",
     "text": [
      "`summarise()` ungrouping output (override with `.groups` argument)\n",
      "\n"
     ]
    },
    {
     "data": {
      "text/html": [
       "<table class=\"dataframe\">\n",
       "<caption>A tibble: 2 × 3</caption>\n",
       "<thead>\n",
       "\t<tr><th scope=col>block</th><th scope=col>bl</th><th scope=col>bl_sd</th></tr>\n",
       "\t<tr><th scope=col>&lt;chr&gt;</th><th scope=col>&lt;dbl&gt;</th><th scope=col>&lt;dbl&gt;</th></tr>\n",
       "</thead>\n",
       "<tbody>\n",
       "\t<tr><td>pretoneOnly</td><td>-0.1316781</td><td>0.9668775</td></tr>\n",
       "\t<tr><td>priorOnly  </td><td>-0.1581757</td><td>0.9529235</td></tr>\n",
       "</tbody>\n",
       "</table>\n"
      ],
      "text/latex": [
       "A tibble: 2 × 3\n",
       "\\begin{tabular}{lll}\n",
       " block & bl & bl\\_sd\\\\\n",
       " <chr> & <dbl> & <dbl>\\\\\n",
       "\\hline\n",
       "\t pretoneOnly & -0.1316781 & 0.9668775\\\\\n",
       "\t priorOnly   & -0.1581757 & 0.9529235\\\\\n",
       "\\end{tabular}\n"
      ],
      "text/markdown": [
       "\n",
       "A tibble: 2 × 3\n",
       "\n",
       "| block &lt;chr&gt; | bl &lt;dbl&gt; | bl_sd &lt;dbl&gt; |\n",
       "|---|---|---|\n",
       "| pretoneOnly | -0.1316781 | 0.9668775 |\n",
       "| priorOnly   | -0.1581757 | 0.9529235 |\n",
       "\n"
      ],
      "text/plain": [
       "  block       bl         bl_sd    \n",
       "1 pretoneOnly -0.1316781 0.9668775\n",
       "2 priorOnly   -0.1581757 0.9529235"
      ]
     },
     "metadata": {},
     "output_type": "display_data"
    },
    {
     "data": {
      "text/html": [
       "<table class=\"dataframe\">\n",
       "<caption>A data.frame: 1 × 8</caption>\n",
       "<thead>\n",
       "\t<tr><th scope=col>m_bl</th><th scope=col>sd_bl</th><th scope=col>m_x</th><th scope=col>sd_x</th><th scope=col>m_y</th><th scope=col>sd_y</th><th scope=col>m_asnr</th><th scope=col>sd_asnr</th></tr>\n",
       "\t<tr><th scope=col>&lt;dbl&gt;</th><th scope=col>&lt;dbl&gt;</th><th scope=col>&lt;dbl&gt;</th><th scope=col>&lt;dbl&gt;</th><th scope=col>&lt;dbl&gt;</th><th scope=col>&lt;dbl&gt;</th><th scope=col>&lt;dbl&gt;</th><th scope=col>&lt;dbl&gt;</th></tr>\n",
       "</thead>\n",
       "<tbody>\n",
       "\t<tr><td>-0.1398449</td><td>0.9626759</td><td>0.001030958</td><td>16.05118</td><td>0.1734558</td><td>19.86706</td><td>0.2054237</td><td>0.1717053</td></tr>\n",
       "</tbody>\n",
       "</table>\n"
      ],
      "text/latex": [
       "A data.frame: 1 × 8\n",
       "\\begin{tabular}{llllllll}\n",
       " m\\_bl & sd\\_bl & m\\_x & sd\\_x & m\\_y & sd\\_y & m\\_asnr & sd\\_asnr\\\\\n",
       " <dbl> & <dbl> & <dbl> & <dbl> & <dbl> & <dbl> & <dbl> & <dbl>\\\\\n",
       "\\hline\n",
       "\t -0.1398449 & 0.9626759 & 0.001030958 & 16.05118 & 0.1734558 & 19.86706 & 0.2054237 & 0.1717053\\\\\n",
       "\\end{tabular}\n"
      ],
      "text/markdown": [
       "\n",
       "A data.frame: 1 × 8\n",
       "\n",
       "| m_bl &lt;dbl&gt; | sd_bl &lt;dbl&gt; | m_x &lt;dbl&gt; | sd_x &lt;dbl&gt; | m_y &lt;dbl&gt; | sd_y &lt;dbl&gt; | m_asnr &lt;dbl&gt; | sd_asnr &lt;dbl&gt; |\n",
       "|---|---|---|---|---|---|---|---|\n",
       "| -0.1398449 | 0.9626759 | 0.001030958 | 16.05118 | 0.1734558 | 19.86706 | 0.2054237 | 0.1717053 |\n",
       "\n"
      ],
      "text/plain": [
       "  m_bl       sd_bl     m_x         sd_x     m_y       sd_y     m_asnr   \n",
       "1 -0.1398449 0.9626759 0.001030958 16.05118 0.1734558 19.86706 0.2054237\n",
       "  sd_asnr  \n",
       "1 0.1717053"
      ]
     },
     "metadata": {},
     "output_type": "display_data"
    }
   ],
   "source": [
    "#get a handle on descriptives to inform scaling\n",
    "summarise(group_by(pd_df,block),bl=mean(pupilBL),bl_sd=sd(pupilBL))\n",
    "scalevars_stats <- summarise(pd_df,\n",
    "                             m_bl=mean(pupilBL,na.rm=T),\n",
    "                             sd_bl=sd(pupilBL,na.rm=T),\n",
    "                             m_x=mean(posXCbl,na.rm=T),\n",
    "                             sd_x=sd(posXCbl,na.rm=T),\n",
    "                             m_y=mean(posYCbl,na.rm=T),\n",
    "                             sd_y=sd(posYCbl,na.rm=T),\n",
    "                             m_asnr=mean(aSNR,na.rm=T),\n",
    "                             sd_asnr=sd(aSNR,na.rm=T),\n",
    ")\n",
    "scalevars_stats\n",
    "\n",
    "#set up variables: centering/scaling\n",
    "pd_df$zaSNR <- scale(pd_df$aSNR)\n",
    "pd_df$blz <- scale(pd_df$pupilBL,center=T,scale=F) #not scaling since already scaled\n",
    "pd_df$posX <- scale(pd_df$posXCbl)\n",
    "pd_df$posY <- scale(pd_df$posYCbl)\n",
    "pd_df$zptlen <- scale(pd_df$pretoneLength)"
   ]
  },
  {
   "cell_type": "code",
   "execution_count": 7,
   "id": "d8057c3f",
   "metadata": {},
   "outputs": [
    {
     "data": {
      "text/html": [
       "40"
      ],
      "text/latex": [
       "40"
      ],
      "text/markdown": [
       "40"
      ],
      "text/plain": [
       "[1] 40"
      ]
     },
     "metadata": {},
     "output_type": "display_data"
    },
    {
     "data": {
      "text/html": [
       "17513"
      ],
      "text/latex": [
       "17513"
      ],
      "text/markdown": [
       "17513"
      ],
      "text/plain": [
       "[1] 17513"
      ]
     },
     "metadata": {},
     "output_type": "display_data"
    },
    {
     "data": {
      "text/html": [
       "437.825"
      ],
      "text/latex": [
       "437.825"
      ],
      "text/markdown": [
       "437.825"
      ],
      "text/plain": [
       "[1] 437.825"
      ]
     },
     "metadata": {},
     "output_type": "display_data"
    }
   ],
   "source": [
    "#we seem to have a reasonable amount of data per subject after all this wrangling...\n",
    "\n",
    "length(unique(pd_df$dataIDall))\n",
    "nrow(unique(pd_df[,c('dataIDall','block','trialN')]))\n",
    "nrow(unique(pd_df[,c('dataIDall','block','trialN')]))/length(unique(pd_df$dataIDall))"
   ]
  },
  {
   "cell_type": "markdown",
   "id": "e0494703",
   "metadata": {},
   "source": [
    "# Correct trials, precue window"
   ]
  },
  {
   "cell_type": "code",
   "execution_count": 8,
   "id": "9f325dfc",
   "metadata": {},
   "outputs": [
    {
     "name": "stderr",
     "output_type": "stream",
     "text": [
      "`summarise()` regrouping output by 'dataIDall', 'trialN', 'zaSNR', 'congruent.f', 'congruent.fs', 'isH.f', 'block.f', 'block.fs' (override with `.groups` argument)\n",
      "\n"
     ]
    },
    {
     "data": {
      "text/html": [
       "<table class=\"dataframe\">\n",
       "<caption>A grouped_df: 2 × 2</caption>\n",
       "<thead>\n",
       "\t<tr><th scope=col>block.fs</th><th scope=col>block.fs1</th></tr>\n",
       "\t<tr><th scope=col>&lt;fct&gt;</th><th scope=col>&lt;dbl&gt;</th></tr>\n",
       "</thead>\n",
       "<tbody>\n",
       "\t<tr><td>pretoneOnly</td><td>-0.5</td></tr>\n",
       "\t<tr><td>priorOnly  </td><td> 0.5</td></tr>\n",
       "</tbody>\n",
       "</table>\n"
      ],
      "text/latex": [
       "A grouped\\_df: 2 × 2\n",
       "\\begin{tabular}{ll}\n",
       " block.fs & block.fs1\\\\\n",
       " <fct> & <dbl>\\\\\n",
       "\\hline\n",
       "\t pretoneOnly & -0.5\\\\\n",
       "\t priorOnly   &  0.5\\\\\n",
       "\\end{tabular}\n"
      ],
      "text/markdown": [
       "\n",
       "A grouped_df: 2 × 2\n",
       "\n",
       "| block.fs &lt;fct&gt; | block.fs1 &lt;dbl&gt; |\n",
       "|---|---|\n",
       "| pretoneOnly | -0.5 |\n",
       "| priorOnly   |  0.5 |\n",
       "\n"
      ],
      "text/plain": [
       "  block.fs    block.fs1\n",
       "1 pretoneOnly -0.5     \n",
       "2 priorOnly    0.5     "
      ]
     },
     "metadata": {},
     "output_type": "display_data"
    },
    {
     "data": {
      "text/html": [
       "<table class=\"dataframe\">\n",
       "<caption>A grouped_df: 2 × 2</caption>\n",
       "<thead>\n",
       "\t<tr><th scope=col>isH.f</th><th scope=col>isH.f1</th></tr>\n",
       "\t<tr><th scope=col>&lt;fct&gt;</th><th scope=col>&lt;dbl&gt;</th></tr>\n",
       "</thead>\n",
       "<tbody>\n",
       "\t<tr><td>low </td><td>-1</td></tr>\n",
       "\t<tr><td>high</td><td> 1</td></tr>\n",
       "</tbody>\n",
       "</table>\n"
      ],
      "text/latex": [
       "A grouped\\_df: 2 × 2\n",
       "\\begin{tabular}{ll}\n",
       " isH.f & isH.f1\\\\\n",
       " <fct> & <dbl>\\\\\n",
       "\\hline\n",
       "\t low  & -1\\\\\n",
       "\t high &  1\\\\\n",
       "\\end{tabular}\n"
      ],
      "text/markdown": [
       "\n",
       "A grouped_df: 2 × 2\n",
       "\n",
       "| isH.f &lt;fct&gt; | isH.f1 &lt;dbl&gt; |\n",
       "|---|---|\n",
       "| low  | -1 |\n",
       "| high |  1 |\n",
       "\n"
      ],
      "text/plain": [
       "  isH.f isH.f1\n",
       "1 low   -1    \n",
       "2 high   1    "
      ]
     },
     "metadata": {},
     "output_type": "display_data"
    },
    {
     "data": {
      "text/html": [
       "<table class=\"dataframe\">\n",
       "<caption>A grouped_df: 2 × 2</caption>\n",
       "<thead>\n",
       "\t<tr><th scope=col>congruent.fs</th><th scope=col>congruent.fs1</th></tr>\n",
       "\t<tr><th scope=col>&lt;fct&gt;</th><th scope=col>&lt;dbl&gt;</th></tr>\n",
       "</thead>\n",
       "<tbody>\n",
       "\t<tr><td>congruent  </td><td>-0.5</td></tr>\n",
       "\t<tr><td>incongruent</td><td> 0.5</td></tr>\n",
       "</tbody>\n",
       "</table>\n"
      ],
      "text/latex": [
       "A grouped\\_df: 2 × 2\n",
       "\\begin{tabular}{ll}\n",
       " congruent.fs & congruent.fs1\\\\\n",
       " <fct> & <dbl>\\\\\n",
       "\\hline\n",
       "\t congruent   & -0.5\\\\\n",
       "\t incongruent &  0.5\\\\\n",
       "\\end{tabular}\n"
      ],
      "text/markdown": [
       "\n",
       "A grouped_df: 2 × 2\n",
       "\n",
       "| congruent.fs &lt;fct&gt; | congruent.fs1 &lt;dbl&gt; |\n",
       "|---|---|\n",
       "| congruent   | -0.5 |\n",
       "| incongruent |  0.5 |\n",
       "\n"
      ],
      "text/plain": [
       "  congruent.fs congruent.fs1\n",
       "1 congruent    -0.5         \n",
       "2 incongruent   0.5         "
      ]
     },
     "metadata": {},
     "output_type": "display_data"
    }
   ],
   "source": [
    "pd_choicedf.cpc <- subset(pd_df,success==1 & \n",
    "                            trial_time_choice >= choice_period_ms.c[1] & \n",
    "                            trial_time_choice <= choice_period_ms.c[2])\n",
    "\n",
    "pd_choicedf.cpc.ave <- summarise(group_by(pd_choicedf.cpc,\n",
    "                                          dataIDall,trialN,\n",
    "                                          zaSNR,congruent.f,congruent.fs,isH.f,\n",
    "                                          block.f,,block.fs,zptlen),\n",
    "                                 pupilCblz=mean(pupilCblz),\n",
    "                                 blz=mean(blz),#blz could be a grouping factor but this is fine\n",
    "                                 posX=mean(posX),\n",
    "                                 posY=mean(posY))\n",
    "\n",
    "#set up vars for zero corr\n",
    "pd_choicedf.cpc.ave$isH.f1 <- \n",
    "  model.matrix(~1+pd_choicedf.cpc.ave$isH.f,pd_choicedf.cpc.ave)[,2]\n",
    "pd_choicedf.cpc.ave$congruent.f1 <- \n",
    "  model.matrix(~1+pd_choicedf.cpc.ave$congruent.f,pd_choicedf.cpc.ave)[,2]\n",
    "pd_choicedf.cpc.ave$block.f1 <- \n",
    "  model.matrix(~1+pd_choicedf.cpc.ave$block.f,pd_choicedf.cpc.ave)[,2]\n",
    "pd_choicedf.cpc.ave$congruent.fs1 <- \n",
    "  model.matrix(~1+pd_choicedf.cpc.ave$congruent.fs,pd_choicedf.cpc.ave)[,2]\n",
    "pd_choicedf.cpc.ave$block.fs1 <- \n",
    "  model.matrix(~1+pd_choicedf.cpc.ave$block.fs,pd_choicedf.cpc.ave)[,2]\n",
    "unique(pd_choicedf.cpc.ave[,c(\"block.fs\",\"block.fs1\")])\n",
    "unique(pd_choicedf.cpc.ave[,c(\"isH.f\",\"isH.f1\")])\n",
    "unique(pd_choicedf.cpc.ave[,c(\"congruent.fs\",\"congruent.fs1\")])"
   ]
  },
  {
   "cell_type": "code",
   "execution_count": 9,
   "id": "bef03b90",
   "metadata": {},
   "outputs": [
    {
     "name": "stderr",
     "output_type": "stream",
     "text": [
      "boundary (singular) fit: see ?isSingular\n",
      "\n"
     ]
    }
   ],
   "source": [
    "#let's do simple-coded congruent/block version to get a proper beta\n",
    "\n",
    "#full model is singular, so going to zero corr model\n",
    "choice.lm.cpc.fs <- lmer(pupilCblz~\n",
    "                           block.fs*congruent.fs + zaSNR +\n",
    "                           isH.f + blz + posX + posY + zptlen + \n",
    "                           (1 + block.fs1*congruent.fs1 + \n",
    "                              zaSNR + isH.f1 + blz + posX+ posY + zptlen|dataIDall),\n",
    "                         data=pd_choicedf.cpc.ave,\n",
    "                         control=lmerControl(optimizer=\"bobyqa\",\n",
    "                                             optCtrl=list(maxfun=2e5)))"
   ]
  },
  {
   "cell_type": "code",
   "execution_count": 10,
   "id": "c1e66b7f",
   "metadata": {},
   "outputs": [],
   "source": [
    "#zero corr model\n",
    "choice.lm.cpc.fs.zc <- lmer(pupilCblz~\n",
    "                           block.fs*congruent.fs + zaSNR +\n",
    "                           isH.f + blz + posX + posY + zptlen + \n",
    "                           (1 + block.fs1*congruent.fs1 + \n",
    "                              zaSNR + isH.f1 + blz + posX+ posY + zptlen||dataIDall),\n",
    "                         data=pd_choicedf.cpc.ave,\n",
    "                         control=lmerControl(optimizer=\"bobyqa\",\n",
    "                                             optCtrl=list(maxfun=2e5)))"
   ]
  },
  {
   "cell_type": "code",
   "execution_count": 11,
   "id": "0d9d8b22",
   "metadata": {},
   "outputs": [
    {
     "data": {
      "text/plain": [
       "Linear mixed model fit by REML. t-tests use Satterthwaite's method [\n",
       "lmerModLmerTest]\n",
       "Formula: pupilCblz ~ block.fs * congruent.fs + zaSNR + isH.f + blz + posX +  \n",
       "    posY + zptlen + (1 + block.fs1 * congruent.fs1 + zaSNR +  \n",
       "    isH.f1 + blz + posX + posY + zptlen || dataIDall)\n",
       "   Data: pd_choicedf.cpc.ave\n",
       "Control: lmerControl(optimizer = \"bobyqa\", optCtrl = list(maxfun = 2e+05))\n",
       "\n",
       "REML criterion at convergence: 8479.9\n",
       "\n",
       "Scaled residuals: \n",
       "    Min      1Q  Median      3Q     Max \n",
       "-9.0855 -0.5520 -0.0037  0.5604  6.0220 \n",
       "\n",
       "Random effects:\n",
       " Groups      Name                    Variance  Std.Dev.\n",
       " dataIDall   (Intercept)             0.0202213 0.14220 \n",
       " dataIDall.1 block.fs1               0.1319592 0.36326 \n",
       " dataIDall.2 congruent.fs1           0.0010054 0.03171 \n",
       " dataIDall.3 zaSNR                   0.0006180 0.02486 \n",
       " dataIDall.4 isH.f1                  0.0004990 0.02234 \n",
       " dataIDall.5 blz                     0.0104218 0.10209 \n",
       " dataIDall.6 posX                    0.0015675 0.03959 \n",
       " dataIDall.7 posY                    0.0071105 0.08432 \n",
       " dataIDall.8 zptlen                  0.0052337 0.07234 \n",
       " dataIDall.9 block.fs1:congruent.fs1 0.0009741 0.03121 \n",
       " Residual                            0.1059657 0.32552 \n",
       "Number of obs: 12871, groups:  dataIDall, 40\n",
       "\n",
       "Fixed effects:\n",
       "                         Estimate Std. Error        df t value Pr(>|t|)    \n",
       "(Intercept)              0.357666   0.023474 39.159062  15.237  < 2e-16 ***\n",
       "block.fs1               -0.547837   0.059206 39.015641  -9.253 2.19e-11 ***\n",
       "congruent.fs1            0.060143   0.009266 35.309797   6.491 1.68e-07 ***\n",
       "zaSNR                   -0.022815   0.004991 39.597671  -4.571 4.67e-05 ***\n",
       "isH.f1                   0.003081   0.004718 36.980001   0.653    0.518    \n",
       "blz                     -0.223344   0.016591 38.465945 -13.462 3.91e-16 ***\n",
       "posX                    -0.031983   0.007277 37.091157  -4.395 8.94e-05 ***\n",
       "posY                    -0.062139   0.013902 38.681170  -4.470 6.65e-05 ***\n",
       "zptlen                  -0.176792   0.013186 40.758999 -13.408  < 2e-16 ***\n",
       "block.fs1:congruent.fs1  0.090357   0.016000 38.356469   5.647 1.68e-06 ***\n",
       "---\n",
       "Signif. codes:  0 '***' 0.001 '**' 0.01 '*' 0.05 '.' 0.1 ' ' 1\n",
       "\n",
       "Correlation of Fixed Effects:\n",
       "            (Intr) blck.1 cngr.1 zaSNR  isH.f1 blz    posX   posY   zptlen\n",
       "block.fs1    0.023                                                        \n",
       "congrnt.fs1  0.078  0.050                                                 \n",
       "zaSNR       -0.015  0.002 -0.062                                          \n",
       "isH.f1       0.002 -0.001  0.007 -0.005                                   \n",
       "blz         -0.007 -0.006  0.003 -0.002 -0.003                            \n",
       "posX         0.007 -0.001 -0.004  0.001  0.001 -0.004                     \n",
       "posY         0.010  0.001  0.003 -0.003 -0.004 -0.002 -0.005              \n",
       "zptlen       0.058  0.070  0.007  0.002 -0.003 -0.021  0.010  0.004       \n",
       "blck.fs1:.1  0.068  0.064  0.245 -0.008 -0.003  0.001 -0.004  0.007 -0.008"
      ]
     },
     "metadata": {},
     "output_type": "display_data"
    },
    {
     "data": {
      "text/html": [
       "<table class=\"dataframe\">\n",
       "<caption>A anova: 9 × 6</caption>\n",
       "<thead>\n",
       "\t<tr><th></th><th scope=col>Sum Sq</th><th scope=col>Mean Sq</th><th scope=col>NumDF</th><th scope=col>DenDF</th><th scope=col>F value</th><th scope=col>Pr(&gt;F)</th></tr>\n",
       "\t<tr><th></th><th scope=col>&lt;dbl&gt;</th><th scope=col>&lt;dbl&gt;</th><th scope=col>&lt;int&gt;</th><th scope=col>&lt;dbl&gt;</th><th scope=col>&lt;dbl&gt;</th><th scope=col>&lt;dbl&gt;</th></tr>\n",
       "</thead>\n",
       "<tbody>\n",
       "\t<tr><th scope=row>block.fs</th><td> 9.07266212</td><td> 9.07266212</td><td>1</td><td>39.01564</td><td> 85.6188905</td><td>2.190940e-11</td></tr>\n",
       "\t<tr><th scope=row>congruent.fs</th><td> 4.46461505</td><td> 4.46461505</td><td>1</td><td>35.30980</td><td> 42.1326599</td><td>1.682715e-07</td></tr>\n",
       "\t<tr><th scope=row>zaSNR</th><td> 2.21446403</td><td> 2.21446403</td><td>1</td><td>39.59767</td><td> 20.8979405</td><td>4.667883e-05</td></tr>\n",
       "\t<tr><th scope=row>isH.f</th><td> 0.04517844</td><td> 0.04517844</td><td>1</td><td>36.98000</td><td>  0.4263498</td><td>5.178246e-01</td></tr>\n",
       "\t<tr><th scope=row>blz</th><td>19.20404705</td><td>19.20404705</td><td>1</td><td>38.46594</td><td>181.2289690</td><td>3.905680e-16</td></tr>\n",
       "\t<tr><th scope=row>posX</th><td> 2.04681162</td><td> 2.04681162</td><td>1</td><td>37.09116</td><td> 19.3158014</td><td>8.940326e-05</td></tr>\n",
       "\t<tr><th scope=row>posY</th><td> 2.11723333</td><td> 2.11723333</td><td>1</td><td>38.68117</td><td> 19.9803725</td><td>6.648261e-05</td></tr>\n",
       "\t<tr><th scope=row>zptlen</th><td>19.04916453</td><td>19.04916453</td><td>1</td><td>40.75900</td><td>179.7673396</td><td>1.560497e-16</td></tr>\n",
       "\t<tr><th scope=row>block.fs:congruent.fs</th><td> 3.37960391</td><td> 3.37960391</td><td>1</td><td>38.35647</td><td> 31.8933884</td><td>1.684058e-06</td></tr>\n",
       "</tbody>\n",
       "</table>\n"
      ],
      "text/latex": [
       "A anova: 9 × 6\n",
       "\\begin{tabular}{r|llllll}\n",
       "  & Sum Sq & Mean Sq & NumDF & DenDF & F value & Pr(>F)\\\\\n",
       "  & <dbl> & <dbl> & <int> & <dbl> & <dbl> & <dbl>\\\\\n",
       "\\hline\n",
       "\tblock.fs &  9.07266212 &  9.07266212 & 1 & 39.01564 &  85.6188905 & 2.190940e-11\\\\\n",
       "\tcongruent.fs &  4.46461505 &  4.46461505 & 1 & 35.30980 &  42.1326599 & 1.682715e-07\\\\\n",
       "\tzaSNR &  2.21446403 &  2.21446403 & 1 & 39.59767 &  20.8979405 & 4.667883e-05\\\\\n",
       "\tisH.f &  0.04517844 &  0.04517844 & 1 & 36.98000 &   0.4263498 & 5.178246e-01\\\\\n",
       "\tblz & 19.20404705 & 19.20404705 & 1 & 38.46594 & 181.2289690 & 3.905680e-16\\\\\n",
       "\tposX &  2.04681162 &  2.04681162 & 1 & 37.09116 &  19.3158014 & 8.940326e-05\\\\\n",
       "\tposY &  2.11723333 &  2.11723333 & 1 & 38.68117 &  19.9803725 & 6.648261e-05\\\\\n",
       "\tzptlen & 19.04916453 & 19.04916453 & 1 & 40.75900 & 179.7673396 & 1.560497e-16\\\\\n",
       "\tblock.fs:congruent.fs &  3.37960391 &  3.37960391 & 1 & 38.35647 &  31.8933884 & 1.684058e-06\\\\\n",
       "\\end{tabular}\n"
      ],
      "text/markdown": [
       "\n",
       "A anova: 9 × 6\n",
       "\n",
       "| <!--/--> | Sum Sq &lt;dbl&gt; | Mean Sq &lt;dbl&gt; | NumDF &lt;int&gt; | DenDF &lt;dbl&gt; | F value &lt;dbl&gt; | Pr(&gt;F) &lt;dbl&gt; |\n",
       "|---|---|---|---|---|---|---|\n",
       "| block.fs |  9.07266212 |  9.07266212 | 1 | 39.01564 |  85.6188905 | 2.190940e-11 |\n",
       "| congruent.fs |  4.46461505 |  4.46461505 | 1 | 35.30980 |  42.1326599 | 1.682715e-07 |\n",
       "| zaSNR |  2.21446403 |  2.21446403 | 1 | 39.59767 |  20.8979405 | 4.667883e-05 |\n",
       "| isH.f |  0.04517844 |  0.04517844 | 1 | 36.98000 |   0.4263498 | 5.178246e-01 |\n",
       "| blz | 19.20404705 | 19.20404705 | 1 | 38.46594 | 181.2289690 | 3.905680e-16 |\n",
       "| posX |  2.04681162 |  2.04681162 | 1 | 37.09116 |  19.3158014 | 8.940326e-05 |\n",
       "| posY |  2.11723333 |  2.11723333 | 1 | 38.68117 |  19.9803725 | 6.648261e-05 |\n",
       "| zptlen | 19.04916453 | 19.04916453 | 1 | 40.75900 | 179.7673396 | 1.560497e-16 |\n",
       "| block.fs:congruent.fs |  3.37960391 |  3.37960391 | 1 | 38.35647 |  31.8933884 | 1.684058e-06 |\n",
       "\n"
      ],
      "text/plain": [
       "                      Sum Sq      Mean Sq     NumDF DenDF    F value    \n",
       "block.fs               9.07266212  9.07266212 1     39.01564  85.6188905\n",
       "congruent.fs           4.46461505  4.46461505 1     35.30980  42.1326599\n",
       "zaSNR                  2.21446403  2.21446403 1     39.59767  20.8979405\n",
       "isH.f                  0.04517844  0.04517844 1     36.98000   0.4263498\n",
       "blz                   19.20404705 19.20404705 1     38.46594 181.2289690\n",
       "posX                   2.04681162  2.04681162 1     37.09116  19.3158014\n",
       "posY                   2.11723333  2.11723333 1     38.68117  19.9803725\n",
       "zptlen                19.04916453 19.04916453 1     40.75900 179.7673396\n",
       "block.fs:congruent.fs  3.37960391  3.37960391 1     38.35647  31.8933884\n",
       "                      Pr(>F)      \n",
       "block.fs              2.190940e-11\n",
       "congruent.fs          1.682715e-07\n",
       "zaSNR                 4.667883e-05\n",
       "isH.f                 5.178246e-01\n",
       "blz                   3.905680e-16\n",
       "posX                  8.940326e-05\n",
       "posY                  6.648261e-05\n",
       "zptlen                1.560497e-16\n",
       "block.fs:congruent.fs 1.684058e-06"
      ]
     },
     "metadata": {},
     "output_type": "display_data"
    }
   ],
   "source": [
    "summary(choice.lm.cpc.fs.zc)\n",
    "anova(choice.lm.cpc.fs.zc ,type=\"III\")"
   ]
  },
  {
   "cell_type": "code",
   "execution_count": null,
   "id": "056abe16",
   "metadata": {},
   "outputs": [],
   "source": []
  }
 ],
 "metadata": {
  "kernelspec": {
   "display_name": "R",
   "language": "R",
   "name": "ir"
  },
  "language_info": {
   "codemirror_mode": "r",
   "file_extension": ".r",
   "mimetype": "text/x-r-source",
   "name": "R",
   "pygments_lexer": "r",
   "version": "4.1.0"
  }
 },
 "nbformat": 4,
 "nbformat_minor": 5
}
