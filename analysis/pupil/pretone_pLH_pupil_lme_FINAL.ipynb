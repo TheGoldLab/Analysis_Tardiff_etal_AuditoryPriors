{
 "cells": [
  {
   "cell_type": "markdown",
   "metadata": {},
   "source": [
    "This runs confirmatory analyses in pretone_pLH data to check for the precue pupil effects for the section \"Rule- and stimulus-based biases exhibited distinct physiological signatures\""
   ]
  },
  {
   "cell_type": "markdown",
   "metadata": {},
   "source": [
    "# Data setup"
   ]
  },
  {
   "cell_type": "code",
   "execution_count": 1,
   "metadata": {},
   "outputs": [
    {
     "name": "stderr",
     "output_type": "stream",
     "text": [
      "Loading required package: Matrix\n",
      "\n",
      "\n",
      "Attaching package: ‘lmerTest’\n",
      "\n",
      "\n",
      "The following object is masked from ‘package:lme4’:\n",
      "\n",
      "    lmer\n",
      "\n",
      "\n",
      "The following object is masked from ‘package:stats’:\n",
      "\n",
      "    step\n",
      "\n",
      "\n",
      "Loading required package: carData\n",
      "\n",
      "\n",
      "Attaching package: ‘dplyr’\n",
      "\n",
      "\n",
      "The following objects are masked from ‘package:plyr’:\n",
      "\n",
      "    arrange, count, desc, failwith, id, mutate, rename, summarise,\n",
      "    summarize\n",
      "\n",
      "\n",
      "The following object is masked from ‘package:car’:\n",
      "\n",
      "    recode\n",
      "\n",
      "\n",
      "The following objects are masked from ‘package:stats’:\n",
      "\n",
      "    filter, lag\n",
      "\n",
      "\n",
      "The following objects are masked from ‘package:base’:\n",
      "\n",
      "    intersect, setdiff, setequal, union\n",
      "\n",
      "\n"
     ]
    },
    {
     "data": {
      "text/html": [
       "<table class=\"dataframe\">\n",
       "<caption>A data.frame: 6 × 17</caption>\n",
       "<thead>\n",
       "\t<tr><th></th><th scope=col>trialN</th><th scope=col>trial_time_choice</th><th scope=col>trial_time_stimOn</th><th scope=col>trial_time_stimOff</th><th scope=col>pupilCblz</th><th scope=col>posXCbl</th><th scope=col>posYCbl</th><th scope=col>dataID</th><th scope=col>pupilCblz2</th><th scope=col>aSNR</th><th scope=col>isH</th><th scope=col>success</th><th scope=col>choice01</th><th scope=col>prior</th><th scope=col>pretoneLength</th><th scope=col>congruent</th><th scope=col>congruentpt</th></tr>\n",
       "\t<tr><th></th><th scope=col>&lt;int&gt;</th><th scope=col>&lt;int&gt;</th><th scope=col>&lt;int&gt;</th><th scope=col>&lt;int&gt;</th><th scope=col>&lt;dbl&gt;</th><th scope=col>&lt;dbl&gt;</th><th scope=col>&lt;dbl&gt;</th><th scope=col>&lt;int&gt;</th><th scope=col>&lt;dbl&gt;</th><th scope=col>&lt;dbl&gt;</th><th scope=col>&lt;int&gt;</th><th scope=col>&lt;int&gt;</th><th scope=col>&lt;int&gt;</th><th scope=col>&lt;int&gt;</th><th scope=col>&lt;int&gt;</th><th scope=col>&lt;int&gt;</th><th scope=col>&lt;int&gt;</th></tr>\n",
       "</thead>\n",
       "<tbody>\n",
       "\t<tr><th scope=row>1</th><td>1</td><td>-2000</td><td>-260</td><td>-1760</td><td>-0.13820916</td><td>-5.787674</td><td> 0.9855574</td><td>2</td><td>0.5896288</td><td>0.05</td><td>0</td><td>1</td><td>0</td><td>-2</td><td>3</td><td>1</td><td>0</td></tr>\n",
       "\t<tr><th scope=row>2</th><td>1</td><td>-1980</td><td>-240</td><td>-1740</td><td>-0.13124094</td><td>-7.237302</td><td>-0.3603486</td><td>2</td><td>0.5965970</td><td>0.05</td><td>0</td><td>1</td><td>0</td><td>-2</td><td>3</td><td>1</td><td>0</td></tr>\n",
       "\t<tr><th scope=row>3</th><td>1</td><td>-1960</td><td>-220</td><td>-1720</td><td>-0.12247279</td><td>-6.464236</td><td>-0.2966258</td><td>2</td><td>0.6053651</td><td>0.05</td><td>0</td><td>1</td><td>0</td><td>-2</td><td>3</td><td>1</td><td>0</td></tr>\n",
       "\t<tr><th scope=row>4</th><td>1</td><td>-1940</td><td>-200</td><td>-1700</td><td>-0.11226265</td><td>-6.336257</td><td> 0.7309437</td><td>2</td><td>0.6155753</td><td>0.05</td><td>0</td><td>1</td><td>0</td><td>-2</td><td>3</td><td>1</td><td>0</td></tr>\n",
       "\t<tr><th scope=row>5</th><td>1</td><td>-1920</td><td>-180</td><td>-1680</td><td>-0.10108940</td><td>-5.805152</td><td> 0.6163435</td><td>2</td><td>0.6267485</td><td>0.05</td><td>0</td><td>1</td><td>0</td><td>-2</td><td>3</td><td>1</td><td>0</td></tr>\n",
       "\t<tr><th scope=row>6</th><td>1</td><td>-1900</td><td>-160</td><td>-1660</td><td>-0.08961575</td><td>-4.953268</td><td> 0.1747674</td><td>2</td><td>0.6382222</td><td>0.05</td><td>0</td><td>1</td><td>0</td><td>-2</td><td>3</td><td>1</td><td>0</td></tr>\n",
       "</tbody>\n",
       "</table>\n"
      ],
      "text/latex": [
       "A data.frame: 6 × 17\n",
       "\\begin{tabular}{r|lllllllllllllllll}\n",
       "  & trialN & trial\\_time\\_choice & trial\\_time\\_stimOn & trial\\_time\\_stimOff & pupilCblz & posXCbl & posYCbl & dataID & pupilCblz2 & aSNR & isH & success & choice01 & prior & pretoneLength & congruent & congruentpt\\\\\n",
       "  & <int> & <int> & <int> & <int> & <dbl> & <dbl> & <dbl> & <int> & <dbl> & <dbl> & <int> & <int> & <int> & <int> & <int> & <int> & <int>\\\\\n",
       "\\hline\n",
       "\t1 & 1 & -2000 & -260 & -1760 & -0.13820916 & -5.787674 &  0.9855574 & 2 & 0.5896288 & 0.05 & 0 & 1 & 0 & -2 & 3 & 1 & 0\\\\\n",
       "\t2 & 1 & -1980 & -240 & -1740 & -0.13124094 & -7.237302 & -0.3603486 & 2 & 0.5965970 & 0.05 & 0 & 1 & 0 & -2 & 3 & 1 & 0\\\\\n",
       "\t3 & 1 & -1960 & -220 & -1720 & -0.12247279 & -6.464236 & -0.2966258 & 2 & 0.6053651 & 0.05 & 0 & 1 & 0 & -2 & 3 & 1 & 0\\\\\n",
       "\t4 & 1 & -1940 & -200 & -1700 & -0.11226265 & -6.336257 &  0.7309437 & 2 & 0.6155753 & 0.05 & 0 & 1 & 0 & -2 & 3 & 1 & 0\\\\\n",
       "\t5 & 1 & -1920 & -180 & -1680 & -0.10108940 & -5.805152 &  0.6163435 & 2 & 0.6267485 & 0.05 & 0 & 1 & 0 & -2 & 3 & 1 & 0\\\\\n",
       "\t6 & 1 & -1900 & -160 & -1660 & -0.08961575 & -4.953268 &  0.1747674 & 2 & 0.6382222 & 0.05 & 0 & 1 & 0 & -2 & 3 & 1 & 0\\\\\n",
       "\\end{tabular}\n"
      ],
      "text/markdown": [
       "\n",
       "A data.frame: 6 × 17\n",
       "\n",
       "| <!--/--> | trialN &lt;int&gt; | trial_time_choice &lt;int&gt; | trial_time_stimOn &lt;int&gt; | trial_time_stimOff &lt;int&gt; | pupilCblz &lt;dbl&gt; | posXCbl &lt;dbl&gt; | posYCbl &lt;dbl&gt; | dataID &lt;int&gt; | pupilCblz2 &lt;dbl&gt; | aSNR &lt;dbl&gt; | isH &lt;int&gt; | success &lt;int&gt; | choice01 &lt;int&gt; | prior &lt;int&gt; | pretoneLength &lt;int&gt; | congruent &lt;int&gt; | congruentpt &lt;int&gt; |\n",
       "|---|---|---|---|---|---|---|---|---|---|---|---|---|---|---|---|---|---|\n",
       "| 1 | 1 | -2000 | -260 | -1760 | -0.13820916 | -5.787674 |  0.9855574 | 2 | 0.5896288 | 0.05 | 0 | 1 | 0 | -2 | 3 | 1 | 0 |\n",
       "| 2 | 1 | -1980 | -240 | -1740 | -0.13124094 | -7.237302 | -0.3603486 | 2 | 0.5965970 | 0.05 | 0 | 1 | 0 | -2 | 3 | 1 | 0 |\n",
       "| 3 | 1 | -1960 | -220 | -1720 | -0.12247279 | -6.464236 | -0.2966258 | 2 | 0.6053651 | 0.05 | 0 | 1 | 0 | -2 | 3 | 1 | 0 |\n",
       "| 4 | 1 | -1940 | -200 | -1700 | -0.11226265 | -6.336257 |  0.7309437 | 2 | 0.6155753 | 0.05 | 0 | 1 | 0 | -2 | 3 | 1 | 0 |\n",
       "| 5 | 1 | -1920 | -180 | -1680 | -0.10108940 | -5.805152 |  0.6163435 | 2 | 0.6267485 | 0.05 | 0 | 1 | 0 | -2 | 3 | 1 | 0 |\n",
       "| 6 | 1 | -1900 | -160 | -1660 | -0.08961575 | -4.953268 |  0.1747674 | 2 | 0.6382222 | 0.05 | 0 | 1 | 0 | -2 | 3 | 1 | 0 |\n",
       "\n"
      ],
      "text/plain": [
       "  trialN trial_time_choice trial_time_stimOn trial_time_stimOff pupilCblz  \n",
       "1 1      -2000             -260              -1760              -0.13820916\n",
       "2 1      -1980             -240              -1740              -0.13124094\n",
       "3 1      -1960             -220              -1720              -0.12247279\n",
       "4 1      -1940             -200              -1700              -0.11226265\n",
       "5 1      -1920             -180              -1680              -0.10108940\n",
       "6 1      -1900             -160              -1660              -0.08961575\n",
       "  posXCbl   posYCbl    dataID pupilCblz2 aSNR isH success choice01 prior\n",
       "1 -5.787674  0.9855574 2      0.5896288  0.05 0   1       0        -2   \n",
       "2 -7.237302 -0.3603486 2      0.5965970  0.05 0   1       0        -2   \n",
       "3 -6.464236 -0.2966258 2      0.6053651  0.05 0   1       0        -2   \n",
       "4 -6.336257  0.7309437 2      0.6155753  0.05 0   1       0        -2   \n",
       "5 -5.805152  0.6163435 2      0.6267485  0.05 0   1       0        -2   \n",
       "6 -4.953268  0.1747674 2      0.6382222  0.05 0   1       0        -2   \n",
       "  pretoneLength congruent congruentpt\n",
       "1 3             1         0          \n",
       "2 3             1         0          \n",
       "3 3             1         0          \n",
       "4 3             1         0          \n",
       "5 3             1         0          \n",
       "6 3             1         0          "
      ]
     },
     "metadata": {},
     "output_type": "display_data"
    },
    {
     "data": {
      "text/html": [
       "<table class=\"dataframe\">\n",
       "<caption>A data.frame: 6 × 18</caption>\n",
       "<thead>\n",
       "\t<tr><th></th><th scope=col>trialN</th><th scope=col>GroupCount</th><th scope=col>pupilBL</th><th scope=col>posXBL</th><th scope=col>posYBL</th><th scope=col>dataID_block</th><th scope=col>pupilBL2</th><th scope=col>aSNR</th><th scope=col>isH</th><th scope=col>success</th><th scope=col>choice01</th><th scope=col>prior</th><th scope=col>pretoneLength</th><th scope=col>pretoneBias</th><th scope=col>ptC</th><th scope=col>congruent</th><th scope=col>congruentpt</th><th scope=col>dataID</th></tr>\n",
       "\t<tr><th></th><th scope=col>&lt;int&gt;</th><th scope=col>&lt;int&gt;</th><th scope=col>&lt;dbl&gt;</th><th scope=col>&lt;dbl&gt;</th><th scope=col>&lt;dbl&gt;</th><th scope=col>&lt;int&gt;</th><th scope=col>&lt;dbl&gt;</th><th scope=col>&lt;dbl&gt;</th><th scope=col>&lt;int&gt;</th><th scope=col>&lt;int&gt;</th><th scope=col>&lt;int&gt;</th><th scope=col>&lt;int&gt;</th><th scope=col>&lt;int&gt;</th><th scope=col>&lt;dbl&gt;</th><th scope=col>&lt;chr&gt;</th><th scope=col>&lt;int&gt;</th><th scope=col>&lt;int&gt;</th><th scope=col>&lt;int&gt;</th></tr>\n",
       "</thead>\n",
       "<tbody>\n",
       "\t<tr><th scope=row>1</th><td>1</td><td>41</td><td>-0.5101309</td><td>1239.427</td><td>727.6366</td><td>2</td><td>-0.72783792</td><td>0.05</td><td>0</td><td>1</td><td>0</td><td>-2</td><td> 3</td><td> 0.3333333</td><td>HH</td><td>1</td><td>0</td><td>2</td></tr>\n",
       "\t<tr><th scope=row>2</th><td>2</td><td>41</td><td> 0.5813434</td><td>1230.868</td><td>713.3317</td><td>2</td><td> 0.22185096</td><td>0.50</td><td>0</td><td>1</td><td>0</td><td>-2</td><td>14</td><td> 0.8571429</td><td>HH</td><td>1</td><td>0</td><td>2</td></tr>\n",
       "\t<tr><th scope=row>3</th><td>3</td><td>41</td><td> 1.0496002</td><td>1227.105</td><td>696.5939</td><td>2</td><td>-1.98890946</td><td>0.50</td><td>0</td><td>1</td><td>0</td><td>-2</td><td> 4</td><td>-1.0000000</td><td>LL</td><td>1</td><td>3</td><td>2</td></tr>\n",
       "\t<tr><th scope=row>4</th><td>4</td><td>41</td><td> 0.6929309</td><td>1210.072</td><td>702.9085</td><td>2</td><td>-0.07113367</td><td>0.50</td><td>0</td><td>1</td><td>0</td><td>-2</td><td> 8</td><td> 0.7500000</td><td>LH</td><td>1</td><td>2</td><td>2</td></tr>\n",
       "\t<tr><th scope=row>5</th><td>6</td><td>41</td><td> 1.4616907</td><td>1208.493</td><td>718.5256</td><td>2</td><td>-0.19761281</td><td>0.10</td><td>0</td><td>1</td><td>0</td><td>-2</td><td> 9</td><td>-0.5555556</td><td>LL</td><td>1</td><td>3</td><td>2</td></tr>\n",
       "\t<tr><th scope=row>6</th><td>7</td><td>41</td><td> 1.0742042</td><td>1218.302</td><td>740.8134</td><td>2</td><td>-0.49286442</td><td>0.05</td><td>0</td><td>0</td><td>1</td><td>-2</td><td> 9</td><td> 0.7777778</td><td>HH</td><td>0</td><td>3</td><td>2</td></tr>\n",
       "</tbody>\n",
       "</table>\n"
      ],
      "text/latex": [
       "A data.frame: 6 × 18\n",
       "\\begin{tabular}{r|llllllllllllllllll}\n",
       "  & trialN & GroupCount & pupilBL & posXBL & posYBL & dataID\\_block & pupilBL2 & aSNR & isH & success & choice01 & prior & pretoneLength & pretoneBias & ptC & congruent & congruentpt & dataID\\\\\n",
       "  & <int> & <int> & <dbl> & <dbl> & <dbl> & <int> & <dbl> & <dbl> & <int> & <int> & <int> & <int> & <int> & <dbl> & <chr> & <int> & <int> & <int>\\\\\n",
       "\\hline\n",
       "\t1 & 1 & 41 & -0.5101309 & 1239.427 & 727.6366 & 2 & -0.72783792 & 0.05 & 0 & 1 & 0 & -2 &  3 &  0.3333333 & HH & 1 & 0 & 2\\\\\n",
       "\t2 & 2 & 41 &  0.5813434 & 1230.868 & 713.3317 & 2 &  0.22185096 & 0.50 & 0 & 1 & 0 & -2 & 14 &  0.8571429 & HH & 1 & 0 & 2\\\\\n",
       "\t3 & 3 & 41 &  1.0496002 & 1227.105 & 696.5939 & 2 & -1.98890946 & 0.50 & 0 & 1 & 0 & -2 &  4 & -1.0000000 & LL & 1 & 3 & 2\\\\\n",
       "\t4 & 4 & 41 &  0.6929309 & 1210.072 & 702.9085 & 2 & -0.07113367 & 0.50 & 0 & 1 & 0 & -2 &  8 &  0.7500000 & LH & 1 & 2 & 2\\\\\n",
       "\t5 & 6 & 41 &  1.4616907 & 1208.493 & 718.5256 & 2 & -0.19761281 & 0.10 & 0 & 1 & 0 & -2 &  9 & -0.5555556 & LL & 1 & 3 & 2\\\\\n",
       "\t6 & 7 & 41 &  1.0742042 & 1218.302 & 740.8134 & 2 & -0.49286442 & 0.05 & 0 & 0 & 1 & -2 &  9 &  0.7777778 & HH & 0 & 3 & 2\\\\\n",
       "\\end{tabular}\n"
      ],
      "text/markdown": [
       "\n",
       "A data.frame: 6 × 18\n",
       "\n",
       "| <!--/--> | trialN &lt;int&gt; | GroupCount &lt;int&gt; | pupilBL &lt;dbl&gt; | posXBL &lt;dbl&gt; | posYBL &lt;dbl&gt; | dataID_block &lt;int&gt; | pupilBL2 &lt;dbl&gt; | aSNR &lt;dbl&gt; | isH &lt;int&gt; | success &lt;int&gt; | choice01 &lt;int&gt; | prior &lt;int&gt; | pretoneLength &lt;int&gt; | pretoneBias &lt;dbl&gt; | ptC &lt;chr&gt; | congruent &lt;int&gt; | congruentpt &lt;int&gt; | dataID &lt;int&gt; |\n",
       "|---|---|---|---|---|---|---|---|---|---|---|---|---|---|---|---|---|---|---|\n",
       "| 1 | 1 | 41 | -0.5101309 | 1239.427 | 727.6366 | 2 | -0.72783792 | 0.05 | 0 | 1 | 0 | -2 |  3 |  0.3333333 | HH | 1 | 0 | 2 |\n",
       "| 2 | 2 | 41 |  0.5813434 | 1230.868 | 713.3317 | 2 |  0.22185096 | 0.50 | 0 | 1 | 0 | -2 | 14 |  0.8571429 | HH | 1 | 0 | 2 |\n",
       "| 3 | 3 | 41 |  1.0496002 | 1227.105 | 696.5939 | 2 | -1.98890946 | 0.50 | 0 | 1 | 0 | -2 |  4 | -1.0000000 | LL | 1 | 3 | 2 |\n",
       "| 4 | 4 | 41 |  0.6929309 | 1210.072 | 702.9085 | 2 | -0.07113367 | 0.50 | 0 | 1 | 0 | -2 |  8 |  0.7500000 | LH | 1 | 2 | 2 |\n",
       "| 5 | 6 | 41 |  1.4616907 | 1208.493 | 718.5256 | 2 | -0.19761281 | 0.10 | 0 | 1 | 0 | -2 |  9 | -0.5555556 | LL | 1 | 3 | 2 |\n",
       "| 6 | 7 | 41 |  1.0742042 | 1218.302 | 740.8134 | 2 | -0.49286442 | 0.05 | 0 | 0 | 1 | -2 |  9 |  0.7777778 | HH | 0 | 3 | 2 |\n",
       "\n"
      ],
      "text/plain": [
       "  trialN GroupCount pupilBL    posXBL   posYBL   dataID_block pupilBL2    aSNR\n",
       "1 1      41         -0.5101309 1239.427 727.6366 2            -0.72783792 0.05\n",
       "2 2      41          0.5813434 1230.868 713.3317 2             0.22185096 0.50\n",
       "3 3      41          1.0496002 1227.105 696.5939 2            -1.98890946 0.50\n",
       "4 4      41          0.6929309 1210.072 702.9085 2            -0.07113367 0.50\n",
       "5 6      41          1.4616907 1208.493 718.5256 2            -0.19761281 0.10\n",
       "6 7      41          1.0742042 1218.302 740.8134 2            -0.49286442 0.05\n",
       "  isH success choice01 prior pretoneLength pretoneBias ptC congruent\n",
       "1 0   1       0        -2     3             0.3333333  HH  1        \n",
       "2 0   1       0        -2    14             0.8571429  HH  1        \n",
       "3 0   1       0        -2     4            -1.0000000  LL  1        \n",
       "4 0   1       0        -2     8             0.7500000  LH  1        \n",
       "5 0   1       0        -2     9            -0.5555556  LL  1        \n",
       "6 0   0       1        -2     9             0.7777778  HH  0        \n",
       "  congruentpt dataID\n",
       "1 0           2     \n",
       "2 0           2     \n",
       "3 3           2     \n",
       "4 2           2     \n",
       "5 3           2     \n",
       "6 3           2     "
      ]
     },
     "metadata": {},
     "output_type": "display_data"
    }
   ],
   "source": [
    "#clear memory\n",
    "rm(list=ls())\n",
    "\n",
    "### this runs regressions for pretone_pLH choice-aligned pupil data\n",
    "\n",
    "## LOADING data/libraries ##\n",
    "\n",
    "#load libraries\n",
    "library(lme4)\n",
    "library(lmerTest)\n",
    "library(car)\n",
    "library(plyr)\n",
    "library(dplyr)\n",
    "library(ggplot2)\n",
    "#library(afex)\n",
    "library(emmeans)\n",
    "emm_options(lmerTest.limit = Inf, lmer.df = \"satterthwaite\")\n",
    "\n",
    "\n",
    "switch(Sys.info()[['sysname']],\n",
    "       Windows = setwd(file.path(\n",
    "         Sys.getenv('USERPROFILE'),'Dropbox/Goldlab/AuditoryPriors/data processing/pupil')),\n",
    "       Darwin = setwd('~/Dropbox/Goldlab/AuditoryPriors/data processing/pupil')\n",
    ")\n",
    "\n",
    "#path to data files\n",
    "switch(Sys.info()[['sysname']],\n",
    "       Windows = DATA_OUT_PATH <- (paste0(\n",
    "         Sys.getenv('USERPROFILE'),'/OneDrive/Goldlab/AuditoryPriors/cached data/')),\n",
    "       Darwin = DATA_OUT_PATH <- '~/OneDrive/Goldlab/AuditoryPriors/cached data/'\n",
    ")\n",
    "pd_file= paste0(DATA_OUT_PATH,'pupil_data_pretonepLH_ds50_forR_08-Jun-2021.csv')\n",
    "baseline_file = paste0(DATA_OUT_PATH,'pupil_data_pretonepLH_bl_forR_08-Jun-2021.csv')\n",
    "\n",
    "#set temporal parameters \n",
    "#period in which incon-con is sig (corrected) in both choice regression and bias correlation\n",
    "choice_period_ms.prior <- c(220,720) \n",
    "\n",
    "#load data\n",
    "pd_df<-read.table(pd_file,sep=',', header=TRUE, stringsAsFactors=FALSE,na.strings = c('NaN'))\n",
    "bl_df<-read.table(baseline_file,sep=',', header=TRUE, stringsAsFactors=FALSE,na.strings = c('NaN'))\n",
    "\n",
    "head(pd_df)\n",
    "head(bl_df)"
   ]
  },
  {
   "cell_type": "code",
   "execution_count": 2,
   "metadata": {},
   "outputs": [
    {
     "data": {
      "text/html": [
       "<table class=\"dataframe\">\n",
       "<caption>A matrix: 4 × 3 of type dbl</caption>\n",
       "<tbody>\n",
       "\t<tr><th scope=row>con</th><td> 1</td><td> 0</td><td> 0</td></tr>\n",
       "\t<tr><th scope=row>con-incon</th><td> 0</td><td> 1</td><td> 0</td></tr>\n",
       "\t<tr><th scope=row>incon-con</th><td> 0</td><td> 0</td><td> 1</td></tr>\n",
       "\t<tr><th scope=row>incon</th><td>-1</td><td>-1</td><td>-1</td></tr>\n",
       "</tbody>\n",
       "</table>\n"
      ],
      "text/latex": [
       "A matrix: 4 × 3 of type dbl\n",
       "\\begin{tabular}{r|lll}\n",
       "\tcon &  1 &  0 &  0\\\\\n",
       "\tcon-incon &  0 &  1 &  0\\\\\n",
       "\tincon-con &  0 &  0 &  1\\\\\n",
       "\tincon & -1 & -1 & -1\\\\\n",
       "\\end{tabular}\n"
      ],
      "text/markdown": [
       "\n",
       "A matrix: 4 × 3 of type dbl\n",
       "\n",
       "| con |  1 |  0 |  0 |\n",
       "| con-incon |  0 |  1 |  0 |\n",
       "| incon-con |  0 |  0 |  1 |\n",
       "| incon | -1 | -1 | -1 |\n",
       "\n"
      ],
      "text/plain": [
       "          [,1] [,2] [,3]\n",
       "con        1    0    0  \n",
       "con-incon  0    1    0  \n",
       "incon-con  0    0    1  \n",
       "incon     -1   -1   -1  "
      ]
     },
     "metadata": {},
     "output_type": "display_data"
    },
    {
     "data": {
      "text/html": [
       "<table class=\"dataframe\">\n",
       "<caption>A data.frame: 4 × 2</caption>\n",
       "<thead>\n",
       "\t<tr><th></th><th scope=col>congruentpt</th><th scope=col>congruentpt.f</th></tr>\n",
       "\t<tr><th></th><th scope=col>&lt;int&gt;</th><th scope=col>&lt;fct&gt;</th></tr>\n",
       "</thead>\n",
       "<tbody>\n",
       "\t<tr><th scope=row>1</th><td>0</td><td>incon    </td></tr>\n",
       "\t<tr><th scope=row>163</th><td>3</td><td>con      </td></tr>\n",
       "\t<tr><th scope=row>394</th><td>2</td><td>con-incon</td></tr>\n",
       "\t<tr><th scope=row>3489</th><td>1</td><td>incon-con</td></tr>\n",
       "</tbody>\n",
       "</table>\n"
      ],
      "text/latex": [
       "A data.frame: 4 × 2\n",
       "\\begin{tabular}{r|ll}\n",
       "  & congruentpt & congruentpt.f\\\\\n",
       "  & <int> & <fct>\\\\\n",
       "\\hline\n",
       "\t1 & 0 & incon    \\\\\n",
       "\t163 & 3 & con      \\\\\n",
       "\t394 & 2 & con-incon\\\\\n",
       "\t3489 & 1 & incon-con\\\\\n",
       "\\end{tabular}\n"
      ],
      "text/markdown": [
       "\n",
       "A data.frame: 4 × 2\n",
       "\n",
       "| <!--/--> | congruentpt &lt;int&gt; | congruentpt.f &lt;fct&gt; |\n",
       "|---|---|---|\n",
       "| 1 | 0 | incon     |\n",
       "| 163 | 3 | con       |\n",
       "| 394 | 2 | con-incon |\n",
       "| 3489 | 1 | incon-con |\n",
       "\n"
      ],
      "text/plain": [
       "     congruentpt congruentpt.f\n",
       "1    0           incon        \n",
       "163  3           con          \n",
       "394  2           con-incon    \n",
       "3489 1           incon-con    "
      ]
     },
     "metadata": {},
     "output_type": "display_data"
    },
    {
     "data": {
      "text/html": [
       "<table class=\"dataframe\">\n",
       "<caption>A matrix: 2 × 1 of type dbl</caption>\n",
       "<tbody>\n",
       "\t<tr><th scope=row>incongruent</th><td> 1</td></tr>\n",
       "\t<tr><th scope=row>congruent</th><td>-1</td></tr>\n",
       "</tbody>\n",
       "</table>\n"
      ],
      "text/latex": [
       "A matrix: 2 × 1 of type dbl\n",
       "\\begin{tabular}{r|l}\n",
       "\tincongruent &  1\\\\\n",
       "\tcongruent & -1\\\\\n",
       "\\end{tabular}\n"
      ],
      "text/markdown": [
       "\n",
       "A matrix: 2 × 1 of type dbl\n",
       "\n",
       "| incongruent |  1 |\n",
       "| congruent | -1 |\n",
       "\n"
      ],
      "text/plain": [
       "            [,1]\n",
       "incongruent  1  \n",
       "congruent   -1  "
      ]
     },
     "metadata": {},
     "output_type": "display_data"
    },
    {
     "data": {
      "text/html": [
       "<table class=\"dataframe\">\n",
       "<caption>A data.frame: 2 × 2</caption>\n",
       "<thead>\n",
       "\t<tr><th></th><th scope=col>congruent</th><th scope=col>congruent.f</th></tr>\n",
       "\t<tr><th></th><th scope=col>&lt;int&gt;</th><th scope=col>&lt;fct&gt;</th></tr>\n",
       "</thead>\n",
       "<tbody>\n",
       "\t<tr><th scope=row>1</th><td>1</td><td>congruent  </td></tr>\n",
       "\t<tr><th scope=row>942</th><td>0</td><td>incongruent</td></tr>\n",
       "</tbody>\n",
       "</table>\n"
      ],
      "text/latex": [
       "A data.frame: 2 × 2\n",
       "\\begin{tabular}{r|ll}\n",
       "  & congruent & congruent.f\\\\\n",
       "  & <int> & <fct>\\\\\n",
       "\\hline\n",
       "\t1 & 1 & congruent  \\\\\n",
       "\t942 & 0 & incongruent\\\\\n",
       "\\end{tabular}\n"
      ],
      "text/markdown": [
       "\n",
       "A data.frame: 2 × 2\n",
       "\n",
       "| <!--/--> | congruent &lt;int&gt; | congruent.f &lt;fct&gt; |\n",
       "|---|---|---|\n",
       "| 1 | 1 | congruent   |\n",
       "| 942 | 0 | incongruent |\n",
       "\n"
      ],
      "text/plain": [
       "    congruent congruent.f\n",
       "1   1         congruent  \n",
       "942 0         incongruent"
      ]
     },
     "metadata": {},
     "output_type": "display_data"
    },
    {
     "data": {
      "text/html": [
       "<table class=\"dataframe\">\n",
       "<caption>A matrix: 2 × 1 of type dbl</caption>\n",
       "<thead>\n",
       "\t<tr><th></th><th scope=col>1</th></tr>\n",
       "</thead>\n",
       "<tbody>\n",
       "\t<tr><th scope=row>high</th><td> 0.5</td></tr>\n",
       "\t<tr><th scope=row>low</th><td>-0.5</td></tr>\n",
       "</tbody>\n",
       "</table>\n"
      ],
      "text/latex": [
       "A matrix: 2 × 1 of type dbl\n",
       "\\begin{tabular}{r|l}\n",
       "  & 1\\\\\n",
       "\\hline\n",
       "\thigh &  0.5\\\\\n",
       "\tlow & -0.5\\\\\n",
       "\\end{tabular}\n"
      ],
      "text/markdown": [
       "\n",
       "A matrix: 2 × 1 of type dbl\n",
       "\n",
       "| <!--/--> | 1 |\n",
       "|---|---|\n",
       "| high |  0.5 |\n",
       "| low | -0.5 |\n",
       "\n"
      ],
      "text/plain": [
       "     1   \n",
       "high  0.5\n",
       "low  -0.5"
      ]
     },
     "metadata": {},
     "output_type": "display_data"
    },
    {
     "data": {
      "text/html": [
       "<table class=\"dataframe\">\n",
       "<caption>A matrix: 2 × 1 of type dbl</caption>\n",
       "<tbody>\n",
       "\t<tr><th scope=row>high</th><td> 1</td></tr>\n",
       "\t<tr><th scope=row>low</th><td>-1</td></tr>\n",
       "</tbody>\n",
       "</table>\n"
      ],
      "text/latex": [
       "A matrix: 2 × 1 of type dbl\n",
       "\\begin{tabular}{r|l}\n",
       "\thigh &  1\\\\\n",
       "\tlow & -1\\\\\n",
       "\\end{tabular}\n"
      ],
      "text/markdown": [
       "\n",
       "A matrix: 2 × 1 of type dbl\n",
       "\n",
       "| high |  1 |\n",
       "| low | -1 |\n",
       "\n"
      ],
      "text/plain": [
       "     [,1]\n",
       "high  1  \n",
       "low  -1  "
      ]
     },
     "metadata": {},
     "output_type": "display_data"
    }
   ],
   "source": [
    "#cleanup\n",
    "bl_df$GroupCount <- NULL\n",
    "\n",
    "#set up variables/factors\n",
    "my_simple2<-contr.treatment(2,base=2) - matrix(rep(1/2,2))\n",
    "\n",
    "pd_df$congruentpt.f <- factor(pd_df$congruentpt,levels=c(3,2,1,0),\n",
    "                            labels=c(\"con\",\"con-incon\",\"incon-con\",\"incon\"))\n",
    "contrasts(pd_df$congruentpt.f) <- contr.sum(4)\n",
    "contrasts(pd_df$congruentpt.f)\n",
    "unique(pd_df[,c('congruentpt','congruentpt.f')])\n",
    "\n",
    "pd_df$congruent.f <- factor(pd_df$congruent,levels=c(0,1),\n",
    "                            labels=c(\"incongruent\",\"congruent\"))\n",
    "contrasts(pd_df$congruent.f) <- contr.sum(2)\n",
    "contrasts(pd_df$congruent.f)\n",
    "unique(pd_df[,c('congruent','congruent.f')])\n",
    "\n",
    "pd_df$isH.fs <- factor(pd_df$isH,levels=c(1,0),\n",
    "                      labels=c(\"high\",\"low\"))\n",
    "contrasts(pd_df$isH.fs) <- my_simple2\n",
    "contrasts(pd_df$isH.fs)\n",
    "pd_df$isH.f <- pd_df$isH.fs\n",
    "contrasts(pd_df$isH.f) <- contr.sum(2)\n",
    "contrasts(pd_df$isH.f)\n",
    "\n",
    "#merge in baseline data\n",
    "pd_df <- left_join(pd_df,bl_df[,c('dataID','prior','trialN','pupilBL2')],\n",
    "                   by=c('dataID','prior','trialN'))\n",
    "\n",
    "#get rid of missing before scaling vars (probably already done w/ new preproc)\n",
    "pd_df <- pd_df[complete.cases(pd_df),]\n",
    "\n",
    "#get a handle on descriptives to inform scaling\n",
    "scalevars_stats <- summarise(pd_df,\n",
    "                             m_bl=mean(pupilBL2,na.rm=T),\n",
    "                             sd_bl=sd(pupilBL2,na.rm=T),\n",
    "                             m_x=mean(posXCbl,na.rm=T),\n",
    "                             sd_x=sd(posXCbl,na.rm=T),\n",
    "                             m_y=mean(posYCbl,na.rm=T),\n",
    "                             sd_y=sd(posYCbl,na.rm=T),\n",
    "                             m_asnr=mean(aSNR,na.rm=T),\n",
    "                             sd_asnr=sd(aSNR,na.rm=T),\n",
    ")\n",
    "\n",
    "#set up variables: centering/scaling\n",
    "pd_df$zaSNR <- scale(pd_df$aSNR)\n",
    "pd_df$blz <- scale(pd_df$pupilBL2,center=T,scale=F) #not scaling since already scaled\n",
    "pd_df$posX <- scale(pd_df$posXCbl)\n",
    "pd_df$posY <- scale(pd_df$posYCbl)\n",
    "pd_df$zptlen <- scale(pd_df$pretoneLength)"
   ]
  },
  {
   "cell_type": "markdown",
   "metadata": {},
   "source": [
    "# Correct trials, precue window"
   ]
  },
  {
   "cell_type": "code",
   "execution_count": 3,
   "metadata": {},
   "outputs": [
    {
     "name": "stderr",
     "output_type": "stream",
     "text": [
      "`summarise()` has grouped output by 'dataID', 'trialN', 'prior', 'zaSNR', 'congruent.f', 'congruentpt.f', 'isH.f'. You can override using the `.groups` argument.\n",
      "\n"
     ]
    },
    {
     "data": {
      "text/html": [
       "<table class=\"dataframe\">\n",
       "<caption>A grouped_df: 4 × 4</caption>\n",
       "<thead>\n",
       "\t<tr><th scope=col>congruentpt.f</th><th scope=col>congruentpt.f1</th><th scope=col>congruentpt.f2</th><th scope=col>congruentpt.f3</th></tr>\n",
       "\t<tr><th scope=col>&lt;fct&gt;</th><th scope=col>&lt;dbl&gt;</th><th scope=col>&lt;dbl&gt;</th><th scope=col>&lt;dbl&gt;</th></tr>\n",
       "</thead>\n",
       "<tbody>\n",
       "\t<tr><td>incon    </td><td>-1</td><td>-1</td><td>-1</td></tr>\n",
       "\t<tr><td>con      </td><td> 1</td><td> 0</td><td> 0</td></tr>\n",
       "\t<tr><td>con-incon</td><td> 0</td><td> 1</td><td> 0</td></tr>\n",
       "\t<tr><td>incon-con</td><td> 0</td><td> 0</td><td> 1</td></tr>\n",
       "</tbody>\n",
       "</table>\n"
      ],
      "text/latex": [
       "A grouped\\_df: 4 × 4\n",
       "\\begin{tabular}{llll}\n",
       " congruentpt.f & congruentpt.f1 & congruentpt.f2 & congruentpt.f3\\\\\n",
       " <fct> & <dbl> & <dbl> & <dbl>\\\\\n",
       "\\hline\n",
       "\t incon     & -1 & -1 & -1\\\\\n",
       "\t con       &  1 &  0 &  0\\\\\n",
       "\t con-incon &  0 &  1 &  0\\\\\n",
       "\t incon-con &  0 &  0 &  1\\\\\n",
       "\\end{tabular}\n"
      ],
      "text/markdown": [
       "\n",
       "A grouped_df: 4 × 4\n",
       "\n",
       "| congruentpt.f &lt;fct&gt; | congruentpt.f1 &lt;dbl&gt; | congruentpt.f2 &lt;dbl&gt; | congruentpt.f3 &lt;dbl&gt; |\n",
       "|---|---|---|---|\n",
       "| incon     | -1 | -1 | -1 |\n",
       "| con       |  1 |  0 |  0 |\n",
       "| con-incon |  0 |  1 |  0 |\n",
       "| incon-con |  0 |  0 |  1 |\n",
       "\n"
      ],
      "text/plain": [
       "  congruentpt.f congruentpt.f1 congruentpt.f2 congruentpt.f3\n",
       "1 incon         -1             -1             -1            \n",
       "2 con            1              0              0            \n",
       "3 con-incon      0              1              0            \n",
       "4 incon-con      0              0              1            "
      ]
     },
     "metadata": {},
     "output_type": "display_data"
    },
    {
     "data": {
      "text/html": [
       "<table class=\"dataframe\">\n",
       "<caption>A grouped_df: 2 × 2</caption>\n",
       "<thead>\n",
       "\t<tr><th scope=col>isH.f</th><th scope=col>isH.f1</th></tr>\n",
       "\t<tr><th scope=col>&lt;fct&gt;</th><th scope=col>&lt;dbl&gt;</th></tr>\n",
       "</thead>\n",
       "<tbody>\n",
       "\t<tr><td>low </td><td>-1</td></tr>\n",
       "\t<tr><td>high</td><td> 1</td></tr>\n",
       "</tbody>\n",
       "</table>\n"
      ],
      "text/latex": [
       "A grouped\\_df: 2 × 2\n",
       "\\begin{tabular}{ll}\n",
       " isH.f & isH.f1\\\\\n",
       " <fct> & <dbl>\\\\\n",
       "\\hline\n",
       "\t low  & -1\\\\\n",
       "\t high &  1\\\\\n",
       "\\end{tabular}\n"
      ],
      "text/markdown": [
       "\n",
       "A grouped_df: 2 × 2\n",
       "\n",
       "| isH.f &lt;fct&gt; | isH.f1 &lt;dbl&gt; |\n",
       "|---|---|\n",
       "| low  | -1 |\n",
       "| high |  1 |\n",
       "\n"
      ],
      "text/plain": [
       "  isH.f isH.f1\n",
       "1 low   -1    \n",
       "2 high   1    "
      ]
     },
     "metadata": {},
     "output_type": "display_data"
    },
    {
     "data": {
      "text/html": [
       "<table class=\"dataframe\">\n",
       "<caption>A grouped_df: 2 × 2</caption>\n",
       "<thead>\n",
       "\t<tr><th scope=col>congruent.f</th><th scope=col>congruent.f1</th></tr>\n",
       "\t<tr><th scope=col>&lt;fct&gt;</th><th scope=col>&lt;dbl&gt;</th></tr>\n",
       "</thead>\n",
       "<tbody>\n",
       "\t<tr><td>congruent  </td><td>-1</td></tr>\n",
       "\t<tr><td>incongruent</td><td> 1</td></tr>\n",
       "</tbody>\n",
       "</table>\n"
      ],
      "text/latex": [
       "A grouped\\_df: 2 × 2\n",
       "\\begin{tabular}{ll}\n",
       " congruent.f & congruent.f1\\\\\n",
       " <fct> & <dbl>\\\\\n",
       "\\hline\n",
       "\t congruent   & -1\\\\\n",
       "\t incongruent &  1\\\\\n",
       "\\end{tabular}\n"
      ],
      "text/markdown": [
       "\n",
       "A grouped_df: 2 × 2\n",
       "\n",
       "| congruent.f &lt;fct&gt; | congruent.f1 &lt;dbl&gt; |\n",
       "|---|---|\n",
       "| congruent   | -1 |\n",
       "| incongruent |  1 |\n",
       "\n"
      ],
      "text/plain": [
       "  congruent.f congruent.f1\n",
       "1 congruent   -1          \n",
       "2 incongruent  1          "
      ]
     },
     "metadata": {},
     "output_type": "display_data"
    }
   ],
   "source": [
    "### CORRECT TRIALS, precue window ####\n",
    "pd_choicedf.cpc <- subset(pd_df,success==1 & \n",
    "                            trial_time_choice >= choice_period_ms.prior[1] & \n",
    "                            trial_time_choice <= choice_period_ms.prior[2])\n",
    "\n",
    "pd_choicedf.cpc.ave <- summarise(group_by(pd_choicedf.cpc,\n",
    "                                          dataID,trialN,prior,\n",
    "                                          zaSNR,congruent.f,congruentpt.f,isH.f,zptlen),\n",
    "                                 pupilCblz2=mean(pupilCblz2),\n",
    "                                 blz=mean(blz),#blz could be a grouping factor but this is fine\n",
    "                                 posX=mean(posX),\n",
    "                                 posY=mean(posY))\n",
    "\n",
    "#set up vars for zero corr\n",
    "pd_choicedf.cpc.ave[,c('congruentpt.f1','congruentpt.f2','congruentpt.f3')] <- \n",
    "  model.matrix(~1+pd_choicedf.cpc.ave$congruentpt.f,pd_choicedf.cpc.ave)[,2:4]\n",
    "pd_choicedf.cpc.ave$isH.f1 <- \n",
    "  model.matrix(~1+pd_choicedf.cpc.ave$isH.f,pd_choicedf.cpc.ave)[,2]\n",
    "pd_choicedf.cpc.ave$congruent.f1 <- \n",
    "  model.matrix(~1+pd_choicedf.cpc.ave$congruent.f,pd_choicedf.cpc.ave)[,2]\n",
    "unique(pd_choicedf.cpc.ave[,c(\"congruentpt.f\",\"congruentpt.f1\",\"congruentpt.f2\",\"congruentpt.f3\")])\n",
    "unique(pd_choicedf.cpc.ave[,c(\"isH.f\",\"isH.f1\")])\n",
    "unique(pd_choicedf.cpc.ave[,c(\"congruent.f\",\"congruent.f1\")])"
   ]
  },
  {
   "cell_type": "code",
   "execution_count": null,
   "metadata": {},
   "outputs": [],
   "source": [
    "#these have boundary issues, so iteratively reducing\n",
    "\n",
    "choice.lm.zc.cpc <- lmer(pupilCblz2~\n",
    "                           congruent.f + congruentpt.f + zaSNR +\n",
    "                           isH.f + blz + posX + posY + zptlen + \n",
    "                           (1 + congruent.f1 + congruentpt.f1 + congruentpt.f2 + congruentpt.f3 + \n",
    "                              zaSNR + isH.f1 + blz + posX+ posY + zptlen||dataID),\n",
    "                         data=pd_choicedf.cpc.ave,\n",
    "                         control=lmerControl(optimizer=\"bobyqa\",\n",
    "                                             optCtrl=list(maxfun=2e5)))\n",
    "\n",
    "VarCorr(choice.lm.zc.cpc)"
   ]
  },
  {
   "cell_type": "code",
   "execution_count": 7,
   "metadata": {},
   "outputs": [
    {
     "name": "stderr",
     "output_type": "stream",
     "text": [
      "boundary (singular) fit: see ?isSingular\n",
      "\n"
     ]
    },
    {
     "data": {
      "text/plain": [
       " Groups    Name           Std.Dev. \n",
       " dataID    (Intercept)    0.1695496\n",
       " dataID.1  congruent.f1   0.0346219\n",
       " dataID.2  congruentpt.f1 0.0000000\n",
       " dataID.3  congruentpt.f2 0.0085887\n",
       " dataID.4  congruentpt.f3 0.0000000\n",
       " dataID.5  zaSNR          0.0241081\n",
       " dataID.6  isH.f1         0.0523479\n",
       " dataID.7  blz            0.1516978\n",
       " dataID.8  posX           0.0657938\n",
       " dataID.9  posY           0.0993972\n",
       " dataID.10 zptlen         0.0420262\n",
       " Residual                 0.3240524"
      ]
     },
     "metadata": {},
     "output_type": "display_data"
    },
    {
     "name": "stderr",
     "output_type": "stream",
     "text": [
      "boundary (singular) fit: see ?isSingular\n",
      "\n"
     ]
    }
   ],
   "source": [
    "choice.lm.cpc.2 <- lmer(pupilCblz2~\n",
    "                           congruent.f + congruentpt.f + zaSNR +\n",
    "                           isH.f + blz + posX + posY + zptlen + \n",
    "                           (1 + congruent.f1 + congruentpt.f2 + \n",
    "                              zaSNR + isH.f1 + blz + posX + posY + zptlen|dataID),\n",
    "                         data=pd_choicedf.cpc.ave,\n",
    "                         control=lmerControl(optimizer=\"bobyqa\",\n",
    "                                             optCtrl=list(maxfun=2e5)))"
   ]
  },
  {
   "cell_type": "code",
   "execution_count": 4,
   "metadata": {},
   "outputs": [],
   "source": [
    "#FINAL\n",
    "#FINAL MODEL\n",
    "#drop congruentpt.f1/f3\n",
    "choice.lm.zc.cpc.2 <- lmer(pupilCblz2~\n",
    "                           congruent.f + congruentpt.f + zaSNR +\n",
    "                           isH.f + blz + posX + posY + zptlen + \n",
    "                           (1 + congruent.f1 + congruentpt.f2 + \n",
    "                              zaSNR + isH.f1 + blz + posX + posY + zptlen||dataID),\n",
    "                         data=pd_choicedf.cpc.ave,\n",
    "                         control=lmerControl(optimizer=\"bobyqa\",\n",
    "                                             optCtrl=list(maxfun=2e5)))"
   ]
  },
  {
   "cell_type": "code",
   "execution_count": 5,
   "metadata": {},
   "outputs": [
    {
     "data": {
      "text/plain": [
       "Linear mixed model fit by REML. t-tests use Satterthwaite's method [\n",
       "lmerModLmerTest]\n",
       "Formula: pupilCblz2 ~ congruent.f + congruentpt.f + zaSNR + isH.f + blz +  \n",
       "    posX + posY + zptlen + (1 + congruent.f1 + congruentpt.f2 +  \n",
       "    zaSNR + isH.f1 + blz + posX + posY + zptlen || dataID)\n",
       "   Data: pd_choicedf.cpc.ave\n",
       "Control: lmerControl(optimizer = \"bobyqa\", optCtrl = list(maxfun = 2e+05))\n",
       "\n",
       "REML criterion at convergence: 8512.2\n",
       "\n",
       "Scaled residuals: \n",
       "     Min       1Q   Median       3Q      Max \n",
       "-12.3224  -0.6140  -0.0542   0.5702   9.7709 \n",
       "\n",
       "Random effects:\n",
       " Groups   Name           Variance  Std.Dev.\n",
       " dataID   (Intercept)    2.875e-02 0.169550\n",
       " dataID.1 congruent.f1   1.199e-03 0.034622\n",
       " dataID.2 congruentpt.f2 7.377e-05 0.008589\n",
       " dataID.3 zaSNR          5.812e-04 0.024108\n",
       " dataID.4 isH.f1         2.740e-03 0.052348\n",
       " dataID.5 blz            2.301e-02 0.151698\n",
       " dataID.6 posX           4.329e-03 0.065794\n",
       " dataID.7 posY           9.880e-03 0.099397\n",
       " dataID.8 zptlen         1.766e-03 0.042026\n",
       " Residual                1.050e-01 0.324052\n",
       "Number of obs: 13315, groups:  dataID, 33\n",
       "\n",
       "Fixed effects:\n",
       "                 Estimate Std. Error         df t value Pr(>|t|)    \n",
       "(Intercept)     5.665e-01  3.026e-02  3.171e+01  18.723  < 2e-16 ***\n",
       "congruent.f1    7.014e-02  8.238e-03  2.960e+01   8.514 1.88e-09 ***\n",
       "congruentpt.f1 -2.329e-02  4.549e-03  1.312e+04  -5.120 3.10e-07 ***\n",
       "congruentpt.f2  8.872e-03  6.447e-03  1.169e+02   1.376 0.171403    \n",
       "congruentpt.f3  2.365e-02  6.378e-03  1.310e+04   3.709 0.000209 ***\n",
       "zaSNR          -2.409e-02  5.205e-03  3.081e+01  -4.629 6.28e-05 ***\n",
       "isH.f1         -6.180e-03  9.743e-03  3.197e+01  -0.634 0.530423    \n",
       "blz            -3.866e-01  2.716e-02  3.186e+01 -14.234 2.33e-15 ***\n",
       "posX           -6.263e-02  1.201e-02  3.185e+01  -5.213 1.08e-05 ***\n",
       "posY           -6.844e-02  1.766e-02  3.207e+01  -3.875 0.000496 ***\n",
       "zptlen         -1.184e-01  8.341e-03  3.037e+01 -14.196 6.01e-15 ***\n",
       "---\n",
       "Signif. codes:  0 ‘***’ 0.001 ‘**’ 0.01 ‘*’ 0.05 ‘.’ 0.1 ‘ ’ 1\n",
       "\n",
       "Correlation of Fixed Effects:\n",
       "            (Intr) cngrnt.f1 cngrntp.1 cngr.2 cngr.3 zaSNR  isH.f1 blz   \n",
       "congrunt.f1  0.102                                                       \n",
       "cngrntpt.f1 -0.042 -0.029                                                \n",
       "cngrntpt.f2  0.024  0.009    -0.320                                      \n",
       "cngrntpt.f3  0.030  0.017    -0.358    -0.473                            \n",
       "zaSNR       -0.012 -0.044     0.017     0.011 -0.004                     \n",
       "isH.f1       0.001 -0.002    -0.001     0.003 -0.003 -0.003              \n",
       "blz         -0.001  0.000     0.000     0.000  0.000  0.000  0.001       \n",
       "posX         0.004  0.000    -0.007     0.004  0.002  0.000 -0.004  0.013\n",
       "posY         0.008  0.001     0.000    -0.003  0.001 -0.002  0.001  0.009\n",
       "zptlen       0.018 -0.001    -0.003     0.006 -0.001  0.000  0.000 -0.043\n",
       "            posX   posY  \n",
       "congrunt.f1              \n",
       "cngrntpt.f1              \n",
       "cngrntpt.f2              \n",
       "cngrntpt.f3              \n",
       "zaSNR                    \n",
       "isH.f1                   \n",
       "blz                      \n",
       "posX                     \n",
       "posY         0.000       \n",
       "zptlen      -0.010 -0.003"
      ]
     },
     "metadata": {},
     "output_type": "display_data"
    },
    {
     "data": {
      "text/html": [
       "<table class=\"dataframe\">\n",
       "<caption>A anova: 8 × 6</caption>\n",
       "<thead>\n",
       "\t<tr><th></th><th scope=col>Sum Sq</th><th scope=col>Mean Sq</th><th scope=col>NumDF</th><th scope=col>DenDF</th><th scope=col>F value</th><th scope=col>Pr(&gt;F)</th></tr>\n",
       "\t<tr><th></th><th scope=col>&lt;dbl&gt;</th><th scope=col>&lt;dbl&gt;</th><th scope=col>&lt;int&gt;</th><th scope=col>&lt;dbl&gt;</th><th scope=col>&lt;dbl&gt;</th><th scope=col>&lt;dbl&gt;</th></tr>\n",
       "</thead>\n",
       "<tbody>\n",
       "\t<tr><th scope=row>congruent.f</th><td> 7.61261624</td><td> 7.61261624</td><td>1</td><td> 29.60299</td><td> 72.494254</td><td>1.875270e-09</td></tr>\n",
       "\t<tr><th scope=row>congruentpt.f</th><td> 3.38635008</td><td> 1.12878336</td><td>3</td><td>172.24627</td><td> 10.749302</td><td>1.639486e-06</td></tr>\n",
       "\t<tr><th scope=row>zaSNR</th><td> 2.25020168</td><td> 2.25020168</td><td>1</td><td> 30.81402</td><td> 21.428466</td><td>6.276590e-05</td></tr>\n",
       "\t<tr><th scope=row>isH.f</th><td> 0.04224423</td><td> 0.04224423</td><td>1</td><td> 31.96777</td><td>  0.402288</td><td>5.304230e-01</td></tr>\n",
       "\t<tr><th scope=row>blz</th><td>21.27462008</td><td>21.27462008</td><td>1</td><td> 31.86263</td><td>202.596276</td><td>2.331247e-15</td></tr>\n",
       "\t<tr><th scope=row>posX</th><td> 2.85335177</td><td> 2.85335177</td><td>1</td><td> 31.85022</td><td> 27.172210</td><td>1.084012e-05</td></tr>\n",
       "\t<tr><th scope=row>posY</th><td> 1.57662088</td><td> 1.57662088</td><td>1</td><td> 32.06818</td><td> 15.014018</td><td>4.959583e-04</td></tr>\n",
       "\t<tr><th scope=row>zptlen</th><td>21.16191458</td><td>21.16191458</td><td>1</td><td> 30.37305</td><td>201.522992</td><td>6.009891e-15</td></tr>\n",
       "</tbody>\n",
       "</table>\n"
      ],
      "text/latex": [
       "A anova: 8 × 6\n",
       "\\begin{tabular}{r|llllll}\n",
       "  & Sum Sq & Mean Sq & NumDF & DenDF & F value & Pr(>F)\\\\\n",
       "  & <dbl> & <dbl> & <int> & <dbl> & <dbl> & <dbl>\\\\\n",
       "\\hline\n",
       "\tcongruent.f &  7.61261624 &  7.61261624 & 1 &  29.60299 &  72.494254 & 1.875270e-09\\\\\n",
       "\tcongruentpt.f &  3.38635008 &  1.12878336 & 3 & 172.24627 &  10.749302 & 1.639486e-06\\\\\n",
       "\tzaSNR &  2.25020168 &  2.25020168 & 1 &  30.81402 &  21.428466 & 6.276590e-05\\\\\n",
       "\tisH.f &  0.04224423 &  0.04224423 & 1 &  31.96777 &   0.402288 & 5.304230e-01\\\\\n",
       "\tblz & 21.27462008 & 21.27462008 & 1 &  31.86263 & 202.596276 & 2.331247e-15\\\\\n",
       "\tposX &  2.85335177 &  2.85335177 & 1 &  31.85022 &  27.172210 & 1.084012e-05\\\\\n",
       "\tposY &  1.57662088 &  1.57662088 & 1 &  32.06818 &  15.014018 & 4.959583e-04\\\\\n",
       "\tzptlen & 21.16191458 & 21.16191458 & 1 &  30.37305 & 201.522992 & 6.009891e-15\\\\\n",
       "\\end{tabular}\n"
      ],
      "text/markdown": [
       "\n",
       "A anova: 8 × 6\n",
       "\n",
       "| <!--/--> | Sum Sq &lt;dbl&gt; | Mean Sq &lt;dbl&gt; | NumDF &lt;int&gt; | DenDF &lt;dbl&gt; | F value &lt;dbl&gt; | Pr(&gt;F) &lt;dbl&gt; |\n",
       "|---|---|---|---|---|---|---|\n",
       "| congruent.f |  7.61261624 |  7.61261624 | 1 |  29.60299 |  72.494254 | 1.875270e-09 |\n",
       "| congruentpt.f |  3.38635008 |  1.12878336 | 3 | 172.24627 |  10.749302 | 1.639486e-06 |\n",
       "| zaSNR |  2.25020168 |  2.25020168 | 1 |  30.81402 |  21.428466 | 6.276590e-05 |\n",
       "| isH.f |  0.04224423 |  0.04224423 | 1 |  31.96777 |   0.402288 | 5.304230e-01 |\n",
       "| blz | 21.27462008 | 21.27462008 | 1 |  31.86263 | 202.596276 | 2.331247e-15 |\n",
       "| posX |  2.85335177 |  2.85335177 | 1 |  31.85022 |  27.172210 | 1.084012e-05 |\n",
       "| posY |  1.57662088 |  1.57662088 | 1 |  32.06818 |  15.014018 | 4.959583e-04 |\n",
       "| zptlen | 21.16191458 | 21.16191458 | 1 |  30.37305 | 201.522992 | 6.009891e-15 |\n",
       "\n"
      ],
      "text/plain": [
       "              Sum Sq      Mean Sq     NumDF DenDF     F value    Pr(>F)      \n",
       "congruent.f    7.61261624  7.61261624 1      29.60299  72.494254 1.875270e-09\n",
       "congruentpt.f  3.38635008  1.12878336 3     172.24627  10.749302 1.639486e-06\n",
       "zaSNR          2.25020168  2.25020168 1      30.81402  21.428466 6.276590e-05\n",
       "isH.f          0.04224423  0.04224423 1      31.96777   0.402288 5.304230e-01\n",
       "blz           21.27462008 21.27462008 1      31.86263 202.596276 2.331247e-15\n",
       "posX           2.85335177  2.85335177 1      31.85022  27.172210 1.084012e-05\n",
       "posY           1.57662088  1.57662088 1      32.06818  15.014018 4.959583e-04\n",
       "zptlen        21.16191458 21.16191458 1      30.37305 201.522992 6.009891e-15"
      ]
     },
     "metadata": {},
     "output_type": "display_data"
    },
    {
     "data": {
      "text/plain": [
       " contrast                estimate     SE   df t.ratio p.value\n",
       " incongruent - congruent     0.14 0.0165 29.6   8.514  <.0001\n",
       "\n",
       "Results are averaged over the levels of: congruentpt.f, isH.f \n",
       "Degrees-of-freedom method: satterthwaite "
      ]
     },
     "metadata": {},
     "output_type": "display_data"
    }
   ],
   "source": [
    "#FINAL\n",
    "summary(choice.lm.zc.cpc.2)\n",
    "anova(choice.lm.zc.cpc.2,type=\"II\")\n",
    "\n",
    "pairs(emmeans(choice.lm.zc.cpc.2,~congruent.f))"
   ]
  },
  {
   "cell_type": "code",
   "execution_count": null,
   "metadata": {},
   "outputs": [],
   "source": []
  }
 ],
 "metadata": {
  "kernelspec": {
   "display_name": "R",
   "language": "R",
   "name": "ir"
  },
  "language_info": {
   "codemirror_mode": "r",
   "file_extension": ".r",
   "mimetype": "text/x-r-source",
   "name": "R",
   "pygments_lexer": "r",
   "version": "4.1.0"
  }
 },
 "nbformat": 4,
 "nbformat_minor": 4
}
