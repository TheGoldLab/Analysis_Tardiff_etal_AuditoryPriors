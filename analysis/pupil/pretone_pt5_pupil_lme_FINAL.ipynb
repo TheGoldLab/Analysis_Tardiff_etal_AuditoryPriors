{
 "cells": [
  {
   "cell_type": "markdown",
   "metadata": {},
   "source": [
    "This runs confirmatory analyses in pretone5 data to check for the precue pupil effects for the section \"Rule- and stimulus-based biases exhibited distinct physiological signatures\""
   ]
  },
  {
   "cell_type": "markdown",
   "metadata": {},
   "source": [
    "# Data setup"
   ]
  },
  {
   "cell_type": "code",
   "execution_count": 1,
   "metadata": {},
   "outputs": [
    {
     "name": "stderr",
     "output_type": "stream",
     "text": [
      "Loading required package: Matrix\n",
      "\n",
      "\n",
      "Attaching package: ‘lmerTest’\n",
      "\n",
      "\n",
      "The following object is masked from ‘package:lme4’:\n",
      "\n",
      "    lmer\n",
      "\n",
      "\n",
      "The following object is masked from ‘package:stats’:\n",
      "\n",
      "    step\n",
      "\n",
      "\n",
      "Loading required package: carData\n",
      "\n",
      "\n",
      "Attaching package: ‘dplyr’\n",
      "\n",
      "\n",
      "The following objects are masked from ‘package:plyr’:\n",
      "\n",
      "    arrange, count, desc, failwith, id, mutate, rename, summarise,\n",
      "    summarize\n",
      "\n",
      "\n",
      "The following object is masked from ‘package:car’:\n",
      "\n",
      "    recode\n",
      "\n",
      "\n",
      "The following objects are masked from ‘package:stats’:\n",
      "\n",
      "    filter, lag\n",
      "\n",
      "\n",
      "The following objects are masked from ‘package:base’:\n",
      "\n",
      "    intersect, setdiff, setequal, union\n",
      "\n",
      "\n"
     ]
    },
    {
     "data": {
      "text/html": [
       "<table class=\"dataframe\">\n",
       "<caption>A data.frame: 6 × 15</caption>\n",
       "<thead>\n",
       "\t<tr><th></th><th scope=col>trialN</th><th scope=col>trial_time_choice</th><th scope=col>trial_time_stimOn</th><th scope=col>trial_time_stimOff</th><th scope=col>pupilCblz</th><th scope=col>posXCbl</th><th scope=col>posYCbl</th><th scope=col>dataID</th><th scope=col>pupilCblz2</th><th scope=col>aSNR</th><th scope=col>isH</th><th scope=col>success</th><th scope=col>choice01</th><th scope=col>congruent</th><th scope=col>congruentpt</th></tr>\n",
       "\t<tr><th></th><th scope=col>&lt;int&gt;</th><th scope=col>&lt;int&gt;</th><th scope=col>&lt;int&gt;</th><th scope=col>&lt;int&gt;</th><th scope=col>&lt;dbl&gt;</th><th scope=col>&lt;dbl&gt;</th><th scope=col>&lt;dbl&gt;</th><th scope=col>&lt;int&gt;</th><th scope=col>&lt;dbl&gt;</th><th scope=col>&lt;dbl&gt;</th><th scope=col>&lt;int&gt;</th><th scope=col>&lt;int&gt;</th><th scope=col>&lt;int&gt;</th><th scope=col>&lt;int&gt;</th><th scope=col>&lt;int&gt;</th></tr>\n",
       "</thead>\n",
       "<tbody>\n",
       "\t<tr><th scope=row>1</th><td>1</td><td>-2980</td><td>-260</td><td>-2560</td><td>-0.0002800095</td><td>-2.5232272</td><td>-0.7322874</td><td>1</td><td>-0.4301981</td><td>0.1</td><td>1</td><td>0</td><td>0</td><td>1</td><td>0</td></tr>\n",
       "\t<tr><th scope=row>2</th><td>1</td><td>-2960</td><td>-240</td><td>-2540</td><td>-0.0017496437</td><td>-2.5896936</td><td>-1.0340235</td><td>1</td><td>-0.4316678</td><td>0.1</td><td>1</td><td>0</td><td>0</td><td>1</td><td>0</td></tr>\n",
       "\t<tr><th scope=row>3</th><td>1</td><td>-2940</td><td>-220</td><td>-2520</td><td>-0.0034527749</td><td>-1.6024813</td><td> 2.2097213</td><td>1</td><td>-0.4333709</td><td>0.1</td><td>1</td><td>0</td><td>0</td><td>1</td><td>0</td></tr>\n",
       "\t<tr><th scope=row>4</th><td>1</td><td>-2920</td><td>-200</td><td>-2500</td><td>-0.0046277308</td><td>-2.8182184</td><td> 1.4808445</td><td>1</td><td>-0.4345459</td><td>0.1</td><td>1</td><td>0</td><td>0</td><td>1</td><td>0</td></tr>\n",
       "\t<tr><th scope=row>5</th><td>1</td><td>-2900</td><td>-180</td><td>-2480</td><td>-0.0051197228</td><td>-3.2270232</td><td> 2.7052371</td><td>1</td><td>-0.4350378</td><td>0.1</td><td>1</td><td>0</td><td>0</td><td>1</td><td>0</td></tr>\n",
       "\t<tr><th scope=row>6</th><td>1</td><td>-2880</td><td>-160</td><td>-2460</td><td>-0.0052058297</td><td>-0.4130138</td><td> 4.3876207</td><td>1</td><td>-0.4351240</td><td>0.1</td><td>1</td><td>0</td><td>0</td><td>1</td><td>0</td></tr>\n",
       "</tbody>\n",
       "</table>\n"
      ],
      "text/latex": [
       "A data.frame: 6 × 15\n",
       "\\begin{tabular}{r|lllllllllllllll}\n",
       "  & trialN & trial\\_time\\_choice & trial\\_time\\_stimOn & trial\\_time\\_stimOff & pupilCblz & posXCbl & posYCbl & dataID & pupilCblz2 & aSNR & isH & success & choice01 & congruent & congruentpt\\\\\n",
       "  & <int> & <int> & <int> & <int> & <dbl> & <dbl> & <dbl> & <int> & <dbl> & <dbl> & <int> & <int> & <int> & <int> & <int>\\\\\n",
       "\\hline\n",
       "\t1 & 1 & -2980 & -260 & -2560 & -0.0002800095 & -2.5232272 & -0.7322874 & 1 & -0.4301981 & 0.1 & 1 & 0 & 0 & 1 & 0\\\\\n",
       "\t2 & 1 & -2960 & -240 & -2540 & -0.0017496437 & -2.5896936 & -1.0340235 & 1 & -0.4316678 & 0.1 & 1 & 0 & 0 & 1 & 0\\\\\n",
       "\t3 & 1 & -2940 & -220 & -2520 & -0.0034527749 & -1.6024813 &  2.2097213 & 1 & -0.4333709 & 0.1 & 1 & 0 & 0 & 1 & 0\\\\\n",
       "\t4 & 1 & -2920 & -200 & -2500 & -0.0046277308 & -2.8182184 &  1.4808445 & 1 & -0.4345459 & 0.1 & 1 & 0 & 0 & 1 & 0\\\\\n",
       "\t5 & 1 & -2900 & -180 & -2480 & -0.0051197228 & -3.2270232 &  2.7052371 & 1 & -0.4350378 & 0.1 & 1 & 0 & 0 & 1 & 0\\\\\n",
       "\t6 & 1 & -2880 & -160 & -2460 & -0.0052058297 & -0.4130138 &  4.3876207 & 1 & -0.4351240 & 0.1 & 1 & 0 & 0 & 1 & 0\\\\\n",
       "\\end{tabular}\n"
      ],
      "text/markdown": [
       "\n",
       "A data.frame: 6 × 15\n",
       "\n",
       "| <!--/--> | trialN &lt;int&gt; | trial_time_choice &lt;int&gt; | trial_time_stimOn &lt;int&gt; | trial_time_stimOff &lt;int&gt; | pupilCblz &lt;dbl&gt; | posXCbl &lt;dbl&gt; | posYCbl &lt;dbl&gt; | dataID &lt;int&gt; | pupilCblz2 &lt;dbl&gt; | aSNR &lt;dbl&gt; | isH &lt;int&gt; | success &lt;int&gt; | choice01 &lt;int&gt; | congruent &lt;int&gt; | congruentpt &lt;int&gt; |\n",
       "|---|---|---|---|---|---|---|---|---|---|---|---|---|---|---|---|\n",
       "| 1 | 1 | -2980 | -260 | -2560 | -0.0002800095 | -2.5232272 | -0.7322874 | 1 | -0.4301981 | 0.1 | 1 | 0 | 0 | 1 | 0 |\n",
       "| 2 | 1 | -2960 | -240 | -2540 | -0.0017496437 | -2.5896936 | -1.0340235 | 1 | -0.4316678 | 0.1 | 1 | 0 | 0 | 1 | 0 |\n",
       "| 3 | 1 | -2940 | -220 | -2520 | -0.0034527749 | -1.6024813 |  2.2097213 | 1 | -0.4333709 | 0.1 | 1 | 0 | 0 | 1 | 0 |\n",
       "| 4 | 1 | -2920 | -200 | -2500 | -0.0046277308 | -2.8182184 |  1.4808445 | 1 | -0.4345459 | 0.1 | 1 | 0 | 0 | 1 | 0 |\n",
       "| 5 | 1 | -2900 | -180 | -2480 | -0.0051197228 | -3.2270232 |  2.7052371 | 1 | -0.4350378 | 0.1 | 1 | 0 | 0 | 1 | 0 |\n",
       "| 6 | 1 | -2880 | -160 | -2460 | -0.0052058297 | -0.4130138 |  4.3876207 | 1 | -0.4351240 | 0.1 | 1 | 0 | 0 | 1 | 0 |\n",
       "\n"
      ],
      "text/plain": [
       "  trialN trial_time_choice trial_time_stimOn trial_time_stimOff pupilCblz    \n",
       "1 1      -2980             -260              -2560              -0.0002800095\n",
       "2 1      -2960             -240              -2540              -0.0017496437\n",
       "3 1      -2940             -220              -2520              -0.0034527749\n",
       "4 1      -2920             -200              -2500              -0.0046277308\n",
       "5 1      -2900             -180              -2480              -0.0051197228\n",
       "6 1      -2880             -160              -2460              -0.0052058297\n",
       "  posXCbl    posYCbl    dataID pupilCblz2 aSNR isH success choice01 congruent\n",
       "1 -2.5232272 -0.7322874 1      -0.4301981 0.1  1   0       0        1        \n",
       "2 -2.5896936 -1.0340235 1      -0.4316678 0.1  1   0       0        1        \n",
       "3 -1.6024813  2.2097213 1      -0.4333709 0.1  1   0       0        1        \n",
       "4 -2.8182184  1.4808445 1      -0.4345459 0.1  1   0       0        1        \n",
       "5 -3.2270232  2.7052371 1      -0.4350378 0.1  1   0       0        1        \n",
       "6 -0.4130138  4.3876207 1      -0.4351240 0.1  1   0       0        1        \n",
       "  congruentpt\n",
       "1 0          \n",
       "2 0          \n",
       "3 0          \n",
       "4 0          \n",
       "5 0          \n",
       "6 0          "
      ]
     },
     "metadata": {},
     "output_type": "display_data"
    },
    {
     "data": {
      "text/html": [
       "<table class=\"dataframe\">\n",
       "<caption>A data.frame: 6 × 15</caption>\n",
       "<thead>\n",
       "\t<tr><th></th><th scope=col>trialN</th><th scope=col>GroupCount</th><th scope=col>pupilBL</th><th scope=col>posXBL</th><th scope=col>posYBL</th><th scope=col>dataID</th><th scope=col>pupilBL2</th><th scope=col>aSNR</th><th scope=col>isH</th><th scope=col>success</th><th scope=col>choice01</th><th scope=col>pretoneBias</th><th scope=col>ptC</th><th scope=col>congruent</th><th scope=col>congruentpt</th></tr>\n",
       "\t<tr><th></th><th scope=col>&lt;int&gt;</th><th scope=col>&lt;int&gt;</th><th scope=col>&lt;dbl&gt;</th><th scope=col>&lt;dbl&gt;</th><th scope=col>&lt;dbl&gt;</th><th scope=col>&lt;int&gt;</th><th scope=col>&lt;dbl&gt;</th><th scope=col>&lt;dbl&gt;</th><th scope=col>&lt;int&gt;</th><th scope=col>&lt;int&gt;</th><th scope=col>&lt;int&gt;</th><th scope=col>&lt;dbl&gt;</th><th scope=col>&lt;chr&gt;</th><th scope=col>&lt;int&gt;</th><th scope=col>&lt;int&gt;</th></tr>\n",
       "</thead>\n",
       "<tbody>\n",
       "\t<tr><th scope=row>1</th><td>1</td><td>41</td><td>0.8024736</td><td>1191.465</td><td>682.6390</td><td>1</td><td>0.429918124</td><td>0.10</td><td>1</td><td>0</td><td>0</td><td> 1.0</td><td>HH</td><td>1</td><td>0</td></tr>\n",
       "\t<tr><th scope=row>2</th><td>2</td><td>41</td><td>1.0121036</td><td>1206.727</td><td>643.3890</td><td>1</td><td>0.535460081</td><td>0.10</td><td>0</td><td>0</td><td>1</td><td> 0.2</td><td>HH</td><td>0</td><td>3</td></tr>\n",
       "\t<tr><th scope=row>3</th><td>3</td><td>41</td><td>1.3614252</td><td>1184.631</td><td>615.0854</td><td>1</td><td>0.247339588</td><td>0.05</td><td>0</td><td>1</td><td>0</td><td>-1.0</td><td>LL</td><td>1</td><td>3</td></tr>\n",
       "\t<tr><th scope=row>4</th><td>4</td><td>41</td><td>1.5249293</td><td>1190.676</td><td>638.3281</td><td>1</td><td>0.166733954</td><td>0.50</td><td>0</td><td>1</td><td>0</td><td>-1.0</td><td>LL</td><td>1</td><td>3</td></tr>\n",
       "\t<tr><th scope=row>5</th><td>5</td><td>41</td><td>1.2850453</td><td>1174.691</td><td>640.6988</td><td>1</td><td>0.496517861</td><td>0.05</td><td>0</td><td>1</td><td>0</td><td> 0.6</td><td>HL</td><td>1</td><td>1</td></tr>\n",
       "\t<tr><th scope=row>6</th><td>6</td><td>41</td><td>1.5145250</td><td>1192.505</td><td>621.3683</td><td>1</td><td>0.003551195</td><td>0.10</td><td>0</td><td>1</td><td>0</td><td>-0.6</td><td>LL</td><td>1</td><td>3</td></tr>\n",
       "</tbody>\n",
       "</table>\n"
      ],
      "text/latex": [
       "A data.frame: 6 × 15\n",
       "\\begin{tabular}{r|lllllllllllllll}\n",
       "  & trialN & GroupCount & pupilBL & posXBL & posYBL & dataID & pupilBL2 & aSNR & isH & success & choice01 & pretoneBias & ptC & congruent & congruentpt\\\\\n",
       "  & <int> & <int> & <dbl> & <dbl> & <dbl> & <int> & <dbl> & <dbl> & <int> & <int> & <int> & <dbl> & <chr> & <int> & <int>\\\\\n",
       "\\hline\n",
       "\t1 & 1 & 41 & 0.8024736 & 1191.465 & 682.6390 & 1 & 0.429918124 & 0.10 & 1 & 0 & 0 &  1.0 & HH & 1 & 0\\\\\n",
       "\t2 & 2 & 41 & 1.0121036 & 1206.727 & 643.3890 & 1 & 0.535460081 & 0.10 & 0 & 0 & 1 &  0.2 & HH & 0 & 3\\\\\n",
       "\t3 & 3 & 41 & 1.3614252 & 1184.631 & 615.0854 & 1 & 0.247339588 & 0.05 & 0 & 1 & 0 & -1.0 & LL & 1 & 3\\\\\n",
       "\t4 & 4 & 41 & 1.5249293 & 1190.676 & 638.3281 & 1 & 0.166733954 & 0.50 & 0 & 1 & 0 & -1.0 & LL & 1 & 3\\\\\n",
       "\t5 & 5 & 41 & 1.2850453 & 1174.691 & 640.6988 & 1 & 0.496517861 & 0.05 & 0 & 1 & 0 &  0.6 & HL & 1 & 1\\\\\n",
       "\t6 & 6 & 41 & 1.5145250 & 1192.505 & 621.3683 & 1 & 0.003551195 & 0.10 & 0 & 1 & 0 & -0.6 & LL & 1 & 3\\\\\n",
       "\\end{tabular}\n"
      ],
      "text/markdown": [
       "\n",
       "A data.frame: 6 × 15\n",
       "\n",
       "| <!--/--> | trialN &lt;int&gt; | GroupCount &lt;int&gt; | pupilBL &lt;dbl&gt; | posXBL &lt;dbl&gt; | posYBL &lt;dbl&gt; | dataID &lt;int&gt; | pupilBL2 &lt;dbl&gt; | aSNR &lt;dbl&gt; | isH &lt;int&gt; | success &lt;int&gt; | choice01 &lt;int&gt; | pretoneBias &lt;dbl&gt; | ptC &lt;chr&gt; | congruent &lt;int&gt; | congruentpt &lt;int&gt; |\n",
       "|---|---|---|---|---|---|---|---|---|---|---|---|---|---|---|---|\n",
       "| 1 | 1 | 41 | 0.8024736 | 1191.465 | 682.6390 | 1 | 0.429918124 | 0.10 | 1 | 0 | 0 |  1.0 | HH | 1 | 0 |\n",
       "| 2 | 2 | 41 | 1.0121036 | 1206.727 | 643.3890 | 1 | 0.535460081 | 0.10 | 0 | 0 | 1 |  0.2 | HH | 0 | 3 |\n",
       "| 3 | 3 | 41 | 1.3614252 | 1184.631 | 615.0854 | 1 | 0.247339588 | 0.05 | 0 | 1 | 0 | -1.0 | LL | 1 | 3 |\n",
       "| 4 | 4 | 41 | 1.5249293 | 1190.676 | 638.3281 | 1 | 0.166733954 | 0.50 | 0 | 1 | 0 | -1.0 | LL | 1 | 3 |\n",
       "| 5 | 5 | 41 | 1.2850453 | 1174.691 | 640.6988 | 1 | 0.496517861 | 0.05 | 0 | 1 | 0 |  0.6 | HL | 1 | 1 |\n",
       "| 6 | 6 | 41 | 1.5145250 | 1192.505 | 621.3683 | 1 | 0.003551195 | 0.10 | 0 | 1 | 0 | -0.6 | LL | 1 | 3 |\n",
       "\n"
      ],
      "text/plain": [
       "  trialN GroupCount pupilBL   posXBL   posYBL   dataID pupilBL2    aSNR isH\n",
       "1 1      41         0.8024736 1191.465 682.6390 1      0.429918124 0.10 1  \n",
       "2 2      41         1.0121036 1206.727 643.3890 1      0.535460081 0.10 0  \n",
       "3 3      41         1.3614252 1184.631 615.0854 1      0.247339588 0.05 0  \n",
       "4 4      41         1.5249293 1190.676 638.3281 1      0.166733954 0.50 0  \n",
       "5 5      41         1.2850453 1174.691 640.6988 1      0.496517861 0.05 0  \n",
       "6 6      41         1.5145250 1192.505 621.3683 1      0.003551195 0.10 0  \n",
       "  success choice01 pretoneBias ptC congruent congruentpt\n",
       "1 0       0         1.0        HH  1         0          \n",
       "2 0       1         0.2        HH  0         3          \n",
       "3 1       0        -1.0        LL  1         3          \n",
       "4 1       0        -1.0        LL  1         3          \n",
       "5 1       0         0.6        HL  1         1          \n",
       "6 1       0        -0.6        LL  1         3          "
      ]
     },
     "metadata": {},
     "output_type": "display_data"
    }
   ],
   "source": [
    "#clear memory\n",
    "rm(list=ls())\n",
    "\n",
    "### this runs regressions for pretone5 choice-aligned pupil data\n",
    "\n",
    "## LOADING data/libraries ##\n",
    "\n",
    "#load libraries\n",
    "library(lme4)\n",
    "library(lmerTest)\n",
    "library(car)\n",
    "library(plyr)\n",
    "library(dplyr)\n",
    "library(ggplot2)\n",
    "#library(afex)\n",
    "library(emmeans)\n",
    "emm_options(lmerTest.limit = Inf, lmer.df = \"satterthwaite\")\n",
    "\n",
    "\n",
    "switch(Sys.info()[['sysname']],\n",
    "       Windows = setwd(file.path(\n",
    "         Sys.getenv('USERPROFILE'),'Dropbox/Goldlab/AuditoryPriors/data processing/pupil')),\n",
    "       Darwin = setwd('~/Dropbox/Goldlab/AuditoryPriors/data processing/pupil')\n",
    ")\n",
    "\n",
    "#path to data files\n",
    "switch(Sys.info()[['sysname']],\n",
    "       Windows = DATA_OUT_PATH <- (paste0(\n",
    "         Sys.getenv('USERPROFILE'),'/OneDrive/Goldlab/AuditoryPriors/cached data/')),\n",
    "       Darwin = DATA_OUT_PATH <- '~/OneDrive/Goldlab/AuditoryPriors/cached data/'\n",
    ")\n",
    "pd_file= paste0(DATA_OUT_PATH,'pupil_data_pretone5_ds50_forR_10-Jun-2021.csv')\n",
    "baseline_file = paste0(DATA_OUT_PATH,'pupil_data_pretone5_bl_forR_10-Jun-2021.csv')\n",
    "\n",
    "\n",
    "#set temporal parameters [this is easier than pupilnet cause I kept it in actual ms]\n",
    "#period in which incon-con is sig (corrected) in both choice regression and bias correlation\n",
    "choice_period_ms.prior <- c(220,720) \n",
    "\n",
    "#load data\n",
    "pd_df<-read.table(pd_file,sep=',', header=TRUE, stringsAsFactors=FALSE,na.strings = c('NaN'))\n",
    "bl_df<-read.table(baseline_file,sep=',', header=TRUE, stringsAsFactors=FALSE,na.strings = c('NaN'))\n",
    "\n",
    "head(pd_df)\n",
    "head(bl_df)"
   ]
  },
  {
   "cell_type": "code",
   "execution_count": 2,
   "metadata": {},
   "outputs": [
    {
     "data": {
      "text/html": [
       "<table class=\"dataframe\">\n",
       "<caption>A matrix: 4 × 3 of type dbl</caption>\n",
       "<tbody>\n",
       "\t<tr><th scope=row>con</th><td> 1</td><td> 0</td><td> 0</td></tr>\n",
       "\t<tr><th scope=row>con-incon</th><td> 0</td><td> 1</td><td> 0</td></tr>\n",
       "\t<tr><th scope=row>incon-con</th><td> 0</td><td> 0</td><td> 1</td></tr>\n",
       "\t<tr><th scope=row>incon</th><td>-1</td><td>-1</td><td>-1</td></tr>\n",
       "</tbody>\n",
       "</table>\n"
      ],
      "text/latex": [
       "A matrix: 4 × 3 of type dbl\n",
       "\\begin{tabular}{r|lll}\n",
       "\tcon &  1 &  0 &  0\\\\\n",
       "\tcon-incon &  0 &  1 &  0\\\\\n",
       "\tincon-con &  0 &  0 &  1\\\\\n",
       "\tincon & -1 & -1 & -1\\\\\n",
       "\\end{tabular}\n"
      ],
      "text/markdown": [
       "\n",
       "A matrix: 4 × 3 of type dbl\n",
       "\n",
       "| con |  1 |  0 |  0 |\n",
       "| con-incon |  0 |  1 |  0 |\n",
       "| incon-con |  0 |  0 |  1 |\n",
       "| incon | -1 | -1 | -1 |\n",
       "\n"
      ],
      "text/plain": [
       "          [,1] [,2] [,3]\n",
       "con        1    0    0  \n",
       "con-incon  0    1    0  \n",
       "incon-con  0    0    1  \n",
       "incon     -1   -1   -1  "
      ]
     },
     "metadata": {},
     "output_type": "display_data"
    },
    {
     "data": {
      "text/html": [
       "<table class=\"dataframe\">\n",
       "<caption>A data.frame: 4 × 2</caption>\n",
       "<thead>\n",
       "\t<tr><th></th><th scope=col>congruentpt</th><th scope=col>congruentpt.f</th></tr>\n",
       "\t<tr><th></th><th scope=col>&lt;int&gt;</th><th scope=col>&lt;fct&gt;</th></tr>\n",
       "</thead>\n",
       "<tbody>\n",
       "\t<tr><th scope=row>1</th><td>0</td><td>incon    </td></tr>\n",
       "\t<tr><th scope=row>226</th><td>3</td><td>con      </td></tr>\n",
       "\t<tr><th scope=row>427</th><td>1</td><td>incon-con</td></tr>\n",
       "\t<tr><th scope=row>3040</th><td>2</td><td>con-incon</td></tr>\n",
       "</tbody>\n",
       "</table>\n"
      ],
      "text/latex": [
       "A data.frame: 4 × 2\n",
       "\\begin{tabular}{r|ll}\n",
       "  & congruentpt & congruentpt.f\\\\\n",
       "  & <int> & <fct>\\\\\n",
       "\\hline\n",
       "\t1 & 0 & incon    \\\\\n",
       "\t226 & 3 & con      \\\\\n",
       "\t427 & 1 & incon-con\\\\\n",
       "\t3040 & 2 & con-incon\\\\\n",
       "\\end{tabular}\n"
      ],
      "text/markdown": [
       "\n",
       "A data.frame: 4 × 2\n",
       "\n",
       "| <!--/--> | congruentpt &lt;int&gt; | congruentpt.f &lt;fct&gt; |\n",
       "|---|---|---|\n",
       "| 1 | 0 | incon     |\n",
       "| 226 | 3 | con       |\n",
       "| 427 | 1 | incon-con |\n",
       "| 3040 | 2 | con-incon |\n",
       "\n"
      ],
      "text/plain": [
       "     congruentpt congruentpt.f\n",
       "1    0           incon        \n",
       "226  3           con          \n",
       "427  1           incon-con    \n",
       "3040 2           con-incon    "
      ]
     },
     "metadata": {},
     "output_type": "display_data"
    },
    {
     "data": {
      "text/html": [
       "<table class=\"dataframe\">\n",
       "<caption>A matrix: 3 × 2 of type dbl</caption>\n",
       "<tbody>\n",
       "\t<tr><th scope=row>congruent</th><td> 1</td><td> 0</td></tr>\n",
       "\t<tr><th scope=row>incongruent</th><td> 0</td><td> 1</td></tr>\n",
       "\t<tr><th scope=row>no prior</th><td>-1</td><td>-1</td></tr>\n",
       "</tbody>\n",
       "</table>\n"
      ],
      "text/latex": [
       "A matrix: 3 × 2 of type dbl\n",
       "\\begin{tabular}{r|ll}\n",
       "\tcongruent &  1 &  0\\\\\n",
       "\tincongruent &  0 &  1\\\\\n",
       "\tno prior & -1 & -1\\\\\n",
       "\\end{tabular}\n"
      ],
      "text/markdown": [
       "\n",
       "A matrix: 3 × 2 of type dbl\n",
       "\n",
       "| congruent |  1 |  0 |\n",
       "| incongruent |  0 |  1 |\n",
       "| no prior | -1 | -1 |\n",
       "\n"
      ],
      "text/plain": [
       "            [,1] [,2]\n",
       "congruent    1    0  \n",
       "incongruent  0    1  \n",
       "no prior    -1   -1  "
      ]
     },
     "metadata": {},
     "output_type": "display_data"
    },
    {
     "data": {
      "text/html": [
       "<table class=\"dataframe\">\n",
       "<caption>A data.frame: 3 × 2</caption>\n",
       "<thead>\n",
       "\t<tr><th></th><th scope=col>congruent</th><th scope=col>congruent.f</th></tr>\n",
       "\t<tr><th></th><th scope=col>&lt;int&gt;</th><th scope=col>&lt;fct&gt;</th></tr>\n",
       "</thead>\n",
       "<tbody>\n",
       "\t<tr><th scope=row>1</th><td> 1</td><td>congruent  </td></tr>\n",
       "\t<tr><th scope=row>626</th><td> 0</td><td>incongruent</td></tr>\n",
       "\t<tr><th scope=row>6928</th><td>-1</td><td>no prior   </td></tr>\n",
       "</tbody>\n",
       "</table>\n"
      ],
      "text/latex": [
       "A data.frame: 3 × 2\n",
       "\\begin{tabular}{r|ll}\n",
       "  & congruent & congruent.f\\\\\n",
       "  & <int> & <fct>\\\\\n",
       "\\hline\n",
       "\t1 &  1 & congruent  \\\\\n",
       "\t626 &  0 & incongruent\\\\\n",
       "\t6928 & -1 & no prior   \\\\\n",
       "\\end{tabular}\n"
      ],
      "text/markdown": [
       "\n",
       "A data.frame: 3 × 2\n",
       "\n",
       "| <!--/--> | congruent &lt;int&gt; | congruent.f &lt;fct&gt; |\n",
       "|---|---|---|\n",
       "| 1 |  1 | congruent   |\n",
       "| 626 |  0 | incongruent |\n",
       "| 6928 | -1 | no prior    |\n",
       "\n"
      ],
      "text/plain": [
       "     congruent congruent.f\n",
       "1     1        congruent  \n",
       "626   0        incongruent\n",
       "6928 -1        no prior   "
      ]
     },
     "metadata": {},
     "output_type": "display_data"
    },
    {
     "data": {
      "text/html": [
       "<table class=\"dataframe\">\n",
       "<caption>A matrix: 2 × 1 of type dbl</caption>\n",
       "<thead>\n",
       "\t<tr><th></th><th scope=col>1</th></tr>\n",
       "</thead>\n",
       "<tbody>\n",
       "\t<tr><th scope=row>high</th><td> 0.5</td></tr>\n",
       "\t<tr><th scope=row>low</th><td>-0.5</td></tr>\n",
       "</tbody>\n",
       "</table>\n"
      ],
      "text/latex": [
       "A matrix: 2 × 1 of type dbl\n",
       "\\begin{tabular}{r|l}\n",
       "  & 1\\\\\n",
       "\\hline\n",
       "\thigh &  0.5\\\\\n",
       "\tlow & -0.5\\\\\n",
       "\\end{tabular}\n"
      ],
      "text/markdown": [
       "\n",
       "A matrix: 2 × 1 of type dbl\n",
       "\n",
       "| <!--/--> | 1 |\n",
       "|---|---|\n",
       "| high |  0.5 |\n",
       "| low | -0.5 |\n",
       "\n"
      ],
      "text/plain": [
       "     1   \n",
       "high  0.5\n",
       "low  -0.5"
      ]
     },
     "metadata": {},
     "output_type": "display_data"
    },
    {
     "data": {
      "text/html": [
       "<table class=\"dataframe\">\n",
       "<caption>A matrix: 2 × 1 of type dbl</caption>\n",
       "<tbody>\n",
       "\t<tr><th scope=row>high</th><td> 1</td></tr>\n",
       "\t<tr><th scope=row>low</th><td>-1</td></tr>\n",
       "</tbody>\n",
       "</table>\n"
      ],
      "text/latex": [
       "A matrix: 2 × 1 of type dbl\n",
       "\\begin{tabular}{r|l}\n",
       "\thigh &  1\\\\\n",
       "\tlow & -1\\\\\n",
       "\\end{tabular}\n"
      ],
      "text/markdown": [
       "\n",
       "A matrix: 2 × 1 of type dbl\n",
       "\n",
       "| high |  1 |\n",
       "| low | -1 |\n",
       "\n"
      ],
      "text/plain": [
       "     [,1]\n",
       "high  1  \n",
       "low  -1  "
      ]
     },
     "metadata": {},
     "output_type": "display_data"
    }
   ],
   "source": [
    "#cleanup\n",
    "bl_df$GroupCount <- NULL\n",
    "\n",
    "#set up variables/factors\n",
    "my_simple2<-contr.treatment(2,base=2) - matrix(rep(1/2,2))\n",
    "\n",
    "pd_df$congruentpt.f <- factor(pd_df$congruentpt,levels=c(3,2,1,0),\n",
    "                            labels=c(\"con\",\"con-incon\",\"incon-con\",\"incon\"))\n",
    "contrasts(pd_df$congruentpt.f) <- contr.sum(4)\n",
    "contrasts(pd_df$congruentpt.f)\n",
    "unique(pd_df[,c('congruentpt','congruentpt.f')])\n",
    "\n",
    "pd_df$congruent.f <- factor(pd_df$congruent,levels=c(1,0,-1),\n",
    "                            labels=c(\"congruent\",\"incongruent\",\"no prior\"))\n",
    "contrasts(pd_df$congruent.f) <- contr.sum(3)\n",
    "contrasts(pd_df$congruent.f)\n",
    "unique(pd_df[,c('congruent','congruent.f')])\n",
    "\n",
    "pd_df$isH.fs <- factor(pd_df$isH,levels=c(1,0),\n",
    "                      labels=c(\"high\",\"low\"))\n",
    "contrasts(pd_df$isH.fs) <- my_simple2\n",
    "contrasts(pd_df$isH.fs)\n",
    "pd_df$isH.f <- pd_df$isH.fs\n",
    "contrasts(pd_df$isH.f) <- contr.sum(2)\n",
    "contrasts(pd_df$isH.f)\n",
    "\n",
    "#merge in baseline data\n",
    "pd_df <- left_join(pd_df,bl_df[,c('dataID','trialN','pupilBL2')],by=c('dataID','trialN'))\n",
    "\n",
    "#get rid of missing before scaling vars (probably already done w/ new preproc)\n",
    "pd_df <- pd_df[complete.cases(pd_df),]\n",
    "\n",
    "#get a handle on descriptives to inform scaling\n",
    "scalevars_stats <- summarise(pd_df,\n",
    "                             m_bl=mean(pupilBL2,na.rm=T),\n",
    "                             sd_bl=sd(pupilBL2,na.rm=T),\n",
    "                             m_x=mean(posXCbl,na.rm=T),\n",
    "                             sd_x=sd(posXCbl,na.rm=T),\n",
    "                             m_y=mean(posYCbl,na.rm=T),\n",
    "                             sd_y=sd(posYCbl,na.rm=T),\n",
    "                             m_asnr=mean(aSNR,na.rm=T),\n",
    "                             sd_asnr=sd(aSNR,na.rm=T),\n",
    ")\n",
    "\n",
    "#set up variables: centering/scaling\n",
    "pd_df$zaSNR <- scale(pd_df$aSNR)\n",
    "pd_df$blz <- scale(pd_df$pupilBL2,center=T,scale=F) #not scaling since already scaled\n",
    "pd_df$posX <- scale(pd_df$posXCbl)\n",
    "pd_df$posY <- scale(pd_df$posYCbl)\n",
    "#pd_df$zptlen <- scale(pd_df$pretoneLength)"
   ]
  },
  {
   "cell_type": "markdown",
   "metadata": {},
   "source": [
    "# Correct trials, precue window"
   ]
  },
  {
   "cell_type": "code",
   "execution_count": 3,
   "metadata": {},
   "outputs": [
    {
     "name": "stderr",
     "output_type": "stream",
     "text": [
      "`summarise()` has grouped output by 'dataID', 'trialN', 'zaSNR', 'congruent.f', 'congruentpt.f'. You can override using the `.groups` argument.\n",
      "\n"
     ]
    },
    {
     "data": {
      "text/html": [
       "<table class=\"dataframe\">\n",
       "<caption>A grouped_df: 4 × 4</caption>\n",
       "<thead>\n",
       "\t<tr><th scope=col>congruentpt.f</th><th scope=col>congruentpt.f1</th><th scope=col>congruentpt.f2</th><th scope=col>congruentpt.f3</th></tr>\n",
       "\t<tr><th scope=col>&lt;fct&gt;</th><th scope=col>&lt;dbl&gt;</th><th scope=col>&lt;dbl&gt;</th><th scope=col>&lt;dbl&gt;</th></tr>\n",
       "</thead>\n",
       "<tbody>\n",
       "\t<tr><td>con      </td><td> 1</td><td> 0</td><td> 0</td></tr>\n",
       "\t<tr><td>incon-con</td><td> 0</td><td> 0</td><td> 1</td></tr>\n",
       "\t<tr><td>incon    </td><td>-1</td><td>-1</td><td>-1</td></tr>\n",
       "\t<tr><td>con-incon</td><td> 0</td><td> 1</td><td> 0</td></tr>\n",
       "</tbody>\n",
       "</table>\n"
      ],
      "text/latex": [
       "A grouped\\_df: 4 × 4\n",
       "\\begin{tabular}{llll}\n",
       " congruentpt.f & congruentpt.f1 & congruentpt.f2 & congruentpt.f3\\\\\n",
       " <fct> & <dbl> & <dbl> & <dbl>\\\\\n",
       "\\hline\n",
       "\t con       &  1 &  0 &  0\\\\\n",
       "\t incon-con &  0 &  0 &  1\\\\\n",
       "\t incon     & -1 & -1 & -1\\\\\n",
       "\t con-incon &  0 &  1 &  0\\\\\n",
       "\\end{tabular}\n"
      ],
      "text/markdown": [
       "\n",
       "A grouped_df: 4 × 4\n",
       "\n",
       "| congruentpt.f &lt;fct&gt; | congruentpt.f1 &lt;dbl&gt; | congruentpt.f2 &lt;dbl&gt; | congruentpt.f3 &lt;dbl&gt; |\n",
       "|---|---|---|---|\n",
       "| con       |  1 |  0 |  0 |\n",
       "| incon-con |  0 |  0 |  1 |\n",
       "| incon     | -1 | -1 | -1 |\n",
       "| con-incon |  0 |  1 |  0 |\n",
       "\n"
      ],
      "text/plain": [
       "  congruentpt.f congruentpt.f1 congruentpt.f2 congruentpt.f3\n",
       "1 con            1              0              0            \n",
       "2 incon-con      0              0              1            \n",
       "3 incon         -1             -1             -1            \n",
       "4 con-incon      0              1              0            "
      ]
     },
     "metadata": {},
     "output_type": "display_data"
    },
    {
     "data": {
      "text/html": [
       "<table class=\"dataframe\">\n",
       "<caption>A tibble: 2 × 2</caption>\n",
       "<thead>\n",
       "\t<tr><th scope=col>isH.f</th><th scope=col>isH.f1</th></tr>\n",
       "\t<tr><th scope=col>&lt;fct&gt;</th><th scope=col>&lt;dbl&gt;</th></tr>\n",
       "</thead>\n",
       "<tbody>\n",
       "\t<tr><td>low </td><td>-1</td></tr>\n",
       "\t<tr><td>high</td><td> 1</td></tr>\n",
       "</tbody>\n",
       "</table>\n"
      ],
      "text/latex": [
       "A tibble: 2 × 2\n",
       "\\begin{tabular}{ll}\n",
       " isH.f & isH.f1\\\\\n",
       " <fct> & <dbl>\\\\\n",
       "\\hline\n",
       "\t low  & -1\\\\\n",
       "\t high &  1\\\\\n",
       "\\end{tabular}\n"
      ],
      "text/markdown": [
       "\n",
       "A tibble: 2 × 2\n",
       "\n",
       "| isH.f &lt;fct&gt; | isH.f1 &lt;dbl&gt; |\n",
       "|---|---|\n",
       "| low  | -1 |\n",
       "| high |  1 |\n",
       "\n"
      ],
      "text/plain": [
       "  isH.f isH.f1\n",
       "1 low   -1    \n",
       "2 high   1    "
      ]
     },
     "metadata": {},
     "output_type": "display_data"
    },
    {
     "data": {
      "text/html": [
       "<table class=\"dataframe\">\n",
       "<caption>A grouped_df: 3 × 3</caption>\n",
       "<thead>\n",
       "\t<tr><th scope=col>congruent.f</th><th scope=col>congruent.f1</th><th scope=col>congruent.f2</th></tr>\n",
       "\t<tr><th scope=col>&lt;fct&gt;</th><th scope=col>&lt;dbl&gt;</th><th scope=col>&lt;dbl&gt;</th></tr>\n",
       "</thead>\n",
       "<tbody>\n",
       "\t<tr><td>congruent  </td><td> 1</td><td> 0</td></tr>\n",
       "\t<tr><td>incongruent</td><td> 0</td><td> 1</td></tr>\n",
       "\t<tr><td>no prior   </td><td>-1</td><td>-1</td></tr>\n",
       "</tbody>\n",
       "</table>\n"
      ],
      "text/latex": [
       "A grouped\\_df: 3 × 3\n",
       "\\begin{tabular}{lll}\n",
       " congruent.f & congruent.f1 & congruent.f2\\\\\n",
       " <fct> & <dbl> & <dbl>\\\\\n",
       "\\hline\n",
       "\t congruent   &  1 &  0\\\\\n",
       "\t incongruent &  0 &  1\\\\\n",
       "\t no prior    & -1 & -1\\\\\n",
       "\\end{tabular}\n"
      ],
      "text/markdown": [
       "\n",
       "A grouped_df: 3 × 3\n",
       "\n",
       "| congruent.f &lt;fct&gt; | congruent.f1 &lt;dbl&gt; | congruent.f2 &lt;dbl&gt; |\n",
       "|---|---|---|\n",
       "| congruent   |  1 |  0 |\n",
       "| incongruent |  0 |  1 |\n",
       "| no prior    | -1 | -1 |\n",
       "\n"
      ],
      "text/plain": [
       "  congruent.f congruent.f1 congruent.f2\n",
       "1 congruent    1            0          \n",
       "2 incongruent  0            1          \n",
       "3 no prior    -1           -1          "
      ]
     },
     "metadata": {},
     "output_type": "display_data"
    }
   ],
   "source": [
    "### CORRECT TRIALS, precue window ####\n",
    "pd_choicedf.cpc <- subset(pd_df,success==1 & \n",
    "                            trial_time_choice >= choice_period_ms.prior[1] & \n",
    "                            trial_time_choice <= choice_period_ms.prior[2])\n",
    "\n",
    "pd_choicedf.cpc.ave <- summarise(group_by(pd_choicedf.cpc,\n",
    "                                          dataID,trialN,\n",
    "                                          zaSNR,congruent.f,congruentpt.f,isH.f),\n",
    "                                 pupilCblz2=mean(pupilCblz2),\n",
    "                                 blz=mean(blz),#blz could be a grouping factor but this is fine\n",
    "                                 posX=mean(posX),\n",
    "                                 posY=mean(posY))\n",
    "\n",
    "#set up vars for zero corr\n",
    "pd_choicedf.cpc.ave[,c('congruentpt.f1','congruentpt.f2','congruentpt.f3')] <- \n",
    "  model.matrix(~1+pd_choicedf.cpc.ave$congruentpt.f,pd_choicedf.cpc.ave)[,2:4]\n",
    "pd_choicedf.cpc.ave$isH.f1 <- \n",
    "  model.matrix(~1+pd_choicedf.cpc.ave$isH.f,pd_choicedf.cpc.ave)[,2]\n",
    "pd_choicedf.cpc.ave[c('congruent.f1','congruent.f2')] <- \n",
    "  model.matrix(~1+pd_choicedf.cpc.ave$congruent.f,pd_choicedf.cpc.ave)[,2:3]\n",
    "unique(pd_choicedf.cpc.ave[,c(\"congruentpt.f\",\"congruentpt.f1\",\"congruentpt.f2\",\"congruentpt.f3\")])\n",
    "unique(pd_choicedf.cpc.ave[,c(\"isH.f\",\"isH.f1\")])\n",
    "unique(pd_choicedf.cpc.ave[,c(\"congruent.f\",\"congruent.f1\",\"congruent.f2\")])"
   ]
  },
  {
   "cell_type": "code",
   "execution_count": 4,
   "metadata": {},
   "outputs": [
    {
     "name": "stderr",
     "output_type": "stream",
     "text": [
      "boundary (singular) fit: see ?isSingular\n",
      "\n"
     ]
    },
    {
     "data": {
      "text/plain": [
       " Groups    Name           Std.Dev. \n",
       " dataID    (Intercept)    0.1576116\n",
       " dataID.1  congruent.f1   0.0425269\n",
       " dataID.2  congruent.f2   0.0381597\n",
       " dataID.3  congruentpt.f1 0.0164071\n",
       " dataID.4  congruentpt.f2 0.0037054\n",
       " dataID.5  congruentpt.f3 0.0000000\n",
       " dataID.6  zaSNR          0.0326507\n",
       " dataID.7  isH.f1         0.0219964\n",
       " dataID.8  blz            0.1035137\n",
       " dataID.9  posX           0.0281598\n",
       " dataID.10 posY           0.0769590\n",
       " Residual                 0.2914817"
      ]
     },
     "metadata": {},
     "output_type": "display_data"
    }
   ],
   "source": [
    "#these don't converge, so iteratively reducing\n",
    "\n",
    "choice.lm.zc.cpc <- lmer(pupilCblz2~\n",
    "                           congruent.f + congruentpt.f + zaSNR + \n",
    "                           isH.f + blz + posX + posY + \n",
    "                           (1 + congruent.f1 + congruent.f2 + \n",
    "                              congruentpt.f1 + congruentpt.f2 + congruentpt.f3 + \n",
    "                              zaSNR + isH.f1 + blz + posX + posY||dataID),\n",
    "                         data=pd_choicedf.cpc.ave,\n",
    "                         control=lmerControl(optimizer=\"bobyqa\",\n",
    "                                             optCtrl=list(maxfun=2e5)))\n",
    "\n",
    "VarCorr(choice.lm.zc.cpc)"
   ]
  },
  {
   "cell_type": "code",
   "execution_count": 5,
   "metadata": {},
   "outputs": [
    {
     "name": "stderr",
     "output_type": "stream",
     "text": [
      "boundary (singular) fit: see ?isSingular\n",
      "\n",
      "Warning message:\n",
      "“Model failed to converge with 1 negative eigenvalue: -2.6e+01”\n"
     ]
    }
   ],
   "source": [
    "choice.lm.cpc.2 <- lmer(pupilCblz2~\n",
    "                             congruent.f + congruentpt.f + zaSNR + \n",
    "                             isH.f + blz + posX + posY + \n",
    "                             (1 + congruent.f1 + congruent.f2 + \n",
    "                                congruentpt.f1 + congruentpt.f2 + \n",
    "                                zaSNR + isH.f1 + blz + posX + posY|dataID),\n",
    "                           data=pd_choicedf.cpc.ave,\n",
    "                           control=lmerControl(optimizer=\"bobyqa\",\n",
    "                                               optCtrl=list(maxfun=2e5)))"
   ]
  },
  {
   "cell_type": "code",
   "execution_count": 6,
   "metadata": {},
   "outputs": [],
   "source": [
    "#FINAL\n",
    "#final model\n",
    "choice.lm.zc.cpc.2 <- lmer(pupilCblz2~\n",
    "                           congruent.f + congruentpt.f + zaSNR + \n",
    "                           isH.f + blz + posX + posY + \n",
    "                           (1 + congruent.f1 + congruent.f2 + \n",
    "                              congruentpt.f1 + congruentpt.f2 + \n",
    "                              zaSNR + isH.f1 + blz + posX + posY||dataID),\n",
    "                         data=pd_choicedf.cpc.ave,\n",
    "                         control=lmerControl(optimizer=\"bobyqa\",\n",
    "                                             optCtrl=list(maxfun=2e5)))"
   ]
  },
  {
   "cell_type": "code",
   "execution_count": 7,
   "metadata": {},
   "outputs": [
    {
     "data": {
      "text/plain": [
       "Linear mixed model fit by REML. t-tests use Satterthwaite's method [\n",
       "lmerModLmerTest]\n",
       "Formula: pupilCblz2 ~ congruent.f + congruentpt.f + zaSNR + isH.f + blz +  \n",
       "    posX + posY + (1 + congruent.f1 + congruent.f2 + congruentpt.f1 +  \n",
       "    congruentpt.f2 + zaSNR + isH.f1 + blz + posX + posY || dataID)\n",
       "   Data: pd_choicedf.cpc.ave\n",
       "Control: lmerControl(optimizer = \"bobyqa\", optCtrl = list(maxfun = 2e+05))\n",
       "\n",
       "REML criterion at convergence: 1863.8\n",
       "\n",
       "Scaled residuals: \n",
       "    Min      1Q  Median      3Q     Max \n",
       "-8.5707 -0.5877 -0.0289  0.5565  6.6427 \n",
       "\n",
       "Random effects:\n",
       " Groups   Name           Variance  Std.Dev.\n",
       " dataID   (Intercept)    2.484e-02 0.157612\n",
       " dataID.1 congruent.f1   1.809e-03 0.042527\n",
       " dataID.2 congruent.f2   1.456e-03 0.038160\n",
       " dataID.3 congruentpt.f1 2.692e-04 0.016407\n",
       " dataID.4 congruentpt.f2 1.374e-05 0.003706\n",
       " dataID.5 zaSNR          1.066e-03 0.032651\n",
       " dataID.6 isH.f1         4.838e-04 0.021996\n",
       " dataID.7 blz            1.072e-02 0.103514\n",
       " dataID.8 posX           7.930e-04 0.028160\n",
       " dataID.9 posY           5.923e-03 0.076959\n",
       " Residual                8.496e-02 0.291482\n",
       "Number of obs: 4165, groups:  dataID, 17\n",
       "\n",
       "Fixed effects:\n",
       "                 Estimate Std. Error         df t value Pr(>|t|)    \n",
       "(Intercept)     3.247e-01  3.923e-02  1.674e+01   8.276 2.56e-07 ***\n",
       "congruent.f1   -5.234e-02  1.316e-02  1.591e+01  -3.977  0.00109 ** \n",
       "congruent.f2    3.473e-02  1.575e-02  1.047e+01   2.205  0.05087 .  \n",
       "congruentpt.f1 -1.255e-02  8.521e-03  3.284e+01  -1.473  0.15038    \n",
       "congruentpt.f2 -1.923e-02  9.964e-03  2.392e+01  -1.930  0.06559 .  \n",
       "congruentpt.f3  2.351e-02  1.053e-02  4.066e+03   2.231  0.02571 *  \n",
       "zaSNR          -3.409e-02  9.369e-03  1.817e+01  -3.639  0.00185 ** \n",
       "isH.f1         -5.788e-03  7.298e-03  1.838e+01  -0.793  0.43784    \n",
       "blz            -1.501e-01  2.769e-02  1.569e+01  -5.421 6.05e-05 ***\n",
       "posX           -3.280e-02  8.826e-03  1.475e+01  -3.716  0.00212 ** \n",
       "posY           -3.954e-02  1.948e-02  1.521e+01  -2.030  0.06021 .  \n",
       "---\n",
       "Signif. codes:  0 ‘***’ 0.001 ‘**’ 0.01 ‘*’ 0.05 ‘.’ 0.1 ‘ ’ 1\n",
       "\n",
       "Correlation of Fixed Effects:\n",
       "            (Intr) cngrnt.f1 cngrnt.f2 cngrntp.1 cngrntp.2 cngr.3 zaSNR  isH.f1\n",
       "congrunt.f1 -0.077                                                             \n",
       "congrunt.f2  0.102 -0.355                                                      \n",
       "cngrntpt.f1 -0.041  0.002     0.008                                            \n",
       "cngrntpt.f2  0.022  0.005    -0.019    -0.265                                  \n",
       "cngrntpt.f3  0.038  0.002     0.020    -0.324    -0.489                        \n",
       "zaSNR       -0.012  0.024    -0.021     0.020     0.002    -0.011              \n",
       "isH.f1       0.001 -0.013     0.013     0.000    -0.022     0.019 -0.002       \n",
       "blz          0.016  0.008     0.005     0.010     0.002    -0.008 -0.005  0.001\n",
       "posX         0.011 -0.004     0.005     0.002    -0.015     0.015 -0.006 -0.001\n",
       "posY         0.011 -0.005     0.007     0.001    -0.003     0.002 -0.002  0.006\n",
       "            blz    posX  \n",
       "congrunt.f1              \n",
       "congrunt.f2              \n",
       "cngrntpt.f1              \n",
       "cngrntpt.f2              \n",
       "cngrntpt.f3              \n",
       "zaSNR                    \n",
       "isH.f1                   \n",
       "blz                      \n",
       "posX         0.046       \n",
       "posY         0.018 -0.022"
      ]
     },
     "metadata": {},
     "output_type": "display_data"
    },
    {
     "data": {
      "text/html": [
       "<table class=\"dataframe\">\n",
       "<caption>A anova: 7 × 6</caption>\n",
       "<thead>\n",
       "\t<tr><th></th><th scope=col>Sum Sq</th><th scope=col>Mean Sq</th><th scope=col>NumDF</th><th scope=col>DenDF</th><th scope=col>F value</th><th scope=col>Pr(&gt;F)</th></tr>\n",
       "\t<tr><th></th><th scope=col>&lt;dbl&gt;</th><th scope=col>&lt;dbl&gt;</th><th scope=col>&lt;int&gt;</th><th scope=col>&lt;dbl&gt;</th><th scope=col>&lt;dbl&gt;</th><th scope=col>&lt;dbl&gt;</th></tr>\n",
       "</thead>\n",
       "<tbody>\n",
       "\t<tr><th scope=row>congruent.f</th><td>1.40490437</td><td>0.70245219</td><td>2</td><td>20.16797</td><td> 8.2678823</td><td>2.386047e-03</td></tr>\n",
       "\t<tr><th scope=row>congruentpt.f</th><td>0.69228270</td><td>0.23076090</td><td>3</td><td>40.84241</td><td> 2.7160624</td><td>5.709277e-02</td></tr>\n",
       "\t<tr><th scope=row>zaSNR</th><td>1.12478156</td><td>1.12478156</td><td>1</td><td>18.17428</td><td>13.2387111</td><td>1.854869e-03</td></tr>\n",
       "\t<tr><th scope=row>isH.f</th><td>0.05343982</td><td>0.05343982</td><td>1</td><td>18.38478</td><td> 0.6289882</td><td>4.378428e-01</td></tr>\n",
       "\t<tr><th scope=row>blz</th><td>2.49678986</td><td>2.49678986</td><td>1</td><td>15.69354</td><td>29.3872879</td><td>6.050719e-05</td></tr>\n",
       "\t<tr><th scope=row>posX</th><td>1.17320324</td><td>1.17320324</td><td>1</td><td>14.75129</td><td>13.8086356</td><td>2.123878e-03</td></tr>\n",
       "\t<tr><th scope=row>posY</th><td>0.35016345</td><td>0.35016345</td><td>1</td><td>15.21232</td><td> 4.1214338</td><td>6.020782e-02</td></tr>\n",
       "</tbody>\n",
       "</table>\n"
      ],
      "text/latex": [
       "A anova: 7 × 6\n",
       "\\begin{tabular}{r|llllll}\n",
       "  & Sum Sq & Mean Sq & NumDF & DenDF & F value & Pr(>F)\\\\\n",
       "  & <dbl> & <dbl> & <int> & <dbl> & <dbl> & <dbl>\\\\\n",
       "\\hline\n",
       "\tcongruent.f & 1.40490437 & 0.70245219 & 2 & 20.16797 &  8.2678823 & 2.386047e-03\\\\\n",
       "\tcongruentpt.f & 0.69228270 & 0.23076090 & 3 & 40.84241 &  2.7160624 & 5.709277e-02\\\\\n",
       "\tzaSNR & 1.12478156 & 1.12478156 & 1 & 18.17428 & 13.2387111 & 1.854869e-03\\\\\n",
       "\tisH.f & 0.05343982 & 0.05343982 & 1 & 18.38478 &  0.6289882 & 4.378428e-01\\\\\n",
       "\tblz & 2.49678986 & 2.49678986 & 1 & 15.69354 & 29.3872879 & 6.050719e-05\\\\\n",
       "\tposX & 1.17320324 & 1.17320324 & 1 & 14.75129 & 13.8086356 & 2.123878e-03\\\\\n",
       "\tposY & 0.35016345 & 0.35016345 & 1 & 15.21232 &  4.1214338 & 6.020782e-02\\\\\n",
       "\\end{tabular}\n"
      ],
      "text/markdown": [
       "\n",
       "A anova: 7 × 6\n",
       "\n",
       "| <!--/--> | Sum Sq &lt;dbl&gt; | Mean Sq &lt;dbl&gt; | NumDF &lt;int&gt; | DenDF &lt;dbl&gt; | F value &lt;dbl&gt; | Pr(&gt;F) &lt;dbl&gt; |\n",
       "|---|---|---|---|---|---|---|\n",
       "| congruent.f | 1.40490437 | 0.70245219 | 2 | 20.16797 |  8.2678823 | 2.386047e-03 |\n",
       "| congruentpt.f | 0.69228270 | 0.23076090 | 3 | 40.84241 |  2.7160624 | 5.709277e-02 |\n",
       "| zaSNR | 1.12478156 | 1.12478156 | 1 | 18.17428 | 13.2387111 | 1.854869e-03 |\n",
       "| isH.f | 0.05343982 | 0.05343982 | 1 | 18.38478 |  0.6289882 | 4.378428e-01 |\n",
       "| blz | 2.49678986 | 2.49678986 | 1 | 15.69354 | 29.3872879 | 6.050719e-05 |\n",
       "| posX | 1.17320324 | 1.17320324 | 1 | 14.75129 | 13.8086356 | 2.123878e-03 |\n",
       "| posY | 0.35016345 | 0.35016345 | 1 | 15.21232 |  4.1214338 | 6.020782e-02 |\n",
       "\n"
      ],
      "text/plain": [
       "              Sum Sq     Mean Sq    NumDF DenDF    F value    Pr(>F)      \n",
       "congruent.f   1.40490437 0.70245219 2     20.16797  8.2678823 2.386047e-03\n",
       "congruentpt.f 0.69228270 0.23076090 3     40.84241  2.7160624 5.709277e-02\n",
       "zaSNR         1.12478156 1.12478156 1     18.17428 13.2387111 1.854869e-03\n",
       "isH.f         0.05343982 0.05343982 1     18.38478  0.6289882 4.378428e-01\n",
       "blz           2.49678986 2.49678986 1     15.69354 29.3872879 6.050719e-05\n",
       "posX          1.17320324 1.17320324 1     14.75129 13.8086356 2.123878e-03\n",
       "posY          0.35016345 0.35016345 1     15.21232  4.1214338 6.020782e-02"
      ]
     },
     "metadata": {},
     "output_type": "display_data"
    },
    {
     "data": {
      "text/plain": [
       " contrast                estimate     SE    df t.ratio p.value\n",
       " incongruent - congruent   0.0871 0.0238 43.94   3.652  0.0021\n",
       " no prior - congruent      0.0700 0.0254 15.15   2.750  0.0296\n",
       " no prior - incongruent   -0.0171 0.0295  9.52  -0.580  0.5756\n",
       "\n",
       "Results are averaged over the levels of: congruentpt.f, isH.f \n",
       "Degrees-of-freedom method: satterthwaite \n",
       "P value adjustment: holm method for 3 tests "
      ]
     },
     "metadata": {},
     "output_type": "display_data"
    },
    {
     "data": {
      "text/plain": [
       " contrast                estimate     SE    df t.ratio p.value\n",
       " incongruent - congruent   0.0871 0.0238 43.94   3.652  0.0007\n",
       " no prior - congruent      0.0700 0.0254 15.15   2.750  0.0148\n",
       " no prior - incongruent   -0.0171 0.0295  9.52  -0.580  0.5756\n",
       "\n",
       "Results are averaged over the levels of: congruentpt.f, isH.f \n",
       "Degrees-of-freedom method: satterthwaite "
      ]
     },
     "metadata": {},
     "output_type": "display_data"
    }
   ],
   "source": [
    "summary(choice.lm.zc.cpc.2)\n",
    "anova(choice.lm.zc.cpc.2,type=\"II\")\n",
    "contrast(emmeans(choice.lm.zc.cpc.2,~congruent.f),adjust=\"holm\",method=\"revpairwise\")\n",
    "contrast(emmeans(choice.lm.zc.cpc.2,~congruent.f),adjust=\"none\",method=\"revpairwise\")"
   ]
  },
  {
   "cell_type": "code",
   "execution_count": null,
   "metadata": {},
   "outputs": [],
   "source": []
  }
 ],
 "metadata": {
  "kernelspec": {
   "display_name": "R",
   "language": "R",
   "name": "ir"
  },
  "language_info": {
   "codemirror_mode": "r",
   "file_extension": ".r",
   "mimetype": "text/x-r-source",
   "name": "R",
   "pygments_lexer": "r",
   "version": "4.1.0"
  }
 },
 "nbformat": 4,
 "nbformat_minor": 4
}
