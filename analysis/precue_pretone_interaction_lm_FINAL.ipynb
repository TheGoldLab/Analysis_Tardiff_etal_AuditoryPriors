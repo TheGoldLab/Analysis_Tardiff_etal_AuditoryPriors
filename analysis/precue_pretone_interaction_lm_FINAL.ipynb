{
 "cells": [
  {
   "cell_type": "markdown",
   "metadata": {},
   "source": [
    "This script is used to test for a three-way congruence x SNR x condition (precue,pretone) interaction for both RT and choice in the section:\n",
    "\"Rule- and stimulus-based biases had different effects on choices and RTs\""
   ]
  },
  {
   "cell_type": "code",
   "execution_count": 1,
   "metadata": {},
   "outputs": [
    {
     "name": "stderr",
     "output_type": "stream",
     "text": [
      "Loading required package: Matrix\n",
      "\n",
      "Registered S3 methods overwritten by 'tibble':\n",
      "  method     from  \n",
      "  format.tbl pillar\n",
      "  print.tbl  pillar\n",
      "\n",
      "\n",
      "Attaching package: 'dplyr'\n",
      "\n",
      "\n",
      "The following objects are masked from 'package:stats':\n",
      "\n",
      "    filter, lag\n",
      "\n",
      "\n",
      "The following objects are masked from 'package:base':\n",
      "\n",
      "    intersect, setdiff, setequal, union\n",
      "\n",
      "\n",
      "Warning message:\n",
      "\"package 'car' was built under R version 4.0.4\"\n",
      "Loading required package: carData\n",
      "\n",
      "Registered S3 methods overwritten by 'car':\n",
      "  method                          from\n",
      "  influence.merMod                lme4\n",
      "  cooks.distance.influence.merMod lme4\n",
      "  dfbeta.influence.merMod         lme4\n",
      "  dfbetas.influence.merMod        lme4\n",
      "\n",
      "\n",
      "Attaching package: 'car'\n",
      "\n",
      "\n",
      "The following object is masked from 'package:dplyr':\n",
      "\n",
      "    recode\n",
      "\n",
      "\n",
      "Warning message:\n",
      "\"package 'lmerTest' was built under R version 4.0.4\"\n",
      "\n",
      "Attaching package: 'lmerTest'\n",
      "\n",
      "\n",
      "The following object is masked from 'package:lme4':\n",
      "\n",
      "    lmer\n",
      "\n",
      "\n",
      "The following object is masked from 'package:stats':\n",
      "\n",
      "    step\n",
      "\n",
      "\n",
      "Warning message:\n",
      "\"package 'emmeans' was built under R version 4.0.4\"\n"
     ]
    }
   ],
   "source": [
    "#clear memory\n",
    "rm(list=ls())\n",
    "\n",
    "## loading data/libraries ##\n",
    "\n",
    "#load libraries\n",
    "library(lme4)\n",
    "#library(plyr)\n",
    "library(dplyr)\n",
    "#library(tidyr)\n",
    "library(car)\n",
    "library(lmerTest)\n",
    "library(emmeans)\n",
    "#library(afex)\n",
    "emm_options(lmerTest.limit = 22676)\n",
    "library(lattice)\n",
    "\n",
    "switch(Sys.info()[['sysname']],\n",
    "       Windows = PROJECT_DIR <- paste0('C:/Users/',Sys.getenv('USERNAME'),\n",
    "                              '/Dropbox/Goldlab/AuditoryPriors/'),\n",
    "       Darwin = PROJECT_DIR <- '~/Dropbox/Goldlab/AuditoryPriors/'\n",
    ")\n",
    "\n",
    "setwd(paste0(PROJECT_DIR,'data processing'))\n",
    "\n",
    "DATA_FILE_PC = '../FitGDDM/data/priorOnly_28-Jan-2020.csv'\n",
    "DATA_FILE_PT ='data/pretoneOnly_for_R_29-May-2020.csv'"
   ]
  },
  {
   "cell_type": "code",
   "execution_count": 2,
   "metadata": {},
   "outputs": [
    {
     "data": {
      "text/html": [
       "<table class=\"dataframe\">\n",
       "<caption>A data.frame: 6 × 10</caption>\n",
       "<thead>\n",
       "\t<tr><th></th><th scope=col>subject</th><th scope=col>optionName</th><th scope=col>cond</th><th scope=col>trialID</th><th scope=col>SNR</th><th scope=col>prior</th><th scope=col>isH</th><th scope=col>success</th><th scope=col>RT</th><th scope=col>choice01</th></tr>\n",
       "\t<tr><th></th><th scope=col>&lt;chr&gt;</th><th scope=col>&lt;chr&gt;</th><th scope=col>&lt;int&gt;</th><th scope=col>&lt;int&gt;</th><th scope=col>&lt;dbl&gt;</th><th scope=col>&lt;int&gt;</th><th scope=col>&lt;int&gt;</th><th scope=col>&lt;int&gt;</th><th scope=col>&lt;dbl&gt;</th><th scope=col>&lt;int&gt;</th></tr>\n",
       "</thead>\n",
       "<tbody>\n",
       "\t<tr><th scope=row>1</th><td>AdL</td><td>priorOnly</td><td>7</td><td>1</td><td>-0.10</td><td>0</td><td>0</td><td>1</td><td>794.4652</td><td>0</td></tr>\n",
       "\t<tr><th scope=row>2</th><td>AdL</td><td>priorOnly</td><td>7</td><td>2</td><td>-0.10</td><td>0</td><td>0</td><td>1</td><td>466.9621</td><td>0</td></tr>\n",
       "\t<tr><th scope=row>3</th><td>AdL</td><td>priorOnly</td><td>7</td><td>3</td><td> 0.20</td><td>0</td><td>1</td><td>0</td><td>440.8888</td><td>0</td></tr>\n",
       "\t<tr><th scope=row>4</th><td>AdL</td><td>priorOnly</td><td>7</td><td>4</td><td>-0.10</td><td>0</td><td>0</td><td>1</td><td>546.5004</td><td>0</td></tr>\n",
       "\t<tr><th scope=row>5</th><td>AdL</td><td>priorOnly</td><td>7</td><td>5</td><td>-0.50</td><td>0</td><td>0</td><td>0</td><td>662.5006</td><td>1</td></tr>\n",
       "\t<tr><th scope=row>6</th><td>AdL</td><td>priorOnly</td><td>7</td><td>6</td><td>-0.05</td><td>0</td><td>0</td><td>1</td><td>663.1985</td><td>0</td></tr>\n",
       "</tbody>\n",
       "</table>\n"
      ],
      "text/latex": [
       "A data.frame: 6 × 10\n",
       "\\begin{tabular}{r|llllllllll}\n",
       "  & subject & optionName & cond & trialID & SNR & prior & isH & success & RT & choice01\\\\\n",
       "  & <chr> & <chr> & <int> & <int> & <dbl> & <int> & <int> & <int> & <dbl> & <int>\\\\\n",
       "\\hline\n",
       "\t1 & AdL & priorOnly & 7 & 1 & -0.10 & 0 & 0 & 1 & 794.4652 & 0\\\\\n",
       "\t2 & AdL & priorOnly & 7 & 2 & -0.10 & 0 & 0 & 1 & 466.9621 & 0\\\\\n",
       "\t3 & AdL & priorOnly & 7 & 3 &  0.20 & 0 & 1 & 0 & 440.8888 & 0\\\\\n",
       "\t4 & AdL & priorOnly & 7 & 4 & -0.10 & 0 & 0 & 1 & 546.5004 & 0\\\\\n",
       "\t5 & AdL & priorOnly & 7 & 5 & -0.50 & 0 & 0 & 0 & 662.5006 & 1\\\\\n",
       "\t6 & AdL & priorOnly & 7 & 6 & -0.05 & 0 & 0 & 1 & 663.1985 & 0\\\\\n",
       "\\end{tabular}\n"
      ],
      "text/markdown": [
       "\n",
       "A data.frame: 6 × 10\n",
       "\n",
       "| <!--/--> | subject &lt;chr&gt; | optionName &lt;chr&gt; | cond &lt;int&gt; | trialID &lt;int&gt; | SNR &lt;dbl&gt; | prior &lt;int&gt; | isH &lt;int&gt; | success &lt;int&gt; | RT &lt;dbl&gt; | choice01 &lt;int&gt; |\n",
       "|---|---|---|---|---|---|---|---|---|---|---|\n",
       "| 1 | AdL | priorOnly | 7 | 1 | -0.10 | 0 | 0 | 1 | 794.4652 | 0 |\n",
       "| 2 | AdL | priorOnly | 7 | 2 | -0.10 | 0 | 0 | 1 | 466.9621 | 0 |\n",
       "| 3 | AdL | priorOnly | 7 | 3 |  0.20 | 0 | 1 | 0 | 440.8888 | 0 |\n",
       "| 4 | AdL | priorOnly | 7 | 4 | -0.10 | 0 | 0 | 1 | 546.5004 | 0 |\n",
       "| 5 | AdL | priorOnly | 7 | 5 | -0.50 | 0 | 0 | 0 | 662.5006 | 1 |\n",
       "| 6 | AdL | priorOnly | 7 | 6 | -0.05 | 0 | 0 | 1 | 663.1985 | 0 |\n",
       "\n"
      ],
      "text/plain": [
       "  subject optionName cond trialID SNR   prior isH success RT       choice01\n",
       "1 AdL     priorOnly  7    1       -0.10 0     0   1       794.4652 0       \n",
       "2 AdL     priorOnly  7    2       -0.10 0     0   1       466.9621 0       \n",
       "3 AdL     priorOnly  7    3        0.20 0     1   0       440.8888 0       \n",
       "4 AdL     priorOnly  7    4       -0.10 0     0   1       546.5004 0       \n",
       "5 AdL     priorOnly  7    5       -0.50 0     0   0       662.5006 1       \n",
       "6 AdL     priorOnly  7    6       -0.05 0     0   1       663.1985 0       "
      ]
     },
     "metadata": {},
     "output_type": "display_data"
    },
    {
     "data": {
      "text/html": [
       "<table class=\"dataframe\">\n",
       "<caption>A data.frame: 6 × 30</caption>\n",
       "<thead>\n",
       "\t<tr><th></th><th scope=col>subject</th><th scope=col>optionName</th><th scope=col>cond</th><th scope=col>trialID</th><th scope=col>SNR</th><th scope=col>prior</th><th scope=col>isH</th><th scope=col>success</th><th scope=col>RT</th><th scope=col>choice01</th><th scope=col>...</th><th scope=col>pretoneSeqisH_5</th><th scope=col>pretoneSeqisH_6</th><th scope=col>pretoneSeqisH_7</th><th scope=col>pretoneSeqisH_8</th><th scope=col>pretoneSeqisH_9</th><th scope=col>pretoneSeqisH_10</th><th scope=col>pretoneSeqisH_11</th><th scope=col>pretoneSeqisH_12</th><th scope=col>pretoneSeqisH_13</th><th scope=col>pretoneSeqisH_14</th></tr>\n",
       "\t<tr><th></th><th scope=col>&lt;chr&gt;</th><th scope=col>&lt;chr&gt;</th><th scope=col>&lt;int&gt;</th><th scope=col>&lt;int&gt;</th><th scope=col>&lt;dbl&gt;</th><th scope=col>&lt;int&gt;</th><th scope=col>&lt;int&gt;</th><th scope=col>&lt;int&gt;</th><th scope=col>&lt;dbl&gt;</th><th scope=col>&lt;int&gt;</th><th scope=col>...</th><th scope=col>&lt;int&gt;</th><th scope=col>&lt;int&gt;</th><th scope=col>&lt;int&gt;</th><th scope=col>&lt;int&gt;</th><th scope=col>&lt;int&gt;</th><th scope=col>&lt;int&gt;</th><th scope=col>&lt;int&gt;</th><th scope=col>&lt;int&gt;</th><th scope=col>&lt;int&gt;</th><th scope=col>&lt;int&gt;</th></tr>\n",
       "</thead>\n",
       "<tbody>\n",
       "\t<tr><th scope=row>1</th><td>AdR</td><td>pretoneOnly</td><td>3</td><td>1</td><td>-0.10</td><td>-2</td><td>0</td><td>1</td><td>817.7540</td><td>0</td><td>...</td><td> 0</td><td> 0</td><td> 0</td><td> 0</td><td> 0</td><td>NA</td><td>NA</td><td>NA</td><td>NA</td><td>NA</td></tr>\n",
       "\t<tr><th scope=row>2</th><td>AdR</td><td>pretoneOnly</td><td>3</td><td>2</td><td>-0.05</td><td>-2</td><td>0</td><td>0</td><td>876.3964</td><td>1</td><td>...</td><td> 0</td><td> 1</td><td> 0</td><td> 0</td><td>NA</td><td>NA</td><td>NA</td><td>NA</td><td>NA</td><td>NA</td></tr>\n",
       "\t<tr><th scope=row>3</th><td>AdR</td><td>pretoneOnly</td><td>3</td><td>3</td><td> 0.50</td><td>-2</td><td>1</td><td>1</td><td>873.0879</td><td>1</td><td>...</td><td> 0</td><td> 0</td><td>NA</td><td>NA</td><td>NA</td><td>NA</td><td>NA</td><td>NA</td><td>NA</td><td>NA</td></tr>\n",
       "\t<tr><th scope=row>4</th><td>AdR</td><td>pretoneOnly</td><td>3</td><td>4</td><td>-0.20</td><td> 0</td><td>0</td><td>1</td><td>778.5892</td><td>0</td><td>...</td><td>NA</td><td>NA</td><td>NA</td><td>NA</td><td>NA</td><td>NA</td><td>NA</td><td>NA</td><td>NA</td><td>NA</td></tr>\n",
       "\t<tr><th scope=row>5</th><td>AdR</td><td>pretoneOnly</td><td>3</td><td>5</td><td>-0.10</td><td>-2</td><td>0</td><td>1</td><td>766.6472</td><td>0</td><td>...</td><td>NA</td><td>NA</td><td>NA</td><td>NA</td><td>NA</td><td>NA</td><td>NA</td><td>NA</td><td>NA</td><td>NA</td></tr>\n",
       "\t<tr><th scope=row>6</th><td>AdR</td><td>pretoneOnly</td><td>3</td><td>6</td><td> 0.50</td><td> 2</td><td>1</td><td>1</td><td>659.4151</td><td>1</td><td>...</td><td>NA</td><td>NA</td><td>NA</td><td>NA</td><td>NA</td><td>NA</td><td>NA</td><td>NA</td><td>NA</td><td>NA</td></tr>\n",
       "</tbody>\n",
       "</table>\n"
      ],
      "text/latex": [
       "A data.frame: 6 × 30\n",
       "\\begin{tabular}{r|lllllllllllllllllllll}\n",
       "  & subject & optionName & cond & trialID & SNR & prior & isH & success & RT & choice01 & ... & pretoneSeqisH\\_5 & pretoneSeqisH\\_6 & pretoneSeqisH\\_7 & pretoneSeqisH\\_8 & pretoneSeqisH\\_9 & pretoneSeqisH\\_10 & pretoneSeqisH\\_11 & pretoneSeqisH\\_12 & pretoneSeqisH\\_13 & pretoneSeqisH\\_14\\\\\n",
       "  & <chr> & <chr> & <int> & <int> & <dbl> & <int> & <int> & <int> & <dbl> & <int> & ... & <int> & <int> & <int> & <int> & <int> & <int> & <int> & <int> & <int> & <int>\\\\\n",
       "\\hline\n",
       "\t1 & AdR & pretoneOnly & 3 & 1 & -0.10 & -2 & 0 & 1 & 817.7540 & 0 & ... &  0 &  0 &  0 &  0 &  0 & NA & NA & NA & NA & NA\\\\\n",
       "\t2 & AdR & pretoneOnly & 3 & 2 & -0.05 & -2 & 0 & 0 & 876.3964 & 1 & ... &  0 &  1 &  0 &  0 & NA & NA & NA & NA & NA & NA\\\\\n",
       "\t3 & AdR & pretoneOnly & 3 & 3 &  0.50 & -2 & 1 & 1 & 873.0879 & 1 & ... &  0 &  0 & NA & NA & NA & NA & NA & NA & NA & NA\\\\\n",
       "\t4 & AdR & pretoneOnly & 3 & 4 & -0.20 &  0 & 0 & 1 & 778.5892 & 0 & ... & NA & NA & NA & NA & NA & NA & NA & NA & NA & NA\\\\\n",
       "\t5 & AdR & pretoneOnly & 3 & 5 & -0.10 & -2 & 0 & 1 & 766.6472 & 0 & ... & NA & NA & NA & NA & NA & NA & NA & NA & NA & NA\\\\\n",
       "\t6 & AdR & pretoneOnly & 3 & 6 &  0.50 &  2 & 1 & 1 & 659.4151 & 1 & ... & NA & NA & NA & NA & NA & NA & NA & NA & NA & NA\\\\\n",
       "\\end{tabular}\n"
      ],
      "text/markdown": [
       "\n",
       "A data.frame: 6 × 30\n",
       "\n",
       "| <!--/--> | subject &lt;chr&gt; | optionName &lt;chr&gt; | cond &lt;int&gt; | trialID &lt;int&gt; | SNR &lt;dbl&gt; | prior &lt;int&gt; | isH &lt;int&gt; | success &lt;int&gt; | RT &lt;dbl&gt; | choice01 &lt;int&gt; | ... ... | pretoneSeqisH_5 &lt;int&gt; | pretoneSeqisH_6 &lt;int&gt; | pretoneSeqisH_7 &lt;int&gt; | pretoneSeqisH_8 &lt;int&gt; | pretoneSeqisH_9 &lt;int&gt; | pretoneSeqisH_10 &lt;int&gt; | pretoneSeqisH_11 &lt;int&gt; | pretoneSeqisH_12 &lt;int&gt; | pretoneSeqisH_13 &lt;int&gt; | pretoneSeqisH_14 &lt;int&gt; |\n",
       "|---|---|---|---|---|---|---|---|---|---|---|---|---|---|---|---|---|---|---|---|---|---|\n",
       "| 1 | AdR | pretoneOnly | 3 | 1 | -0.10 | -2 | 0 | 1 | 817.7540 | 0 | ... |  0 |  0 |  0 |  0 |  0 | NA | NA | NA | NA | NA |\n",
       "| 2 | AdR | pretoneOnly | 3 | 2 | -0.05 | -2 | 0 | 0 | 876.3964 | 1 | ... |  0 |  1 |  0 |  0 | NA | NA | NA | NA | NA | NA |\n",
       "| 3 | AdR | pretoneOnly | 3 | 3 |  0.50 | -2 | 1 | 1 | 873.0879 | 1 | ... |  0 |  0 | NA | NA | NA | NA | NA | NA | NA | NA |\n",
       "| 4 | AdR | pretoneOnly | 3 | 4 | -0.20 |  0 | 0 | 1 | 778.5892 | 0 | ... | NA | NA | NA | NA | NA | NA | NA | NA | NA | NA |\n",
       "| 5 | AdR | pretoneOnly | 3 | 5 | -0.10 | -2 | 0 | 1 | 766.6472 | 0 | ... | NA | NA | NA | NA | NA | NA | NA | NA | NA | NA |\n",
       "| 6 | AdR | pretoneOnly | 3 | 6 |  0.50 |  2 | 1 | 1 | 659.4151 | 1 | ... | NA | NA | NA | NA | NA | NA | NA | NA | NA | NA |\n",
       "\n"
      ],
      "text/plain": [
       "  subject optionName  cond trialID SNR   prior isH success RT       choice01\n",
       "1 AdR     pretoneOnly 3    1       -0.10 -2    0   1       817.7540 0       \n",
       "2 AdR     pretoneOnly 3    2       -0.05 -2    0   0       876.3964 1       \n",
       "3 AdR     pretoneOnly 3    3        0.50 -2    1   1       873.0879 1       \n",
       "4 AdR     pretoneOnly 3    4       -0.20  0    0   1       778.5892 0       \n",
       "5 AdR     pretoneOnly 3    5       -0.10 -2    0   1       766.6472 0       \n",
       "6 AdR     pretoneOnly 3    6        0.50  2    1   1       659.4151 1       \n",
       "  ... pretoneSeqisH_5 pretoneSeqisH_6 pretoneSeqisH_7 pretoneSeqisH_8\n",
       "1 ...  0               0               0               0             \n",
       "2 ...  0               1               0               0             \n",
       "3 ...  0               0              NA              NA             \n",
       "4 ... NA              NA              NA              NA             \n",
       "5 ... NA              NA              NA              NA             \n",
       "6 ... NA              NA              NA              NA             \n",
       "  pretoneSeqisH_9 pretoneSeqisH_10 pretoneSeqisH_11 pretoneSeqisH_12\n",
       "1  0              NA               NA               NA              \n",
       "2 NA              NA               NA               NA              \n",
       "3 NA              NA               NA               NA              \n",
       "4 NA              NA               NA               NA              \n",
       "5 NA              NA               NA               NA              \n",
       "6 NA              NA               NA               NA              \n",
       "  pretoneSeqisH_13 pretoneSeqisH_14\n",
       "1 NA               NA              \n",
       "2 NA               NA              \n",
       "3 NA               NA              \n",
       "4 NA               NA              \n",
       "5 NA               NA              \n",
       "6 NA               NA              "
      ]
     },
     "metadata": {},
     "output_type": "display_data"
    }
   ],
   "source": [
    "### load in precue data ###\n",
    "pc_df <- read.table(DATA_FILE_PC,sep=',', header=TRUE, \n",
    "                    stringsAsFactors=FALSE,na.strings = 'NaN')\n",
    "\n",
    "#remove missing data\n",
    "pc_df <- subset(pc_df,!is.na(choice01) & !is.na(RT))\n",
    "\n",
    "\n",
    "### load in pretone data ###\n",
    "pt_df <- read.table(DATA_FILE_PT,sep=',', header=TRUE, \n",
    "                    stringsAsFactors=FALSE,na.strings = 'NaN')\n",
    "\n",
    "#get rid of 0 pretones trials and missing trials in case this wasn't already done\n",
    "pt_df <- arrange(subset(pt_df,pretoneLength > 0),subject,trialID)\n",
    "\n",
    "#remove missing data\n",
    "pt_df <- subset(pt_df,!is.na(choice01) & !is.na(RT))\n",
    "\n",
    "head(pc_df)\n",
    "head(pt_df)"
   ]
  },
  {
   "cell_type": "code",
   "execution_count": 3,
   "metadata": {},
   "outputs": [
    {
     "data": {
      "text/html": [
       "<style>\n",
       ".list-inline {list-style: none; margin:0; padding: 0}\n",
       ".list-inline>li {display: inline-block}\n",
       ".list-inline>li:not(:last-child)::after {content: \"\\00b7\"; padding: 0 .5ex}\n",
       "</style>\n",
       "<ol class=list-inline><li>-2</li><li>2</li></ol>\n"
      ],
      "text/latex": [
       "\\begin{enumerate*}\n",
       "\\item -2\n",
       "\\item 2\n",
       "\\end{enumerate*}\n"
      ],
      "text/markdown": [
       "1. -2\n",
       "2. 2\n",
       "\n",
       "\n"
      ],
      "text/plain": [
       "[1] -2  2"
      ]
     },
     "metadata": {},
     "output_type": "display_data"
    },
    {
     "data": {
      "text/html": [
       "<style>\n",
       ".list-inline {list-style: none; margin:0; padding: 0}\n",
       ".list-inline>li {display: inline-block}\n",
       ".list-inline>li:not(:last-child)::after {content: \"\\00b7\"; padding: 0 .5ex}\n",
       "</style>\n",
       "<ol class=list-inline><li>0.5</li><li>0.05</li></ol>\n"
      ],
      "text/latex": [
       "\\begin{enumerate*}\n",
       "\\item 0.5\n",
       "\\item 0.05\n",
       "\\end{enumerate*}\n"
      ],
      "text/markdown": [
       "1. 0.5\n",
       "2. 0.05\n",
       "\n",
       "\n"
      ],
      "text/plain": [
       "[1] 0.50 0.05"
      ]
     },
     "metadata": {},
     "output_type": "display_data"
    }
   ],
   "source": [
    "### set up precue data/variables\n",
    "\n",
    "#compute abs SNR\n",
    "pc_df$aSNR <- abs(pc_df$SNR)\n",
    "\n",
    "#now restrict to high/low prior, min/max SNR trials\n",
    "pc_df <- subset(pc_df,prior!=0 & aSNR %in% c(0.05,0.5))\n",
    "unique(pc_df$prior)\n",
    "unique(pc_df$aSNR)\n",
    "\n",
    "#set up factors\n",
    "# WARNING: THIS IS CONGRUENT WITH STIM! Doesn't matter if only analyzing correct RT but beware!!!\n",
    "pc_df$congruent <- as.numeric((pc_df$prior==2 & pc_df$isH==1) | (pc_df$prior==-2 & pc_df$isH==0))\n",
    "pc_df$congruent.fs <- factor(pc_df$congruent,levels=c(1,0),\n",
    "                            labels=c(\"congruent\",\"incongruent\"))"
   ]
  },
  {
   "cell_type": "code",
   "execution_count": 4,
   "metadata": {},
   "outputs": [
    {
     "data": {
      "text/html": [
       "<style>\n",
       ".list-inline {list-style: none; margin:0; padding: 0}\n",
       ".list-inline>li {display: inline-block}\n",
       ".list-inline>li:not(:last-child)::after {content: \"\\00b7\"; padding: 0 .5ex}\n",
       "</style>\n",
       "<ol class=list-inline><li>0.05</li><li>0.5</li></ol>\n"
      ],
      "text/latex": [
       "\\begin{enumerate*}\n",
       "\\item 0.05\n",
       "\\item 0.5\n",
       "\\end{enumerate*}\n"
      ],
      "text/markdown": [
       "1. 0.05\n",
       "2. 0.5\n",
       "\n",
       "\n"
      ],
      "text/plain": [
       "[1] 0.05 0.50"
      ]
     },
     "metadata": {},
     "output_type": "display_data"
    },
    {
     "data": {
      "text/html": [
       "<table class=\"dataframe\">\n",
       "<caption>A data.frame: 4 × 4</caption>\n",
       "<thead>\n",
       "\t<tr><th scope=col>congruent</th><th scope=col>isH</th><th scope=col>pretoneSeqisH_1</th><th scope=col>pretoneSeqisH_2</th></tr>\n",
       "\t<tr><th scope=col>&lt;dbl&gt;</th><th scope=col>&lt;int&gt;</th><th scope=col>&lt;int&gt;</th><th scope=col>&lt;int&gt;</th></tr>\n",
       "</thead>\n",
       "<tbody>\n",
       "\t<tr><td>0</td><td>0</td><td>1</td><td>1</td></tr>\n",
       "\t<tr><td>0</td><td>1</td><td>0</td><td>0</td></tr>\n",
       "\t<tr><td>1</td><td>0</td><td>0</td><td>0</td></tr>\n",
       "\t<tr><td>1</td><td>1</td><td>1</td><td>1</td></tr>\n",
       "</tbody>\n",
       "</table>\n"
      ],
      "text/latex": [
       "A data.frame: 4 × 4\n",
       "\\begin{tabular}{llll}\n",
       " congruent & isH & pretoneSeqisH\\_1 & pretoneSeqisH\\_2\\\\\n",
       " <dbl> & <int> & <int> & <int>\\\\\n",
       "\\hline\n",
       "\t 0 & 0 & 1 & 1\\\\\n",
       "\t 0 & 1 & 0 & 0\\\\\n",
       "\t 1 & 0 & 0 & 0\\\\\n",
       "\t 1 & 1 & 1 & 1\\\\\n",
       "\\end{tabular}\n"
      ],
      "text/markdown": [
       "\n",
       "A data.frame: 4 × 4\n",
       "\n",
       "| congruent &lt;dbl&gt; | isH &lt;int&gt; | pretoneSeqisH_1 &lt;int&gt; | pretoneSeqisH_2 &lt;int&gt; |\n",
       "|---|---|---|---|\n",
       "| 0 | 0 | 1 | 1 |\n",
       "| 0 | 1 | 0 | 0 |\n",
       "| 1 | 0 | 0 | 0 |\n",
       "| 1 | 1 | 1 | 1 |\n",
       "\n"
      ],
      "text/plain": [
       "  congruent isH pretoneSeqisH_1 pretoneSeqisH_2\n",
       "1 0         0   1               1              \n",
       "2 0         1   0               0              \n",
       "3 1         0   0               0              \n",
       "4 1         1   1               1              "
      ]
     },
     "metadata": {},
     "output_type": "display_data"
    }
   ],
   "source": [
    "### set up pretone data/variables\n",
    "\n",
    "#compute abs SNR\n",
    "pt_df$aSNR <- abs(pt_df$SNR)\n",
    "\n",
    "#now restrict to min/max SNR trials\n",
    "pt_df <- subset(pt_df,aSNR %in% c(0.05,0.5))\n",
    "unique(pt_df$aSNR)\n",
    "\n",
    "#set up congruent proxy variable\n",
    "# WARNING: THIS IS CONGRUENT WITH STIM! Doesn't matter if only analyzing correct RT but beware!!!\n",
    "pt_df$congruent <- NA\n",
    "attach(pt_df)\n",
    "#setting these differently from pretone_RT_lm for congruence w/ precue and easy removal of mixed pretones\n",
    "pt_df$congruent[(isH==1 & pretoneSeqisH_1==1 & pretoneSeqisH_2==1) | \n",
    "           (isH==0 & pretoneSeqisH_1==0 & pretoneSeqisH_2==0)] <- 1\n",
    "pt_df$congruent[(isH==1 & pretoneSeqisH_1==1 & pretoneSeqisH_2==0) | \n",
    "        (isH==0 & pretoneSeqisH_1==0 & pretoneSeqisH_2==1)] <-  -1 \n",
    "pt_df$congruent[(isH==1 & pretoneSeqisH_1==0 & pretoneSeqisH_2==1) | \n",
    "        (isH==0 & pretoneSeqisH_1==1 & pretoneSeqisH_2==0)] <- -1\n",
    "pt_df$congruent[(isH==0 & pretoneSeqisH_1==1 & pretoneSeqisH_2==1) | \n",
    "                  (isH==1 & pretoneSeqisH_1==0 & pretoneSeqisH_2==0)] <- 0\n",
    "detach(pt_df)\n",
    "#very minor gut check\n",
    "if (any(is.na(pt_df$congruent))) {\n",
    "  warning('Congruent conditions improperly assigned!')\n",
    "}\n",
    "\n",
    "\n",
    "#now remove trials that are not HH/LL (this is a little circuitous but lets me crib from the pretone_RT_lm code)\n",
    "pt_df <- subset(pt_df,congruent %in% c(0,1))\n",
    "\n",
    "con_check <- arrange(unique(pt_df[,c('congruent','isH','pretoneSeqisH_1','pretoneSeqisH_2')]),\n",
    "                     congruent,isH)\n",
    "con_check\n",
    "\n",
    "#set up factors\n",
    "# WARNING: THIS IS CONGRUENT WITH STIM! Doesn't matter if only analyzing correct RT but beware!!!\n",
    "pt_df$congruent.fs <- factor(pt_df$congruent,levels=c(1,0),\n",
    "                            labels=c(\"congruent\",\"incongruent\"))"
   ]
  },
  {
   "cell_type": "markdown",
   "metadata": {},
   "source": [
    "## Choice analysis\n",
    "Is there a 3-way congruent x |SNR| x condition interaction in the choice behavior?\n",
    "\n",
    "Note that to analyze congruence in choice, we use accuracy coding instead of choice coding, as this is equivalent to flipping the low freq pretone choices."
   ]
  },
  {
   "cell_type": "code",
   "execution_count": 5,
   "metadata": {},
   "outputs": [
    {
     "data": {
      "text/html": [
       "<table class=\"dataframe\">\n",
       "<caption>A data.frame: 6 × 7</caption>\n",
       "<thead>\n",
       "\t<tr><th></th><th scope=col>subject</th><th scope=col>optionName</th><th scope=col>trialID</th><th scope=col>aSNR</th><th scope=col>congruent</th><th scope=col>congruent.fs</th><th scope=col>success</th></tr>\n",
       "\t<tr><th></th><th scope=col>&lt;chr&gt;</th><th scope=col>&lt;chr&gt;</th><th scope=col>&lt;int&gt;</th><th scope=col>&lt;dbl&gt;</th><th scope=col>&lt;dbl&gt;</th><th scope=col>&lt;fct&gt;</th><th scope=col>&lt;int&gt;</th></tr>\n",
       "</thead>\n",
       "<tbody>\n",
       "\t<tr><th scope=row>51</th><td>AdL</td><td>priorOnly</td><td>51</td><td>0.50</td><td>1</td><td>congruent  </td><td>1</td></tr>\n",
       "\t<tr><th scope=row>55</th><td>AdL</td><td>priorOnly</td><td>55</td><td>0.50</td><td>1</td><td>congruent  </td><td>1</td></tr>\n",
       "\t<tr><th scope=row>58</th><td>AdL</td><td>priorOnly</td><td>58</td><td>0.05</td><td>1</td><td>congruent  </td><td>1</td></tr>\n",
       "\t<tr><th scope=row>59</th><td>AdL</td><td>priorOnly</td><td>59</td><td>0.50</td><td>0</td><td>incongruent</td><td>1</td></tr>\n",
       "\t<tr><th scope=row>61</th><td>AdL</td><td>priorOnly</td><td>61</td><td>0.05</td><td>1</td><td>congruent  </td><td>1</td></tr>\n",
       "\t<tr><th scope=row>62</th><td>AdL</td><td>priorOnly</td><td>62</td><td>0.50</td><td>1</td><td>congruent  </td><td>1</td></tr>\n",
       "</tbody>\n",
       "</table>\n"
      ],
      "text/latex": [
       "A data.frame: 6 × 7\n",
       "\\begin{tabular}{r|lllllll}\n",
       "  & subject & optionName & trialID & aSNR & congruent & congruent.fs & success\\\\\n",
       "  & <chr> & <chr> & <int> & <dbl> & <dbl> & <fct> & <int>\\\\\n",
       "\\hline\n",
       "\t51 & AdL & priorOnly & 51 & 0.50 & 1 & congruent   & 1\\\\\n",
       "\t55 & AdL & priorOnly & 55 & 0.50 & 1 & congruent   & 1\\\\\n",
       "\t58 & AdL & priorOnly & 58 & 0.05 & 1 & congruent   & 1\\\\\n",
       "\t59 & AdL & priorOnly & 59 & 0.50 & 0 & incongruent & 1\\\\\n",
       "\t61 & AdL & priorOnly & 61 & 0.05 & 1 & congruent   & 1\\\\\n",
       "\t62 & AdL & priorOnly & 62 & 0.50 & 1 & congruent   & 1\\\\\n",
       "\\end{tabular}\n"
      ],
      "text/markdown": [
       "\n",
       "A data.frame: 6 × 7\n",
       "\n",
       "| <!--/--> | subject &lt;chr&gt; | optionName &lt;chr&gt; | trialID &lt;int&gt; | aSNR &lt;dbl&gt; | congruent &lt;dbl&gt; | congruent.fs &lt;fct&gt; | success &lt;int&gt; |\n",
       "|---|---|---|---|---|---|---|---|\n",
       "| 51 | AdL | priorOnly | 51 | 0.50 | 1 | congruent   | 1 |\n",
       "| 55 | AdL | priorOnly | 55 | 0.50 | 1 | congruent   | 1 |\n",
       "| 58 | AdL | priorOnly | 58 | 0.05 | 1 | congruent   | 1 |\n",
       "| 59 | AdL | priorOnly | 59 | 0.50 | 0 | incongruent | 1 |\n",
       "| 61 | AdL | priorOnly | 61 | 0.05 | 1 | congruent   | 1 |\n",
       "| 62 | AdL | priorOnly | 62 | 0.50 | 1 | congruent   | 1 |\n",
       "\n"
      ],
      "text/plain": [
       "   subject optionName trialID aSNR congruent congruent.fs success\n",
       "51 AdL     priorOnly  51      0.50 1         congruent    1      \n",
       "55 AdL     priorOnly  55      0.50 1         congruent    1      \n",
       "58 AdL     priorOnly  58      0.05 1         congruent    1      \n",
       "59 AdL     priorOnly  59      0.50 0         incongruent  1      \n",
       "61 AdL     priorOnly  61      0.05 1         congruent    1      \n",
       "62 AdL     priorOnly  62      0.50 1         congruent    1      "
      ]
     },
     "metadata": {},
     "output_type": "display_data"
    },
    {
     "data": {
      "text/html": [
       "<style>\n",
       ".list-inline {list-style: none; margin:0; padding: 0}\n",
       ".list-inline>li {display: inline-block}\n",
       ".list-inline>li:not(:last-child)::after {content: \"\\00b7\"; padding: 0 .5ex}\n",
       "</style>\n",
       "<ol class=list-inline><li>'priorOnly'</li><li>'pretoneOnly'</li></ol>\n"
      ],
      "text/latex": [
       "\\begin{enumerate*}\n",
       "\\item 'priorOnly'\n",
       "\\item 'pretoneOnly'\n",
       "\\end{enumerate*}\n"
      ],
      "text/markdown": [
       "1. 'priorOnly'\n",
       "2. 'pretoneOnly'\n",
       "\n",
       "\n"
      ],
      "text/plain": [
       "[1] \"priorOnly\"   \"pretoneOnly\""
      ]
     },
     "metadata": {},
     "output_type": "display_data"
    }
   ],
   "source": [
    "#merge\n",
    "\n",
    "keep_vars <- c('subject','optionName','trialID','aSNR','congruent','congruent.fs','success')\n",
    "pct_df <- rbind(pc_df[,keep_vars],pt_df[,keep_vars])\n",
    "head(pct_df)\n",
    "unique(pct_df$optionName)"
   ]
  },
  {
   "cell_type": "code",
   "execution_count": 6,
   "metadata": {},
   "outputs": [
    {
     "data": {
      "text/html": [
       "<table class=\"dataframe\">\n",
       "<caption>A matrix: 2 × 1 of type dbl</caption>\n",
       "<tbody>\n",
       "\t<tr><th scope=row>high</th><td> 1</td></tr>\n",
       "\t<tr><th scope=row>low</th><td>-1</td></tr>\n",
       "</tbody>\n",
       "</table>\n"
      ],
      "text/latex": [
       "A matrix: 2 × 1 of type dbl\n",
       "\\begin{tabular}{r|l}\n",
       "\thigh &  1\\\\\n",
       "\tlow & -1\\\\\n",
       "\\end{tabular}\n"
      ],
      "text/markdown": [
       "\n",
       "A matrix: 2 × 1 of type dbl\n",
       "\n",
       "| high |  1 |\n",
       "| low | -1 |\n",
       "\n"
      ],
      "text/plain": [
       "     [,1]\n",
       "high  1  \n",
       "low  -1  "
      ]
     },
     "metadata": {},
     "output_type": "display_data"
    },
    {
     "data": {
      "text/html": [
       "<table class=\"dataframe\">\n",
       "<caption>A matrix: 2 × 1 of type dbl</caption>\n",
       "<tbody>\n",
       "\t<tr><th scope=row>pretoneOnly</th><td> 1</td></tr>\n",
       "\t<tr><th scope=row>priorOnly</th><td>-1</td></tr>\n",
       "</tbody>\n",
       "</table>\n"
      ],
      "text/latex": [
       "A matrix: 2 × 1 of type dbl\n",
       "\\begin{tabular}{r|l}\n",
       "\tpretoneOnly &  1\\\\\n",
       "\tpriorOnly & -1\\\\\n",
       "\\end{tabular}\n"
      ],
      "text/markdown": [
       "\n",
       "A matrix: 2 × 1 of type dbl\n",
       "\n",
       "| pretoneOnly |  1 |\n",
       "| priorOnly | -1 |\n",
       "\n"
      ],
      "text/plain": [
       "            [,1]\n",
       "pretoneOnly  1  \n",
       "priorOnly   -1  "
      ]
     },
     "metadata": {},
     "output_type": "display_data"
    },
    {
     "data": {
      "text/html": [
       "<table class=\"dataframe\">\n",
       "<caption>A matrix: 2 × 1 of type dbl</caption>\n",
       "<tbody>\n",
       "\t<tr><th scope=row>congruent</th><td> 1</td></tr>\n",
       "\t<tr><th scope=row>incongruent</th><td>-1</td></tr>\n",
       "</tbody>\n",
       "</table>\n"
      ],
      "text/latex": [
       "A matrix: 2 × 1 of type dbl\n",
       "\\begin{tabular}{r|l}\n",
       "\tcongruent &  1\\\\\n",
       "\tincongruent & -1\\\\\n",
       "\\end{tabular}\n"
      ],
      "text/markdown": [
       "\n",
       "A matrix: 2 × 1 of type dbl\n",
       "\n",
       "| congruent |  1 |\n",
       "| incongruent | -1 |\n",
       "\n"
      ],
      "text/plain": [
       "            [,1]\n",
       "congruent    1  \n",
       "incongruent -1  "
      ]
     },
     "metadata": {},
     "output_type": "display_data"
    },
    {
     "data": {
      "text/html": [
       "<table class=\"dataframe\">\n",
       "<caption>A data.frame: 2 × 3</caption>\n",
       "<thead>\n",
       "\t<tr><th></th><th scope=col>aSNR</th><th scope=col>aSNR.fs</th><th scope=col>aSNR.fs1</th></tr>\n",
       "\t<tr><th></th><th scope=col>&lt;dbl&gt;</th><th scope=col>&lt;fct&gt;</th><th scope=col>&lt;dbl&gt;</th></tr>\n",
       "</thead>\n",
       "<tbody>\n",
       "\t<tr><th scope=row>51</th><td>0.50</td><td>high</td><td> 1</td></tr>\n",
       "\t<tr><th scope=row>58</th><td>0.05</td><td>low </td><td>-1</td></tr>\n",
       "</tbody>\n",
       "</table>\n"
      ],
      "text/latex": [
       "A data.frame: 2 × 3\n",
       "\\begin{tabular}{r|lll}\n",
       "  & aSNR & aSNR.fs & aSNR.fs1\\\\\n",
       "  & <dbl> & <fct> & <dbl>\\\\\n",
       "\\hline\n",
       "\t51 & 0.50 & high &  1\\\\\n",
       "\t58 & 0.05 & low  & -1\\\\\n",
       "\\end{tabular}\n"
      ],
      "text/markdown": [
       "\n",
       "A data.frame: 2 × 3\n",
       "\n",
       "| <!--/--> | aSNR &lt;dbl&gt; | aSNR.fs &lt;fct&gt; | aSNR.fs1 &lt;dbl&gt; |\n",
       "|---|---|---|---|\n",
       "| 51 | 0.50 | high |  1 |\n",
       "| 58 | 0.05 | low  | -1 |\n",
       "\n"
      ],
      "text/plain": [
       "   aSNR aSNR.fs aSNR.fs1\n",
       "51 0.50 high     1      \n",
       "58 0.05 low     -1      "
      ]
     },
     "metadata": {},
     "output_type": "display_data"
    },
    {
     "data": {
      "text/html": [
       "<table class=\"dataframe\">\n",
       "<caption>A data.frame: 2 × 3</caption>\n",
       "<thead>\n",
       "\t<tr><th></th><th scope=col>optionName</th><th scope=col>block.fs</th><th scope=col>block.fs1</th></tr>\n",
       "\t<tr><th></th><th scope=col>&lt;chr&gt;</th><th scope=col>&lt;fct&gt;</th><th scope=col>&lt;dbl&gt;</th></tr>\n",
       "</thead>\n",
       "<tbody>\n",
       "\t<tr><th scope=row>51</th><td>priorOnly  </td><td>priorOnly  </td><td>-1</td></tr>\n",
       "\t<tr><th scope=row>3</th><td>pretoneOnly</td><td>pretoneOnly</td><td> 1</td></tr>\n",
       "</tbody>\n",
       "</table>\n"
      ],
      "text/latex": [
       "A data.frame: 2 × 3\n",
       "\\begin{tabular}{r|lll}\n",
       "  & optionName & block.fs & block.fs1\\\\\n",
       "  & <chr> & <fct> & <dbl>\\\\\n",
       "\\hline\n",
       "\t51 & priorOnly   & priorOnly   & -1\\\\\n",
       "\t3 & pretoneOnly & pretoneOnly &  1\\\\\n",
       "\\end{tabular}\n"
      ],
      "text/markdown": [
       "\n",
       "A data.frame: 2 × 3\n",
       "\n",
       "| <!--/--> | optionName &lt;chr&gt; | block.fs &lt;fct&gt; | block.fs1 &lt;dbl&gt; |\n",
       "|---|---|---|---|\n",
       "| 51 | priorOnly   | priorOnly   | -1 |\n",
       "| 3 | pretoneOnly | pretoneOnly |  1 |\n",
       "\n"
      ],
      "text/plain": [
       "   optionName  block.fs    block.fs1\n",
       "51 priorOnly   priorOnly   -1       \n",
       "3  pretoneOnly pretoneOnly  1       "
      ]
     },
     "metadata": {},
     "output_type": "display_data"
    },
    {
     "data": {
      "text/html": [
       "<table class=\"dataframe\">\n",
       "<caption>A data.frame: 2 × 3</caption>\n",
       "<thead>\n",
       "\t<tr><th></th><th scope=col>congruent</th><th scope=col>congruent.fs</th><th scope=col>congruent.fs1</th></tr>\n",
       "\t<tr><th></th><th scope=col>&lt;dbl&gt;</th><th scope=col>&lt;fct&gt;</th><th scope=col>&lt;dbl&gt;</th></tr>\n",
       "</thead>\n",
       "<tbody>\n",
       "\t<tr><th scope=row>51</th><td>1</td><td>congruent  </td><td> 1</td></tr>\n",
       "\t<tr><th scope=row>59</th><td>0</td><td>incongruent</td><td>-1</td></tr>\n",
       "</tbody>\n",
       "</table>\n"
      ],
      "text/latex": [
       "A data.frame: 2 × 3\n",
       "\\begin{tabular}{r|lll}\n",
       "  & congruent & congruent.fs & congruent.fs1\\\\\n",
       "  & <dbl> & <fct> & <dbl>\\\\\n",
       "\\hline\n",
       "\t51 & 1 & congruent   &  1\\\\\n",
       "\t59 & 0 & incongruent & -1\\\\\n",
       "\\end{tabular}\n"
      ],
      "text/markdown": [
       "\n",
       "A data.frame: 2 × 3\n",
       "\n",
       "| <!--/--> | congruent &lt;dbl&gt; | congruent.fs &lt;fct&gt; | congruent.fs1 &lt;dbl&gt; |\n",
       "|---|---|---|---|\n",
       "| 51 | 1 | congruent   |  1 |\n",
       "| 59 | 0 | incongruent | -1 |\n",
       "\n"
      ],
      "text/plain": [
       "   congruent congruent.fs congruent.fs1\n",
       "51 1         congruent     1           \n",
       "59 0         incongruent  -1           "
      ]
     },
     "metadata": {},
     "output_type": "display_data"
    }
   ],
   "source": [
    "#set up variables/contrasts\n",
    "pct_df$aSNR.fs <- factor(pct_df$aSNR,levels=c(0.5,0.05),\n",
    "                            labels=c(\"high\",\"low\"))\n",
    "contrasts(pct_df$aSNR.fs) <- contr.sum(2)\n",
    "contrasts(pct_df$aSNR.fs)\n",
    "\n",
    "pct_df$block.fs <- factor(pct_df$optionName,levels=c('pretoneOnly','priorOnly'))\n",
    "contrasts(pct_df$block.fs) <- contr.sum(2)\n",
    "contrasts(pct_df$block.fs)\n",
    "\n",
    "#seems like factor coding gets lost after rbind...phooey\n",
    "contrasts(pct_df$congruent.fs) <- contr.sum(2)\n",
    "contrasts(pct_df$congruent.fs)\n",
    "\n",
    "#extract for zero-corr model\n",
    "pct_df[,c('aSNR.fs1')] <- \n",
    "  model.matrix(~1+pct_df$aSNR.fs,pct_df)[,2]\n",
    "unique(pct_df[,c('aSNR','aSNR.fs','aSNR.fs1')])\n",
    "\n",
    "pct_df[,c('block.fs1')] <- \n",
    "  model.matrix(~1+pct_df$block.fs,pct_df)[,2]\n",
    "unique(pct_df[,c('optionName','block.fs','block.fs1')])\n",
    "\n",
    "pct_df[,c('congruent.fs1')] <- \n",
    "  model.matrix(~1+pct_df$congruent.fs,pct_df)[,2]\n",
    "unique(pct_df[,c('congruent','congruent.fs','congruent.fs1')])"
   ]
  },
  {
   "cell_type": "markdown",
   "metadata": {},
   "source": [
    "### congruency interaction model"
   ]
  },
  {
   "cell_type": "code",
   "execution_count": 7,
   "metadata": {},
   "outputs": [
    {
     "name": "stderr",
     "output_type": "stream",
     "text": [
      "boundary (singular) fit: see ?isSingular\n",
      "\n"
     ]
    }
   ],
   "source": [
    "#full model\n",
    "ccon.lm.0 <- glmer(success~aSNR.fs*congruent.fs*block.fs + (1+aSNR.fs*congruent.fs*block.fs|subject), \n",
    "                 data=pct_df,family=binomial, \n",
    "                 control=glmerControl(optimizer=\"bobyqa\",optCtrl=list(maxfun=2e5)))"
   ]
  },
  {
   "cell_type": "code",
   "execution_count": 8,
   "metadata": {},
   "outputs": [],
   "source": [
    "#zero corr model converges\n",
    "#FINAL\n",
    "ccon.lm.0nc <- glmer(success~aSNR.fs*congruent.fs*block.fs + (1+aSNR.fs1*congruent.fs1*block.fs1||subject), \n",
    "                 data=pct_df,family=binomial, \n",
    "                 control=glmerControl(optimizer=\"bobyqa\",optCtrl=list(maxfun=2e5)))"
   ]
  },
  {
   "cell_type": "code",
   "execution_count": 14,
   "metadata": {},
   "outputs": [
    {
     "data": {
      "text/html": [
       "<table class=\"dataframe\">\n",
       "<caption>A anova: 8 × 3</caption>\n",
       "<thead>\n",
       "\t<tr><th></th><th scope=col>Chisq</th><th scope=col>Df</th><th scope=col>Pr(&gt;Chisq)</th></tr>\n",
       "\t<tr><th></th><th scope=col>&lt;dbl&gt;</th><th scope=col>&lt;dbl&gt;</th><th scope=col>&lt;dbl&gt;</th></tr>\n",
       "</thead>\n",
       "<tbody>\n",
       "\t<tr><th scope=row>(Intercept)</th><td>257.3059752</td><td>1</td><td>6.633775e-58</td></tr>\n",
       "\t<tr><th scope=row>aSNR.fs</th><td>285.2384973</td><td>1</td><td>5.420930e-64</td></tr>\n",
       "\t<tr><th scope=row>congruent.fs</th><td>141.1149396</td><td>1</td><td>1.518479e-32</td></tr>\n",
       "\t<tr><th scope=row>block.fs</th><td>  0.2257891</td><td>1</td><td>6.346639e-01</td></tr>\n",
       "\t<tr><th scope=row>aSNR.fs:congruent.fs</th><td> 57.4028049</td><td>1</td><td>3.551005e-14</td></tr>\n",
       "\t<tr><th scope=row>aSNR.fs:block.fs</th><td>  2.6967650</td><td>1</td><td>1.005521e-01</td></tr>\n",
       "\t<tr><th scope=row>congruent.fs:block.fs</th><td> 65.8283262</td><td>1</td><td>4.919607e-16</td></tr>\n",
       "\t<tr><th scope=row>aSNR.fs:congruent.fs:block.fs</th><td> 10.8166249</td><td>1</td><td>1.005927e-03</td></tr>\n",
       "</tbody>\n",
       "</table>\n"
      ],
      "text/latex": [
       "A anova: 8 × 3\n",
       "\\begin{tabular}{r|lll}\n",
       "  & Chisq & Df & Pr(>Chisq)\\\\\n",
       "  & <dbl> & <dbl> & <dbl>\\\\\n",
       "\\hline\n",
       "\t(Intercept) & 257.3059752 & 1 & 6.633775e-58\\\\\n",
       "\taSNR.fs & 285.2384973 & 1 & 5.420930e-64\\\\\n",
       "\tcongruent.fs & 141.1149396 & 1 & 1.518479e-32\\\\\n",
       "\tblock.fs &   0.2257891 & 1 & 6.346639e-01\\\\\n",
       "\taSNR.fs:congruent.fs &  57.4028049 & 1 & 3.551005e-14\\\\\n",
       "\taSNR.fs:block.fs &   2.6967650 & 1 & 1.005521e-01\\\\\n",
       "\tcongruent.fs:block.fs &  65.8283262 & 1 & 4.919607e-16\\\\\n",
       "\taSNR.fs:congruent.fs:block.fs &  10.8166249 & 1 & 1.005927e-03\\\\\n",
       "\\end{tabular}\n"
      ],
      "text/markdown": [
       "\n",
       "A anova: 8 × 3\n",
       "\n",
       "| <!--/--> | Chisq &lt;dbl&gt; | Df &lt;dbl&gt; | Pr(&gt;Chisq) &lt;dbl&gt; |\n",
       "|---|---|---|---|\n",
       "| (Intercept) | 257.3059752 | 1 | 6.633775e-58 |\n",
       "| aSNR.fs | 285.2384973 | 1 | 5.420930e-64 |\n",
       "| congruent.fs | 141.1149396 | 1 | 1.518479e-32 |\n",
       "| block.fs |   0.2257891 | 1 | 6.346639e-01 |\n",
       "| aSNR.fs:congruent.fs |  57.4028049 | 1 | 3.551005e-14 |\n",
       "| aSNR.fs:block.fs |   2.6967650 | 1 | 1.005521e-01 |\n",
       "| congruent.fs:block.fs |  65.8283262 | 1 | 4.919607e-16 |\n",
       "| aSNR.fs:congruent.fs:block.fs |  10.8166249 | 1 | 1.005927e-03 |\n",
       "\n"
      ],
      "text/plain": [
       "                              Chisq       Df Pr(>Chisq)  \n",
       "(Intercept)                   257.3059752 1  6.633775e-58\n",
       "aSNR.fs                       285.2384973 1  5.420930e-64\n",
       "congruent.fs                  141.1149396 1  1.518479e-32\n",
       "block.fs                        0.2257891 1  6.346639e-01\n",
       "aSNR.fs:congruent.fs           57.4028049 1  3.551005e-14\n",
       "aSNR.fs:block.fs                2.6967650 1  1.005521e-01\n",
       "congruent.fs:block.fs          65.8283262 1  4.919607e-16\n",
       "aSNR.fs:congruent.fs:block.fs  10.8166249 1  1.005927e-03"
      ]
     },
     "metadata": {},
     "output_type": "display_data"
    },
    {
     "data": {
      "text/plain": [
       "Generalized linear mixed model fit by maximum likelihood (Laplace\n",
       "  Approximation) [glmerMod]\n",
       " Family: binomial  ( logit )\n",
       "Formula: success ~ aSNR.fs * congruent.fs * block.fs + (1 + aSNR.fs1 *  \n",
       "    congruent.fs1 * block.fs1 || subject)\n",
       "   Data: pct_df\n",
       "Control: glmerControl(optimizer = \"bobyqa\", optCtrl = list(maxfun = 2e+05))\n",
       "\n",
       "     AIC      BIC   logLik deviance df.resid \n",
       " 11854.6  11978.0  -5911.3  11822.6    16471 \n",
       "\n",
       "Scaled residuals: \n",
       "     Min       1Q   Median       3Q      Max \n",
       "-11.0738   0.0694   0.1706   0.4308   3.1080 \n",
       "\n",
       "Random effects:\n",
       " Groups    Name                             Variance Std.Dev.\n",
       " subject   (Intercept)                      0.45875  0.6773  \n",
       " subject.1 aSNR.fs1                         0.35254  0.5937  \n",
       " subject.2 congruent.fs1                    0.15476  0.3934  \n",
       " subject.3 block.fs1                        0.02218  0.1489  \n",
       " subject.4 aSNR.fs1:congruent.fs1           0.09374  0.3062  \n",
       " subject.5 aSNR.fs1:block.fs1               0.03023  0.1739  \n",
       " subject.6 congruent.fs1:block.fs1          0.05305  0.2303  \n",
       " subject.7 aSNR.fs1:congruent.fs1:block.fs1 0.05624  0.2371  \n",
       "Number of obs: 16487, groups:  subject, 50\n",
       "\n",
       "Fixed effects:\n",
       "                                 Estimate Std. Error z value Pr(>|z|)    \n",
       "(Intercept)                       1.68502    0.10505  16.041  < 2e-16 ***\n",
       "aSNR.fs1                          1.59767    0.09460  16.889  < 2e-16 ***\n",
       "congruent.fs1                     0.79811    0.06719  11.879  < 2e-16 ***\n",
       "block.fs1                        -0.01931    0.04063  -0.475  0.63466    \n",
       "aSNR.fs1:congruent.fs1           -0.43402    0.05729  -7.576 3.55e-14 ***\n",
       "aSNR.fs1:block.fs1               -0.07002    0.04264  -1.642  0.10055    \n",
       "congruent.fs1:block.fs1          -0.39793    0.04905  -8.113 4.92e-16 ***\n",
       "aSNR.fs1:congruent.fs1:block.fs1 -0.16298    0.04956  -3.289  0.00101 ** \n",
       "---\n",
       "Signif. codes:  0 '***' 0.001 '**' 0.01 '*' 0.05 '.' 0.1 ' ' 1\n",
       "\n",
       "Correlation of Fixed Effects:\n",
       "             (Intr) aSNR.f1 cngr.1 blck.1 aSNR.fs1:c.1 aSNR.fs1:b.1 c.1:.1\n",
       "aSNR.fs1      0.125                                                       \n",
       "congrnt.fs1  -0.021  0.010                                                \n",
       "block.fs1    -0.011  0.004   0.027                                        \n",
       "aSNR.fs1:c.1  0.001 -0.037   0.193 -0.068                                 \n",
       "aSNR.fs1:b.1 -0.002 -0.013  -0.052  0.342  0.028                          \n",
       "cngrnt.1:.1   0.001 -0.048  -0.015 -0.087 -0.003        0.013             \n",
       "aSNR.1:.1:.  -0.043  0.000  -0.003  0.014 -0.020       -0.073        0.288"
      ]
     },
     "metadata": {},
     "output_type": "display_data"
    }
   ],
   "source": [
    "#FINAL\n",
    "\n",
    "Anova(ccon.lm.0nc,type=\"III\")\n",
    "summary(ccon.lm.0nc)"
   ]
  },
  {
   "cell_type": "markdown",
   "metadata": {},
   "source": [
    "## RT analysis\n",
    "\n",
    "Is there a 3-way congruent x |SNR| x condition interaction in RTs?"
   ]
  },
  {
   "cell_type": "code",
   "execution_count": 21,
   "metadata": {},
   "outputs": [
    {
     "name": "stderr",
     "output_type": "stream",
     "text": [
      "`summarise()` regrouping output by 'subject', 'optionName', 'aSNR', 'isH', 'prior', 'congruent' (override with `.groups` argument)\n",
      "\n",
      "`summarise()` regrouping output by 'subject', 'optionName', 'aSNR', 'congruent', 'congruent.fs', 'isH', 'pretoneSeqisH_1' (override with `.groups` argument)\n",
      "\n"
     ]
    },
    {
     "data": {
      "text/html": [
       "<table class=\"dataframe\">\n",
       "<caption>A grouped_df: 6 × 7</caption>\n",
       "<thead>\n",
       "\t<tr><th scope=col>subject</th><th scope=col>optionName</th><th scope=col>aSNR</th><th scope=col>isH</th><th scope=col>congruent</th><th scope=col>congruent.fs</th><th scope=col>RT</th></tr>\n",
       "\t<tr><th scope=col>&lt;chr&gt;</th><th scope=col>&lt;chr&gt;</th><th scope=col>&lt;dbl&gt;</th><th scope=col>&lt;int&gt;</th><th scope=col>&lt;dbl&gt;</th><th scope=col>&lt;fct&gt;</th><th scope=col>&lt;dbl&gt;</th></tr>\n",
       "</thead>\n",
       "<tbody>\n",
       "\t<tr><td>AdL</td><td>priorOnly</td><td>0.05</td><td>0</td><td>1</td><td>congruent  </td><td> 557.0204</td></tr>\n",
       "\t<tr><td>AdL</td><td>priorOnly</td><td>0.05</td><td>0</td><td>0</td><td>incongruent</td><td>1049.4183</td></tr>\n",
       "\t<tr><td>AdL</td><td>priorOnly</td><td>0.05</td><td>1</td><td>0</td><td>incongruent</td><td> 449.0412</td></tr>\n",
       "\t<tr><td>AdL</td><td>priorOnly</td><td>0.05</td><td>1</td><td>1</td><td>congruent  </td><td> 370.9620</td></tr>\n",
       "\t<tr><td>AdL</td><td>priorOnly</td><td>0.50</td><td>0</td><td>1</td><td>congruent  </td><td> 530.8959</td></tr>\n",
       "\t<tr><td>AdL</td><td>priorOnly</td><td>0.50</td><td>0</td><td>0</td><td>incongruent</td><td> 827.8666</td></tr>\n",
       "</tbody>\n",
       "</table>\n"
      ],
      "text/latex": [
       "A grouped\\_df: 6 × 7\n",
       "\\begin{tabular}{lllllll}\n",
       " subject & optionName & aSNR & isH & congruent & congruent.fs & RT\\\\\n",
       " <chr> & <chr> & <dbl> & <int> & <dbl> & <fct> & <dbl>\\\\\n",
       "\\hline\n",
       "\t AdL & priorOnly & 0.05 & 0 & 1 & congruent   &  557.0204\\\\\n",
       "\t AdL & priorOnly & 0.05 & 0 & 0 & incongruent & 1049.4183\\\\\n",
       "\t AdL & priorOnly & 0.05 & 1 & 0 & incongruent &  449.0412\\\\\n",
       "\t AdL & priorOnly & 0.05 & 1 & 1 & congruent   &  370.9620\\\\\n",
       "\t AdL & priorOnly & 0.50 & 0 & 1 & congruent   &  530.8959\\\\\n",
       "\t AdL & priorOnly & 0.50 & 0 & 0 & incongruent &  827.8666\\\\\n",
       "\\end{tabular}\n"
      ],
      "text/markdown": [
       "\n",
       "A grouped_df: 6 × 7\n",
       "\n",
       "| subject &lt;chr&gt; | optionName &lt;chr&gt; | aSNR &lt;dbl&gt; | isH &lt;int&gt; | congruent &lt;dbl&gt; | congruent.fs &lt;fct&gt; | RT &lt;dbl&gt; |\n",
       "|---|---|---|---|---|---|---|\n",
       "| AdL | priorOnly | 0.05 | 0 | 1 | congruent   |  557.0204 |\n",
       "| AdL | priorOnly | 0.05 | 0 | 0 | incongruent | 1049.4183 |\n",
       "| AdL | priorOnly | 0.05 | 1 | 0 | incongruent |  449.0412 |\n",
       "| AdL | priorOnly | 0.05 | 1 | 1 | congruent   |  370.9620 |\n",
       "| AdL | priorOnly | 0.50 | 0 | 1 | congruent   |  530.8959 |\n",
       "| AdL | priorOnly | 0.50 | 0 | 0 | incongruent |  827.8666 |\n",
       "\n"
      ],
      "text/plain": [
       "  subject optionName aSNR isH congruent congruent.fs RT       \n",
       "1 AdL     priorOnly  0.05 0   1         congruent     557.0204\n",
       "2 AdL     priorOnly  0.05 0   0         incongruent  1049.4183\n",
       "3 AdL     priorOnly  0.05 1   0         incongruent   449.0412\n",
       "4 AdL     priorOnly  0.05 1   1         congruent     370.9620\n",
       "5 AdL     priorOnly  0.50 0   1         congruent     530.8959\n",
       "6 AdL     priorOnly  0.50 0   0         incongruent   827.8666"
      ]
     },
     "metadata": {},
     "output_type": "display_data"
    },
    {
     "data": {
      "text/html": [
       "<style>\n",
       ".list-inline {list-style: none; margin:0; padding: 0}\n",
       ".list-inline>li {display: inline-block}\n",
       ".list-inline>li:not(:last-child)::after {content: \"\\00b7\"; padding: 0 .5ex}\n",
       "</style>\n",
       "<ol class=list-inline><li>'priorOnly'</li><li>'pretoneOnly'</li></ol>\n"
      ],
      "text/latex": [
       "\\begin{enumerate*}\n",
       "\\item 'priorOnly'\n",
       "\\item 'pretoneOnly'\n",
       "\\end{enumerate*}\n"
      ],
      "text/markdown": [
       "1. 'priorOnly'\n",
       "2. 'pretoneOnly'\n",
       "\n",
       "\n"
      ],
      "text/plain": [
       "[1] \"priorOnly\"   \"pretoneOnly\""
      ]
     },
     "metadata": {},
     "output_type": "display_data"
    }
   ],
   "source": [
    "# compute medians for analysis and merge data [restricting to correct trials]\n",
    "\n",
    "pc_df.med <- summarise(group_by(subset(pc_df,success==1),\n",
    "                                subject,optionName,aSNR,isH,prior,congruent,congruent.fs),RT=median(RT))\n",
    "pt_df.med <- summarise(group_by(subset(pt_df,success==1),\n",
    "                                subject,optionName,aSNR,congruent,congruent.fs,isH,pretoneSeqisH_1,pretoneSeqisH_2),\n",
    "                        RT=median(RT))\n",
    "\n",
    "#keep_vars <- c('subject','optionName','trialID','SNR','aSNR','isH','congruent','congruent.fs','success','RT','choice01')\n",
    "keep_vars <- c('subject','optionName','aSNR','isH','congruent','congruent.fs','RT')\n",
    "pct_df.med <- rbind(pc_df.med[,keep_vars],pt_df.med[,keep_vars])\n",
    "head(pct_df.med)\n",
    "unique(pct_df.med$optionName)"
   ]
  },
  {
   "cell_type": "code",
   "execution_count": 22,
   "metadata": {},
   "outputs": [
    {
     "data": {
      "text/html": [
       "<table class=\"dataframe\">\n",
       "<caption>A matrix: 2 × 1 of type dbl</caption>\n",
       "<tbody>\n",
       "\t<tr><th scope=row>high</th><td> 1</td></tr>\n",
       "\t<tr><th scope=row>low</th><td>-1</td></tr>\n",
       "</tbody>\n",
       "</table>\n"
      ],
      "text/latex": [
       "A matrix: 2 × 1 of type dbl\n",
       "\\begin{tabular}{r|l}\n",
       "\thigh &  1\\\\\n",
       "\tlow & -1\\\\\n",
       "\\end{tabular}\n"
      ],
      "text/markdown": [
       "\n",
       "A matrix: 2 × 1 of type dbl\n",
       "\n",
       "| high |  1 |\n",
       "| low | -1 |\n",
       "\n"
      ],
      "text/plain": [
       "     [,1]\n",
       "high  1  \n",
       "low  -1  "
      ]
     },
     "metadata": {},
     "output_type": "display_data"
    },
    {
     "data": {
      "text/html": [
       "<table class=\"dataframe\">\n",
       "<caption>A matrix: 2 × 1 of type dbl</caption>\n",
       "<tbody>\n",
       "\t<tr><th scope=row>pretoneOnly</th><td> 1</td></tr>\n",
       "\t<tr><th scope=row>priorOnly</th><td>-1</td></tr>\n",
       "</tbody>\n",
       "</table>\n"
      ],
      "text/latex": [
       "A matrix: 2 × 1 of type dbl\n",
       "\\begin{tabular}{r|l}\n",
       "\tpretoneOnly &  1\\\\\n",
       "\tpriorOnly & -1\\\\\n",
       "\\end{tabular}\n"
      ],
      "text/markdown": [
       "\n",
       "A matrix: 2 × 1 of type dbl\n",
       "\n",
       "| pretoneOnly |  1 |\n",
       "| priorOnly | -1 |\n",
       "\n"
      ],
      "text/plain": [
       "            [,1]\n",
       "pretoneOnly  1  \n",
       "priorOnly   -1  "
      ]
     },
     "metadata": {},
     "output_type": "display_data"
    },
    {
     "data": {
      "text/html": [
       "<table class=\"dataframe\">\n",
       "<caption>A matrix: 2 × 1 of type dbl</caption>\n",
       "<tbody>\n",
       "\t<tr><th scope=row>congruent</th><td> 1</td></tr>\n",
       "\t<tr><th scope=row>incongruent</th><td>-1</td></tr>\n",
       "</tbody>\n",
       "</table>\n"
      ],
      "text/latex": [
       "A matrix: 2 × 1 of type dbl\n",
       "\\begin{tabular}{r|l}\n",
       "\tcongruent &  1\\\\\n",
       "\tincongruent & -1\\\\\n",
       "\\end{tabular}\n"
      ],
      "text/markdown": [
       "\n",
       "A matrix: 2 × 1 of type dbl\n",
       "\n",
       "| congruent |  1 |\n",
       "| incongruent | -1 |\n",
       "\n"
      ],
      "text/plain": [
       "            [,1]\n",
       "congruent    1  \n",
       "incongruent -1  "
      ]
     },
     "metadata": {},
     "output_type": "display_data"
    },
    {
     "data": {
      "text/html": [
       "<table class=\"dataframe\">\n",
       "<caption>A grouped_df: 2 × 3</caption>\n",
       "<thead>\n",
       "\t<tr><th scope=col>aSNR</th><th scope=col>aSNR.fs</th><th scope=col>aSNR.fs1</th></tr>\n",
       "\t<tr><th scope=col>&lt;dbl&gt;</th><th scope=col>&lt;fct&gt;</th><th scope=col>&lt;dbl&gt;</th></tr>\n",
       "</thead>\n",
       "<tbody>\n",
       "\t<tr><td>0.05</td><td>low </td><td>-1</td></tr>\n",
       "\t<tr><td>0.50</td><td>high</td><td> 1</td></tr>\n",
       "</tbody>\n",
       "</table>\n"
      ],
      "text/latex": [
       "A grouped\\_df: 2 × 3\n",
       "\\begin{tabular}{lll}\n",
       " aSNR & aSNR.fs & aSNR.fs1\\\\\n",
       " <dbl> & <fct> & <dbl>\\\\\n",
       "\\hline\n",
       "\t 0.05 & low  & -1\\\\\n",
       "\t 0.50 & high &  1\\\\\n",
       "\\end{tabular}\n"
      ],
      "text/markdown": [
       "\n",
       "A grouped_df: 2 × 3\n",
       "\n",
       "| aSNR &lt;dbl&gt; | aSNR.fs &lt;fct&gt; | aSNR.fs1 &lt;dbl&gt; |\n",
       "|---|---|---|\n",
       "| 0.05 | low  | -1 |\n",
       "| 0.50 | high |  1 |\n",
       "\n"
      ],
      "text/plain": [
       "  aSNR aSNR.fs aSNR.fs1\n",
       "1 0.05 low     -1      \n",
       "2 0.50 high     1      "
      ]
     },
     "metadata": {},
     "output_type": "display_data"
    },
    {
     "data": {
      "text/html": [
       "<table class=\"dataframe\">\n",
       "<caption>A grouped_df: 2 × 3</caption>\n",
       "<thead>\n",
       "\t<tr><th scope=col>optionName</th><th scope=col>block.fs</th><th scope=col>block.fs1</th></tr>\n",
       "\t<tr><th scope=col>&lt;chr&gt;</th><th scope=col>&lt;fct&gt;</th><th scope=col>&lt;dbl&gt;</th></tr>\n",
       "</thead>\n",
       "<tbody>\n",
       "\t<tr><td>priorOnly  </td><td>priorOnly  </td><td>-1</td></tr>\n",
       "\t<tr><td>pretoneOnly</td><td>pretoneOnly</td><td> 1</td></tr>\n",
       "</tbody>\n",
       "</table>\n"
      ],
      "text/latex": [
       "A grouped\\_df: 2 × 3\n",
       "\\begin{tabular}{lll}\n",
       " optionName & block.fs & block.fs1\\\\\n",
       " <chr> & <fct> & <dbl>\\\\\n",
       "\\hline\n",
       "\t priorOnly   & priorOnly   & -1\\\\\n",
       "\t pretoneOnly & pretoneOnly &  1\\\\\n",
       "\\end{tabular}\n"
      ],
      "text/markdown": [
       "\n",
       "A grouped_df: 2 × 3\n",
       "\n",
       "| optionName &lt;chr&gt; | block.fs &lt;fct&gt; | block.fs1 &lt;dbl&gt; |\n",
       "|---|---|---|\n",
       "| priorOnly   | priorOnly   | -1 |\n",
       "| pretoneOnly | pretoneOnly |  1 |\n",
       "\n"
      ],
      "text/plain": [
       "  optionName  block.fs    block.fs1\n",
       "1 priorOnly   priorOnly   -1       \n",
       "2 pretoneOnly pretoneOnly  1       "
      ]
     },
     "metadata": {},
     "output_type": "display_data"
    },
    {
     "data": {
      "text/html": [
       "<table class=\"dataframe\">\n",
       "<caption>A grouped_df: 2 × 3</caption>\n",
       "<thead>\n",
       "\t<tr><th scope=col>congruent</th><th scope=col>congruent.fs</th><th scope=col>congruent.fs1</th></tr>\n",
       "\t<tr><th scope=col>&lt;dbl&gt;</th><th scope=col>&lt;fct&gt;</th><th scope=col>&lt;dbl&gt;</th></tr>\n",
       "</thead>\n",
       "<tbody>\n",
       "\t<tr><td>1</td><td>congruent  </td><td> 1</td></tr>\n",
       "\t<tr><td>0</td><td>incongruent</td><td>-1</td></tr>\n",
       "</tbody>\n",
       "</table>\n"
      ],
      "text/latex": [
       "A grouped\\_df: 2 × 3\n",
       "\\begin{tabular}{lll}\n",
       " congruent & congruent.fs & congruent.fs1\\\\\n",
       " <dbl> & <fct> & <dbl>\\\\\n",
       "\\hline\n",
       "\t 1 & congruent   &  1\\\\\n",
       "\t 0 & incongruent & -1\\\\\n",
       "\\end{tabular}\n"
      ],
      "text/markdown": [
       "\n",
       "A grouped_df: 2 × 3\n",
       "\n",
       "| congruent &lt;dbl&gt; | congruent.fs &lt;fct&gt; | congruent.fs1 &lt;dbl&gt; |\n",
       "|---|---|---|\n",
       "| 1 | congruent   |  1 |\n",
       "| 0 | incongruent | -1 |\n",
       "\n"
      ],
      "text/plain": [
       "  congruent congruent.fs congruent.fs1\n",
       "1 1         congruent     1           \n",
       "2 0         incongruent  -1           "
      ]
     },
     "metadata": {},
     "output_type": "display_data"
    }
   ],
   "source": [
    "#set up variables\n",
    "\n",
    "pct_df.med$aSNR.fs <- factor(pct_df.med$aSNR,levels=c(0.5,0.05),\n",
    "                            labels=c(\"high\",\"low\"))\n",
    "contrasts(pct_df.med$aSNR.fs) <- contr.sum(2)\n",
    "contrasts(pct_df.med$aSNR.fs)\n",
    "\n",
    "pct_df.med$block.fs <- factor(pct_df.med$optionName,levels=c('pretoneOnly','priorOnly'))\n",
    "contrasts(pct_df.med$block.fs) <- contr.sum(2)\n",
    "contrasts(pct_df.med$block.fs)\n",
    "\n",
    "#seems like factor coding gets destroyed afer rbind...\n",
    "contrasts(pct_df.med$congruent.fs) <- contr.sum(2)\n",
    "contrasts(pct_df.med$congruent.fs)\n",
    "\n",
    "#extract for zero-corr model\n",
    "pct_df.med[,c('aSNR.fs1')] <- \n",
    "  model.matrix(~1+pct_df.med$aSNR.fs,pct_df.med)[,2]\n",
    "unique(pct_df.med[,c('aSNR','aSNR.fs','aSNR.fs1')])\n",
    "\n",
    "pct_df.med[,c('block.fs1')] <- \n",
    "  model.matrix(~1+pct_df.med$block.fs,pct_df.med)[,2]\n",
    "unique(pct_df.med[,c('optionName','block.fs','block.fs1')])\n",
    "\n",
    "pct_df.med[,c('congruent.fs1')] <- \n",
    "  model.matrix(~1+pct_df.med$congruent.fs,pct_df.med)[,2]\n",
    "unique(pct_df.med[,c('congruent','congruent.fs','congruent.fs1')])\n"
   ]
  },
  {
   "cell_type": "markdown",
   "metadata": {},
   "source": [
    "### congruency interaction model"
   ]
  },
  {
   "cell_type": "code",
   "execution_count": 23,
   "metadata": {},
   "outputs": [
    {
     "name": "stderr",
     "output_type": "stream",
     "text": [
      "boundary (singular) fit: see ?isSingular\n",
      "\n"
     ]
    }
   ],
   "source": [
    "#full model\n",
    "rtccon.lm.0 <- lmer(RT~aSNR.fs*congruent.fs*block.fs + (1+aSNR.fs*congruent.fs*block.fs|subject), \n",
    "                 data=pct_df.med, \n",
    "                 control=lmerControl(optimizer=\"bobyqa\",optCtrl=list(maxfun=2e5)))"
   ]
  },
  {
   "cell_type": "code",
   "execution_count": 24,
   "metadata": {},
   "outputs": [
    {
     "name": "stderr",
     "output_type": "stream",
     "text": [
      "boundary (singular) fit: see ?isSingular\n",
      "\n"
     ]
    }
   ],
   "source": [
    "#zero corr model\n",
    "rtccon.lm.0nc <- lmer(RT~aSNR.fs*congruent.fs*block.fs + (1+aSNR.fs1*congruent.fs1*block.fs1||subject), \n",
    "                    data=pct_df.med, \n",
    "                    control=lmerControl(optimizer=\"bobyqa\",optCtrl=list(maxfun=2e5)))"
   ]
  },
  {
   "cell_type": "code",
   "execution_count": 25,
   "metadata": {},
   "outputs": [
    {
     "name": "stderr",
     "output_type": "stream",
     "text": [
      "boundary (singular) fit: see ?isSingular\n",
      "\n"
     ]
    }
   ],
   "source": [
    "#no 3-way, w/ corr (nope)\n",
    "rtccon.lm.1 <- lmer(RT~aSNR.fs1*congruent.fs*block.fs + \n",
    "                      (1+aSNR.fs*congruent.fs + congruent.fs*block.fs + aSNR.fs*block.fs|subject), \n",
    "                    data=pct_df.med, \n",
    "                    control=lmerControl(optimizer=\"bobyqa\",optCtrl=list(maxfun=2e5)))"
   ]
  },
  {
   "cell_type": "code",
   "execution_count": 26,
   "metadata": {},
   "outputs": [],
   "source": [
    "#FINAL\n",
    "#no 3-way, zero corr converges!\n",
    "rtccon.lm.1nc <- lmer(RT~aSNR.fs*congruent.fs*block.fs + \n",
    "                      (1+aSNR.fs1*congruent.fs1 + congruent.fs1*block.fs1 + aSNR.fs1*block.fs1||subject), \n",
    "                    data=pct_df.med, \n",
    "                    control=lmerControl(optimizer=\"bobyqa\",optCtrl=list(maxfun=2e5)))"
   ]
  },
  {
   "cell_type": "code",
   "execution_count": 36,
   "metadata": {},
   "outputs": [
    {
     "data": {
      "text/html": [
       "<table class=\"dataframe\">\n",
       "<caption>A anova: 8 × 4</caption>\n",
       "<thead>\n",
       "\t<tr><th></th><th scope=col>F</th><th scope=col>Df</th><th scope=col>Df.res</th><th scope=col>Pr(&gt;F)</th></tr>\n",
       "\t<tr><th></th><th scope=col>&lt;dbl&gt;</th><th scope=col>&lt;dbl&gt;</th><th scope=col>&lt;dbl&gt;</th><th scope=col>&lt;dbl&gt;</th></tr>\n",
       "</thead>\n",
       "<tbody>\n",
       "\t<tr><th scope=row>(Intercept)</th><td>1779.810237</td><td>1</td><td> 48.79954</td><td>4.603624e-40</td></tr>\n",
       "\t<tr><th scope=row>aSNR.fs</th><td>  74.781246</td><td>1</td><td> 48.68139</td><td>2.097209e-11</td></tr>\n",
       "\t<tr><th scope=row>congruent.fs</th><td>  48.963248</td><td>1</td><td> 47.83592</td><td>7.549891e-09</td></tr>\n",
       "\t<tr><th scope=row>block.fs</th><td> 161.491291</td><td>1</td><td> 45.20722</td><td>1.591030e-16</td></tr>\n",
       "\t<tr><th scope=row>aSNR.fs:congruent.fs</th><td>  42.934027</td><td>1</td><td> 47.44030</td><td>3.756215e-08</td></tr>\n",
       "\t<tr><th scope=row>aSNR.fs:block.fs</th><td>   1.563197</td><td>1</td><td> 45.71000</td><td>2.175606e-01</td></tr>\n",
       "\t<tr><th scope=row>congruent.fs:block.fs</th><td>  52.659135</td><td>1</td><td> 47.04159</td><td>3.323100e-09</td></tr>\n",
       "\t<tr><th scope=row>aSNR.fs:congruent.fs:block.fs</th><td>   6.538140</td><td>1</td><td>428.46397</td><td>1.090214e-02</td></tr>\n",
       "</tbody>\n",
       "</table>\n"
      ],
      "text/latex": [
       "A anova: 8 × 4\n",
       "\\begin{tabular}{r|llll}\n",
       "  & F & Df & Df.res & Pr(>F)\\\\\n",
       "  & <dbl> & <dbl> & <dbl> & <dbl>\\\\\n",
       "\\hline\n",
       "\t(Intercept) & 1779.810237 & 1 &  48.79954 & 4.603624e-40\\\\\n",
       "\taSNR.fs &   74.781246 & 1 &  48.68139 & 2.097209e-11\\\\\n",
       "\tcongruent.fs &   48.963248 & 1 &  47.83592 & 7.549891e-09\\\\\n",
       "\tblock.fs &  161.491291 & 1 &  45.20722 & 1.591030e-16\\\\\n",
       "\taSNR.fs:congruent.fs &   42.934027 & 1 &  47.44030 & 3.756215e-08\\\\\n",
       "\taSNR.fs:block.fs &    1.563197 & 1 &  45.71000 & 2.175606e-01\\\\\n",
       "\tcongruent.fs:block.fs &   52.659135 & 1 &  47.04159 & 3.323100e-09\\\\\n",
       "\taSNR.fs:congruent.fs:block.fs &    6.538140 & 1 & 428.46397 & 1.090214e-02\\\\\n",
       "\\end{tabular}\n"
      ],
      "text/markdown": [
       "\n",
       "A anova: 8 × 4\n",
       "\n",
       "| <!--/--> | F &lt;dbl&gt; | Df &lt;dbl&gt; | Df.res &lt;dbl&gt; | Pr(&gt;F) &lt;dbl&gt; |\n",
       "|---|---|---|---|---|\n",
       "| (Intercept) | 1779.810237 | 1 |  48.79954 | 4.603624e-40 |\n",
       "| aSNR.fs |   74.781246 | 1 |  48.68139 | 2.097209e-11 |\n",
       "| congruent.fs |   48.963248 | 1 |  47.83592 | 7.549891e-09 |\n",
       "| block.fs |  161.491291 | 1 |  45.20722 | 1.591030e-16 |\n",
       "| aSNR.fs:congruent.fs |   42.934027 | 1 |  47.44030 | 3.756215e-08 |\n",
       "| aSNR.fs:block.fs |    1.563197 | 1 |  45.71000 | 2.175606e-01 |\n",
       "| congruent.fs:block.fs |   52.659135 | 1 |  47.04159 | 3.323100e-09 |\n",
       "| aSNR.fs:congruent.fs:block.fs |    6.538140 | 1 | 428.46397 | 1.090214e-02 |\n",
       "\n"
      ],
      "text/plain": [
       "                              F           Df Df.res    Pr(>F)      \n",
       "(Intercept)                   1779.810237 1   48.79954 4.603624e-40\n",
       "aSNR.fs                         74.781246 1   48.68139 2.097209e-11\n",
       "congruent.fs                    48.963248 1   47.83592 7.549891e-09\n",
       "block.fs                       161.491291 1   45.20722 1.591030e-16\n",
       "aSNR.fs:congruent.fs            42.934027 1   47.44030 3.756215e-08\n",
       "aSNR.fs:block.fs                 1.563197 1   45.71000 2.175606e-01\n",
       "congruent.fs:block.fs           52.659135 1   47.04159 3.323100e-09\n",
       "aSNR.fs:congruent.fs:block.fs    6.538140 1  428.46397 1.090214e-02"
      ]
     },
     "metadata": {},
     "output_type": "display_data"
    },
    {
     "data": {
      "text/plain": [
       "Linear mixed model fit by REML. t-tests use Satterthwaite's method [\n",
       "lmerModLmerTest]\n",
       "Formula: \n",
       "RT ~ aSNR.fs * congruent.fs * block.fs + (1 + aSNR.fs1 * congruent.fs1 +  \n",
       "    congruent.fs1 * block.fs1 + aSNR.fs1 * block.fs1 || subject)\n",
       "   Data: pct_df.med\n",
       "Control: lmerControl(optimizer = \"bobyqa\", optCtrl = list(maxfun = 2e+05))\n",
       "\n",
       "REML criterion at convergence: 8888.6\n",
       "\n",
       "Scaled residuals: \n",
       "    Min      1Q  Median      3Q     Max \n",
       "-2.9333 -0.4586 -0.0668  0.3340  4.3396 \n",
       "\n",
       "Random effects:\n",
       " Groups    Name                    Variance Std.Dev.\n",
       " subject   (Intercept)             12382.25 111.276 \n",
       " subject.1 aSNR.fs1                 2078.05  45.586 \n",
       " subject.2 congruent.fs1             414.02  20.348 \n",
       " subject.3 block.fs1                2820.01  53.104 \n",
       " subject.4 aSNR.fs1:congruent.fs1     62.37   7.898 \n",
       " subject.5 congruent.fs1:block.fs1   189.35  13.760 \n",
       " subject.6 aSNR.fs1:block.fs1        349.29  18.689 \n",
       " Residual                           8040.83  89.671 \n",
       "Number of obs: 723, groups:  subject, 50\n",
       "\n",
       "Fixed effects:\n",
       "                                 Estimate Std. Error      df t value Pr(>|t|)\n",
       "(Intercept)                       687.315     16.285  46.757  42.205  < 2e-16\n",
       "aSNR.fs1                          -63.564      7.345  47.807  -8.654 2.39e-11\n",
       "congruent.fs1                     -31.357      4.474  44.590  -7.008 1.04e-08\n",
       "block.fs1                         109.625      8.613  43.169  12.728 3.30e-16\n",
       "aSNR.fs1:congruent.fs1             23.330      3.556  42.455   6.562 5.89e-08\n",
       "aSNR.fs1:block.fs1                 -5.515      4.402  45.654  -1.253   0.2167\n",
       "congruent.fs1:block.fs1            28.643      3.939  42.564   7.272 5.52e-09\n",
       "aSNR.fs1:congruent.fs1:block.fs1    8.640      3.374 412.966   2.561   0.0108\n",
       "                                    \n",
       "(Intercept)                      ***\n",
       "aSNR.fs1                         ***\n",
       "congruent.fs1                    ***\n",
       "block.fs1                        ***\n",
       "aSNR.fs1:congruent.fs1           ***\n",
       "aSNR.fs1:block.fs1                  \n",
       "congruent.fs1:block.fs1          ***\n",
       "aSNR.fs1:congruent.fs1:block.fs1 *  \n",
       "---\n",
       "Signif. codes:  0 '***' 0.001 '**' 0.01 '*' 0.05 '.' 0.1 ' ' 1\n",
       "\n",
       "Correlation of Fixed Effects:\n",
       "             (Intr) aSNR.f1 cngr.1 blck.1 aSNR.fs1:c.1 aSNR.fs1:b.1 c.1:.1\n",
       "aSNR.fs1     -0.006                                                       \n",
       "congrnt.fs1  -0.009  0.019                                                \n",
       "block.fs1     0.032  0.005   0.010                                        \n",
       "aSNR.fs1:c.1  0.011 -0.025  -0.039 -0.011                                 \n",
       "aSNR.fs1:b.1  0.005  0.024  -0.018 -0.016  0.024                          \n",
       "cngrnt.1:.1   0.006 -0.012   0.019 -0.018  0.025        0.034             \n",
       "aSNR.1:.1:.  -0.006  0.015   0.023  0.020  0.008       -0.042       -0.045"
      ]
     },
     "metadata": {},
     "output_type": "display_data"
    }
   ],
   "source": [
    "#FINAL (report whichever of these you reported elsewhere---I think the car::Anova)\n",
    "\n",
    "Anova(rtccon.lm.1nc,test.statistic = \"F\",type=\"III\")\n",
    "#anova(rtccon.lm.1nc,type=\"III\")\n",
    "\n",
    "summary(rtccon.lm.1nc)"
   ]
  },
  {
   "cell_type": "code",
   "execution_count": null,
   "metadata": {},
   "outputs": [],
   "source": []
  }
 ],
 "metadata": {
  "kernelspec": {
   "display_name": "R",
   "language": "R",
   "name": "ir"
  },
  "language_info": {
   "codemirror_mode": "r",
   "file_extension": ".r",
   "mimetype": "text/x-r-source",
   "name": "R",
   "pygments_lexer": "r",
   "version": "4.0.2"
  }
 },
 "nbformat": 4,
 "nbformat_minor": 4
}
